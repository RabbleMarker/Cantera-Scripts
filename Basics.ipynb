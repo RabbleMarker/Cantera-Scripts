{
 "cells": [
  {
   "cell_type": "markdown",
   "id": "bf5e9290",
   "metadata": {},
   "source": [
    "# Working with CoolProp in Cantera\n",
    "Technische Universität Braunschweig \\\n",
    "Institut für Flugantriebe und Strömungsmaschinen (IFAS) \\\n",
    "Robert Mansurov"
   ]
  },
  {
   "cell_type": "markdown",
   "id": "24c157cc",
   "metadata": {},
   "source": [
    "Documentation:\\\n",
    "https://cantera.org/dev/python/thermo.html \\\n",
    "www.coolprop.org/coolprop/HighLevelAPI.html"
   ]
  },
  {
   "cell_type": "markdown",
   "id": "4a655035-4545-4361-b8a9-d9f25550d098",
   "metadata": {},
   "source": [
    "Make sure to install CoolProp into your environment! e.g. 'conda install -c conda-forge coolprop'"
   ]
  },
  {
   "cell_type": "code",
   "execution_count": 1,
   "id": "e2d9f216",
   "metadata": {},
   "outputs": [],
   "source": [
    "# We first import the usual cantera, numpy and matplotlib\n",
    "import cantera as ct\n",
    "import numpy as np\n",
    "import matplotlib.pyplot as plt\n",
    "\n",
    "# Additionally we import the high-level CoolProp interface, PropsSI\n",
    "# NOTE: Will error out if CoolProp is not installed!\n",
    "from CoolProp.CoolProp import PropsSI"
   ]
  },
  {
   "cell_type": "markdown",
   "id": "1dba13c0-64fc-40f2-8d74-5f8195e9a181",
   "metadata": {},
   "source": [
    "Cantera Utilizes array Objects. These can be pure Fluid Objects, or composite phase Objects:"
   ]
  },
  {
   "cell_type": "code",
   "execution_count": 2,
   "id": "d5a9627a",
   "metadata": {},
   "outputs": [],
   "source": [
    "#Pure Fluid Object for Oxygen\n",
    "oxygen = ct.Oxygen()\n",
    "\n",
    "#Composite Phase Object\n",
    "gas = ct.Solution('gri30.yaml')"
   ]
  },
  {
   "cell_type": "markdown",
   "id": "99b9e513-9a7b-4a81-a997-81cbe6452ed1",
   "metadata": {},
   "source": [
    "Obtaining the specific molar heat of Oxygen at a constant pressure of 101325 Pa and a Temperature of 300K would look like this:"
   ]
  },
  {
   "cell_type": "code",
   "execution_count": 3,
   "id": "28bf4dc3-46be-485e-b0dc-ab12edc2da06",
   "metadata": {},
   "outputs": [
    {
     "data": {
      "text/plain": [
       "29.43805497002353"
      ]
     },
     "execution_count": 3,
     "metadata": {},
     "output_type": "execute_result"
    }
   ],
   "source": [
    "# For pure Fluids, we feed the Temperature & Pressure into our PureFluid Object\n",
    "oxygen.TP = 300,101325\n",
    "\n",
    "# Then we calculate the specific molar heat at constant Pressure\n",
    "oxygen.cp_mole / 1000 # kJ/kmol/K"
   ]
  },
  {
   "cell_type": "code",
   "execution_count": 13,
   "id": "b1fc8168-22c6-4218-8b7f-d2a27d7c03c8",
   "metadata": {},
   "outputs": [
    {
     "data": {
      "text/plain": [
       "29.388071132483976"
      ]
     },
     "execution_count": 13,
     "metadata": {},
     "output_type": "execute_result"
    }
   ],
   "source": [
    "#We again feed the Temperature & Pressure into our Object\n",
    "gas.TP = 300,101325\n",
    "\n",
    "#composite phase Objects need to specify which Fluid we're working with\n",
    "O2 = gas.species(gas.species_index('O2'))\n",
    "\n",
    "# Then perform the Calculations for that single Fluid\n",
    "O2.thermo.cp (300) / 1000 # kJ/kmol/K"
   ]
  },
  {
   "cell_type": "markdown",
   "id": "d0dee810-3252-44fd-ad28-654fc02b3e45",
   "metadata": {},
   "source": [
    "CoolProp handles input and output at once, so the PropsSI function for the above example would look like this:"
   ]
  },
  {
   "cell_type": "code",
   "execution_count": 78,
   "id": "8bdc4004",
   "metadata": {},
   "outputs": [
    {
     "data": {
      "text/plain": [
       "29.435286558400477"
      ]
     },
     "execution_count": 78,
     "metadata": {},
     "output_type": "execute_result"
    }
   ],
   "source": [
    "PropsSI(\"CPMOLAR\", \"P\", 101325, \"T\", 300, \"O2\")\n",
    "#We query the specific molar heat at constant pressure \"CPMOLAR\",\n",
    "#at a Pressure \"P\" of 101325 Pa and Temperature \"T\" of 300K for the species \"O2\""
   ]
  },
  {
   "cell_type": "markdown",
   "id": "4527cf51-28a4-489a-98ba-1dfe60965ab4",
   "metadata": {},
   "source": [
    "The slight differences in values are due to the different pure fluid EOS used for each example \\\n",
    "For pure fluid Oxygen in Cantera see \"Thermodynamic Properties in Si\" by W.C. Reynolds, 1979, ISBN: 9780917606052 \\\n",
    "For gri30.yaml see http://combustion.berkeley.edu/gri-mech/version30/text30.html \\\n",
    "And for pure Oxygen in CoolProp, see https://doi.org/10.1016/0378-3812(85)87016-3 & https://doi.org/10.1063/1.555897"
   ]
  },
  {
   "cell_type": "markdown",
   "id": "e7477d57",
   "metadata": {},
   "source": [
    "Once the Values are Obtained, plotting them can all be done within Cantera:"
   ]
  },
  {
   "cell_type": "code",
   "execution_count": 15,
   "id": "4ebcce1e",
   "metadata": {},
   "outputs": [
    {
     "name": "stdout",
     "output_type": "stream",
     "text": [
      "[ 200.          218.18181818  236.36363636  254.54545455  272.72727273\n",
      "  290.90909091  309.09090909  327.27272727  345.45454545  363.63636364\n",
      "  381.81818182  400.          418.18181818  436.36363636  454.54545455\n",
      "  472.72727273  490.90909091  509.09090909  527.27272727  545.45454545\n",
      "  563.63636364  581.81818182  600.          618.18181818  636.36363636\n",
      "  654.54545455  672.72727273  690.90909091  709.09090909  727.27272727\n",
      "  745.45454545  763.63636364  781.81818182  800.          818.18181818\n",
      "  836.36363636  854.54545455  872.72727273  890.90909091  909.09090909\n",
      "  927.27272727  945.45454545  963.63636364  981.81818182 1000.\n",
      " 1018.18181818 1036.36363636 1054.54545455 1072.72727273 1090.90909091\n",
      " 1109.09090909 1127.27272727 1145.45454545 1163.63636364 1181.81818182\n",
      " 1200.         1218.18181818 1236.36363636 1254.54545455 1272.72727273\n",
      " 1290.90909091 1309.09090909 1327.27272727 1345.45454545 1363.63636364\n",
      " 1381.81818182 1400.         1418.18181818 1436.36363636 1454.54545455\n",
      " 1472.72727273 1490.90909091 1509.09090909 1527.27272727 1545.45454545\n",
      " 1563.63636364 1581.81818182 1600.         1618.18181818 1636.36363636\n",
      " 1654.54545455 1672.72727273 1690.90909091 1709.09090909 1727.27272727\n",
      " 1745.45454545 1763.63636364 1781.81818182 1800.         1818.18181818\n",
      " 1836.36363636 1854.54545455 1872.72727273 1890.90909091 1909.09090909\n",
      " 1927.27272727 1945.45454545 1963.63636364 1981.81818182 2000.        ]\n"
     ]
    }
   ],
   "source": [
    "T_start = 200\n",
    "T_end = 2000\n",
    "T_list = np.linspace(T_start, T_end, 100)\n",
    "cp_m_O2Pure_list = []\n",
    "cp_m_O2Composite_list = []\n",
    "cp_m_O2CoolProp_list = []\n",
    "\n",
    "#PureFluid O2\n",
    "for T in T_list:\n",
    "    oxygen.TP = T,101325\n",
    "    cp_m=oxygen.cp_mole/1000 # kJ/kmol/K\n",
    "    cp_m_O2Pure_list.append(cp_m)\n",
    "\n",
    "#Composite Phase Object O2\n",
    "for T in T_list:\n",
    "    cp_m=O2.thermo.cp(T)/1000 # kJ/kmol/K\n",
    "    cp_m_O2Composite_list.append(cp_m)\n",
    "\n",
    "#Collprop O2\n",
    "for T in T_list:\n",
    "    cp_m=PropsSI(\"CPMOLAR\", \"P\", 101325, \"T\", T, \"O2\") # kJ/kmol/K\n",
    "    cp_m_O2CoolProp_list.append(cp_m)\n",
    "\n",
    "\n",
    "print(T_list)"
   ]
  },
  {
   "cell_type": "code",
   "execution_count": 16,
   "id": "33440c9b",
   "metadata": {},
   "outputs": [
    {
     "data": {
      "text/plain": [
       "<matplotlib.legend.Legend at 0x771ee8056ba0>"
      ]
     },
     "execution_count": 16,
     "metadata": {},
     "output_type": "execute_result"
    },
    {
     "data": {
      "image/png": "[encoded data removed]",
      "text/plain": [
       "<Figure size 640x480 with 1 Axes>"
      ]
     },
     "metadata": {},
     "output_type": "display_data"
    }
   ],
   "source": [
    "#Plot the results\n",
    "plt.plot(T_list,cp_m_O2Pure_list, label='$PureFluid cp_{m,O_2}$')\n",
    "plt.plot(T_list,cp_m_O2Composite_list, label='$Composite cp_{m,O_2}$')\n",
    "plt.plot(T_list,cp_m_O2CoolProp_list, label='$Coolprop cp_{m,O_2}$')\n",
    "plt.xlabel('$T$ (K)')\n",
    "plt.ylabel('$c_p$ (kJ/kmol/K)')\n",
    "plt.title('Molar heat capacity at constant pressure of $O2$')\n",
    "plt.legend()"
   ]
  }
 ],
 "metadata": {
  "kernelspec": {
   "display_name": "Python 3 (ipykernel)",
   "language": "python",
   "name": "python3"
  },
  "language_info": {
   "codemirror_mode": {
    "name": "ipython",
    "version": 3
   },
   "file_extension": ".py",
   "mimetype": "text/x-python",
   "name": "python",
   "nbconvert_exporter": "python",
   "pygments_lexer": "ipython3",
   "version": "3.13.1"
  }
 },
 "nbformat": 4,
 "nbformat_minor": 5
}
