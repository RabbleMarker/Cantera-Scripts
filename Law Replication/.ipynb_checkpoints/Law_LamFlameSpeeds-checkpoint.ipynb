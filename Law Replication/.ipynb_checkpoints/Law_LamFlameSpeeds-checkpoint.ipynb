{
 "cells": [
  {
   "cell_type": "markdown",
   "metadata": {},
   "source": [
    "\n",
    "# Law Replication: Laminar Flame Speeds of H2-Air & Me-Air @100 Atm\n",
    "\n",
    "Burke Mechanism: \\\n",
    "https://burke.me.columbia.edu/sites/burke.me.columbia.edu/files/content/chem_cti.txt \\\n",
    "Dont forget to use \"cti2yaml\" to convert the downloaded chem_cti to a Cantera readable YAML file!  \\\n",
    "\n",
    "WebPlotDigitizer: \\\n",
    "https://apps.automeris.io/wpd4/"
   ]
  },
  {
   "cell_type": "code",
   "execution_count": 1,
   "metadata": {
    "collapsed": false,
    "jupyter": {
     "outputs_hidden": false
    }
   },
   "outputs": [],
   "source": [
    "import cantera as ct\n",
    "import numpy as np\n",
    "import matplotlib.pyplot as plt"
   ]
  },
  {
   "cell_type": "code",
   "execution_count": 2,
   "metadata": {},
   "outputs": [
    {
     "name": "stdout",
     "output_type": "stream",
     "text": [
      "Running Cantera version: 3.1.0\n"
     ]
    }
   ],
   "source": [
    "print(f\"Running Cantera version: {ct.__version__}\")"
   ]
  },
  {
   "cell_type": "markdown",
   "metadata": {},
   "source": [
    "First we import the Burke YAML as a gas object, identically to gri30"
   ]
  },
  {
   "cell_type": "code",
   "execution_count": 3,
   "metadata": {},
   "outputs": [],
   "source": [
    "gas1 = ct.Solution('Burke Mech/Burke_chem_cti.yaml') #Burke Mech is saved in a subfolder"
   ]
  },
  {
   "cell_type": "markdown",
   "metadata": {},
   "source": [
    "Now we set the Flame Characteristics, then solve the flame"
   ]
  },
  {
   "cell_type": "code",
   "execution_count": 4,
   "metadata": {},
   "outputs": [],
   "source": [
    "fuel = 'H2:1'\n",
    "oxidizer = 'O2:0.21,N2:0.79'\n",
    "gas1.set_equivalence_ratio(1.4, fuel, oxidizer) #Composition\n",
    "gas1.TP = 300, 101325 # Room Temperature, 1 atm\n",
    "\n",
    "flame1 = ct.FreeFlame(gas1, width=0.03)\n",
    "flame1.set_refine_criteria(ratio=3, slope=0.06, curve=0.11)\n",
    "loglevel = 1 # amount of diagnostic output\n",
    "#flame.show()"
   ]
  },
  {
   "cell_type": "code",
   "execution_count": 5,
   "metadata": {},
   "outputs": [
    {
     "name": "stdout",
     "output_type": "stream",
     "text": [
      "\n",
      "************ Solving on 8 point grid with energy equation enabled ************\n",
      "\n",
      "..............................................................................\n",
      "\n",
      "Attempt Newton solution of steady-state problem.\n",
      "Newton steady-state solve failed.\n",
      "\n",
      "Attempt 10 timesteps.\n",
      "Final timestep info: dt= 2.848e-05  log(ss)= 6.06      \n",
      "\n",
      "Attempt Newton solution of steady-state problem.\n",
      "Newton steady-state solve succeeded.\n",
      "\n",
      "Problem solved on [9] point grid(s).\n",
      "Expanding domain to accommodate flame thickness. New width: 0.06 m\n",
      "##############################################################################\n",
      "Refining grid in flame.\n",
      "    New points inserted after grid points 0 1 2 3 4 5 6 \n",
      "    to resolve H H2 H2O H2O2 HO2 N2 O O2 OH T velocity \n",
      "##############################################################################\n",
      "\n",
      "*********** Solving on 16 point grid with energy equation enabled ************\n",
      "\n",
      "..............................................................................\n",
      "\n",
      "Attempt Newton solution of steady-state problem.\n",
      "Newton steady-state solve failed.\n",
      "\n",
      "Attempt 10 timesteps.\n",
      "Final timestep info: dt= 6.328e-06  log(ss)= 7.486     \n",
      "\n",
      "Attempt Newton solution of steady-state problem.\n",
      "Newton steady-state solve succeeded.\n",
      "\n",
      "Problem solved on [16] point grid(s).\n",
      "\n",
      "..............................................................................\n",
      "grid refinement disabled.\n",
      "\n",
      "******************** Solving with grid refinement enabled ********************\n",
      "\n",
      "..............................................................................\n",
      "\n",
      "Attempt Newton solution of steady-state problem.\n",
      "Newton steady-state solve succeeded.\n",
      "\n",
      "Problem solved on [16] point grid(s).\n",
      "\n",
      "..............................................................................\n",
      "##############################################################################\n",
      "Refining grid in flame.\n",
      "    New points inserted after grid points 3 4 5 6 7 8 9 10 \n",
      "    to resolve H H2 H2O H2O2 HO2 N2 O O2 OH T velocity \n",
      "##############################################################################\n",
      "\n",
      "..............................................................................\n",
      "\n",
      "Attempt Newton solution of steady-state problem.\n",
      "Newton steady-state solve failed.\n",
      "\n",
      "Attempt 10 timesteps.\n",
      "Final timestep info: dt= 2.848e-05  log(ss)= 5.998     \n",
      "\n",
      "Attempt Newton solution of steady-state problem.\n",
      "Newton steady-state solve succeeded.\n",
      "\n",
      "Problem solved on [24] point grid(s).\n",
      "\n",
      "..............................................................................\n",
      "##############################################################################\n",
      "Refining grid in flame.\n",
      "    New points inserted after grid points 6 7 8 9 10 11 12 13 14 15 \n",
      "    to resolve H H2 H2O H2O2 HO2 N2 O O2 OH T velocity \n",
      "##############################################################################\n",
      "\n",
      "..............................................................................\n",
      "\n",
      "Attempt Newton solution of steady-state problem.\n",
      "Newton steady-state solve failed.\n",
      "\n",
      "Attempt 10 timesteps.\n",
      "Final timestep info: dt= 0.0001709  log(ss)= 4.716     \n",
      "\n",
      "Attempt Newton solution of steady-state problem.\n",
      "Newton steady-state solve succeeded.\n",
      "\n",
      "Problem solved on [34] point grid(s).\n",
      "\n",
      "..............................................................................\n",
      "##############################################################################\n",
      "Refining grid in flame.\n",
      "    New points inserted after grid points 9 10 11 12 13 14 15 16 17 20 21 30 \n",
      "    to resolve H H2 H2O H2O2 HO2 N2 O O2 OH T velocity \n",
      "##############################################################################\n",
      "\n",
      "..............................................................................\n",
      "\n",
      "Attempt Newton solution of steady-state problem.\n",
      "Newton steady-state solve succeeded.\n",
      "\n",
      "Problem solved on [46] point grid(s).\n",
      "\n",
      "..............................................................................\n",
      "##############################################################################\n",
      "Refining grid in flame.\n",
      "    New points inserted after grid points 12 13 14 15 16 17 18 19 20 21 \n",
      "    to resolve H H2 H2O H2O2 HO2 N2 O O2 OH T velocity \n",
      "##############################################################################\n",
      "\n",
      "..............................................................................\n",
      "\n",
      "Attempt Newton solution of steady-state problem.\n",
      "Newton steady-state solve succeeded.\n",
      "\n",
      "Problem solved on [56] point grid(s).\n",
      "\n",
      "..............................................................................\n",
      "##############################################################################\n",
      "Refining grid in flame.\n",
      "    New points inserted after grid points 14 15 16 17 18 19 20 21 22 23 24 \n",
      "    to resolve H H2 H2O H2O2 HO2 N2 O O2 OH T velocity \n",
      "##############################################################################\n",
      "\n",
      "..............................................................................\n",
      "\n",
      "Attempt Newton solution of steady-state problem.\n",
      "Newton steady-state solve succeeded.\n",
      "\n",
      "Problem solved on [67] point grid(s).\n",
      "\n",
      "..............................................................................\n",
      "##############################################################################\n",
      "Refining grid in flame.\n",
      "    New points inserted after grid points 17 18 19 20 21 22 23 24 25 26 27 28 29 \n",
      "    to resolve H H2 H2O H2O2 HO2 N2 O O2 OH T velocity \n",
      "##############################################################################\n",
      "\n",
      "..............................................................................\n",
      "\n",
      "Attempt Newton solution of steady-state problem.\n",
      "Newton steady-state solve succeeded.\n",
      "\n",
      "Problem solved on [80] point grid(s).\n",
      "\n",
      "..............................................................................\n",
      "##############################################################################\n",
      "Refining grid in flame.\n",
      "    New points inserted after grid points 20 21 22 23 24 25 26 27 28 29 30 31 32 33 34 35 36 37 \n",
      "    to resolve H H2 H2O H2O2 HO2 N2 O O2 OH T velocity \n",
      "##############################################################################\n",
      "\n",
      "..............................................................................\n",
      "\n",
      "Attempt Newton solution of steady-state problem.\n",
      "Newton steady-state solve succeeded.\n",
      "\n",
      "Problem solved on [98] point grid(s).\n",
      "\n",
      "..............................................................................\n",
      "##############################################################################\n",
      "Refining grid in flame.\n",
      "    New points inserted after grid points 22 23 24 25 26 27 28 29 30 31 32 33 34 35 36 37 38 39 40 41 42 43 44 45 46 \n",
      "    to resolve H H2O2 HO2 N2 O OH T velocity \n",
      "##############################################################################\n",
      "\n",
      "..............................................................................\n",
      "\n",
      "Attempt Newton solution of steady-state problem.\n",
      "Newton steady-state solve succeeded.\n",
      "\n",
      "Problem solved on [123] point grid(s).\n",
      "\n",
      "..............................................................................\n",
      "##############################################################################\n",
      "Refining grid in flame.\n",
      "    New points inserted after grid points 26 27 28 29 30 31 32 33 34 35 36 37 38 39 40 41 42 43 44 45 46 47 48 \n",
      "    to resolve H2O2 HO2 OH \n",
      "##############################################################################\n",
      "\n",
      "..............................................................................\n",
      "\n",
      "Attempt Newton solution of steady-state problem.\n",
      "Newton steady-state solve succeeded.\n",
      "\n",
      "Problem solved on [146] point grid(s).\n",
      "\n",
      "..............................................................................\n",
      "##############################################################################\n",
      "Refining grid in flame.\n",
      "    New points inserted after grid points 32 33 34 35 36 37 \n",
      "    to resolve HO2 \n",
      "##############################################################################\n",
      "\n",
      "..............................................................................\n",
      "\n",
      "Attempt Newton solution of steady-state problem.\n",
      "Newton steady-state solve succeeded.\n",
      "\n",
      "Problem solved on [152] point grid(s).\n",
      "\n",
      "..............................................................................\n",
      "no new points needed in flame\n",
      "Mixture-averaged flamespeed is: 2.98 m/s\n"
     ]
    }
   ],
   "source": [
    "# Solve with mixture averaged transort model \n",
    "flame1.transport_model='mixture-averaged'\n",
    "\n",
    "flame1.solve(loglevel=loglevel, auto=True)\n",
    "Su0 = flame1.velocity[0]\n",
    "print(f\"Mixture-averaged flamespeed is: {Su0 :.2f} m/s\")\n",
    "output= \"adiabatic_flame.yaml\"\n",
    "#flame.save(output,description='mixture-averaged')\n"
   ]
  },
  {
   "cell_type": "markdown",
   "metadata": {},
   "source": [
    "Works well, now to compare different thermo models!"
   ]
  },
  {
   "cell_type": "code",
   "execution_count": 6,
   "metadata": {},
   "outputs": [
    {
     "name": "stdout",
     "output_type": "stream",
     "text": [
      "[1.   1.05 1.1  1.15 1.2  1.25 1.3  1.35 1.4  1.45 1.5  1.55 1.6  1.65\n",
      " 1.7  1.75 1.8  1.85 1.9  1.95 2.   2.05 2.1 ]\n"
     ]
    }
   ],
   "source": [
    "phi = np.linspace(1.0,2.1, 23)\n",
    "print (phi)\n",
    "\n",
    "fuel = 'H2:1'\n",
    "oxidizer = 'O2:0.21,N2:0.79'\n",
    "loglevel = 0 # amount of diagnostic output"
   ]
  },
  {
   "cell_type": "code",
   "execution_count": 7,
   "metadata": {},
   "outputs": [
    {
     "name": "stdout",
     "output_type": "stream",
     "text": [
      "Mixture-averaged flamespeed is: 41.69 cm/s @phi 1.0\n",
      "Mixture-averaged flamespeed is: 49.12 cm/s @phi 1.05\n",
      "Mixture-averaged flamespeed is: 56.78 cm/s @phi 1.1\n",
      "Mixture-averaged flamespeed is: 63.36 cm/s @phi 1.15\n",
      "Mixture-averaged flamespeed is: 68.69 cm/s @phi 1.2\n",
      "Mixture-averaged flamespeed is: 72.72 cm/s @phi 1.25\n",
      "Mixture-averaged flamespeed is: 75.82 cm/s @phi 1.3\n",
      "Mixture-averaged flamespeed is: 77.90 cm/s @phi 1.35\n",
      "Mixture-averaged flamespeed is: 79.01 cm/s @phi 1.4\n",
      "Mixture-averaged flamespeed is: 79.64 cm/s @phi 1.45\n",
      "Mixture-averaged flamespeed is: 79.74 cm/s @phi 1.5\n",
      "Mixture-averaged flamespeed is: 79.45 cm/s @phi 1.55\n",
      "Mixture-averaged flamespeed is: 78.68 cm/s @phi 1.6\n",
      "Mixture-averaged flamespeed is: 78.37 cm/s @phi 1.65\n",
      "Mixture-averaged flamespeed is: 77.05 cm/s @phi 1.7000000000000002\n",
      "Mixture-averaged flamespeed is: 75.57 cm/s @phi 1.75\n",
      "Mixture-averaged flamespeed is: 73.91 cm/s @phi 1.8\n",
      "Mixture-averaged flamespeed is: 71.95 cm/s @phi 1.85\n",
      "Mixture-averaged flamespeed is: 69.96 cm/s @phi 1.9\n",
      "Mixture-averaged flamespeed is: 67.83 cm/s @phi 1.9500000000000002\n",
      "Mixture-averaged flamespeed is: 65.48 cm/s @phi 2.0\n",
      "Mixture-averaged flamespeed is: 63.23 cm/s @phi 2.05\n",
      "Mixture-averaged flamespeed is: 60.99 cm/s @phi 2.1\n"
     ]
    }
   ],
   "source": [
    "gas_ideal = ct.Solution('Burke Mech/Burke_chem_cti.yaml')\n",
    "Su_ideal = []\n",
    "\n",
    "#Ideal Case\n",
    "for i in phi:\n",
    "    gas_ideal.TP = 300, 10132500 # Room Temperature, 100 atm\n",
    "    gas_ideal.set_equivalence_ratio(i, fuel, oxidizer)\n",
    "    flameA = ct.FreeFlame(gas_ideal, width=0.03)\n",
    "    flameA.set_refine_criteria(ratio=3, slope=0.06, curve=0.11)\n",
    "    flameA.transport_model='mixture-averaged'\n",
    "    flameA.solve(loglevel=loglevel, auto=True)\n",
    "    Su0 = flameA.velocity[0]*100\n",
    "    print(f\"Mixture-averaged flamespeed is: {Su0 :.2f} cm/s @phi {i}\")\n",
    "    Su_ideal.append (Su0)"
   ]
  },
  {
   "cell_type": "code",
   "execution_count": 8,
   "metadata": {},
   "outputs": [
    {
     "name": "stdout",
     "output_type": "stream",
     "text": [
      "Mixture-averaged flamespeed is: 43.27 cm/s @phi 1.0\n",
      "Mixture-averaged flamespeed is: 50.72 cm/s @phi 1.05\n",
      "Mixture-averaged flamespeed is: 58.28 cm/s @phi 1.1\n",
      "Mixture-averaged flamespeed is: 64.66 cm/s @phi 1.15\n",
      "Mixture-averaged flamespeed is: 69.79 cm/s @phi 1.2\n",
      "Mixture-averaged flamespeed is: 73.67 cm/s @phi 1.25\n",
      "Mixture-averaged flamespeed is: 76.59 cm/s @phi 1.3\n",
      "Mixture-averaged flamespeed is: 78.53 cm/s @phi 1.35\n",
      "Mixture-averaged flamespeed is: 79.54 cm/s @phi 1.4\n",
      "Mixture-averaged flamespeed is: 80.10 cm/s @phi 1.45\n",
      "Mixture-averaged flamespeed is: 80.13 cm/s @phi 1.5\n",
      "Mixture-averaged flamespeed is: 79.78 cm/s @phi 1.55\n",
      "Mixture-averaged flamespeed is: 78.97 cm/s @phi 1.6\n",
      "Mixture-averaged flamespeed is: 78.01 cm/s @phi 1.65\n",
      "Mixture-averaged flamespeed is: 77.31 cm/s @phi 1.7000000000000002\n",
      "Mixture-averaged flamespeed is: 75.81 cm/s @phi 1.75\n",
      "Mixture-averaged flamespeed is: 74.14 cm/s @phi 1.8\n",
      "Mixture-averaged flamespeed is: 72.23 cm/s @phi 1.85\n",
      "Mixture-averaged flamespeed is: 70.25 cm/s @phi 1.9\n",
      "Mixture-averaged flamespeed is: 68.14 cm/s @phi 1.9500000000000002\n",
      "Mixture-averaged flamespeed is: 65.81 cm/s @phi 2.0\n",
      "Mixture-averaged flamespeed is: 63.57 cm/s @phi 2.05\n",
      "Mixture-averaged flamespeed is: 61.34 cm/s @phi 2.1\n"
     ]
    }
   ],
   "source": [
    "gas_RK = ct.Solution('Burke Mech/Burke_chem_cti.yaml')\n",
    "Su_RK = []\n",
    "\n",
    "#R-K Case\n",
    "for i in phi:\n",
    "    gas_RK.TP = 300, 10132500 # Room Temperature, 100 atm\n",
    "    gas_RK.set_equivalence_ratio(i, fuel, oxidizer)\n",
    "    flameB = ct.FreeFlame(gas_RK, width=0.03)\n",
    "    flameB.set_refine_criteria(ratio=3, slope=0.06, curve=0.11)\n",
    "    flameB.transport_model = 'multicomponent'\n",
    "    flameB.solve(loglevel=loglevel, auto=True)\n",
    "    Su0 = flameB.velocity[0]*100\n",
    "    print(f\"Mixture-averaged flamespeed is: {Su0 :.2f} cm/s @phi {i}\")\n",
    "    Su_RK.append (Su0)"
   ]
  },
  {
   "cell_type": "code",
   "execution_count": 9,
   "metadata": {},
   "outputs": [
    {
     "name": "stdout",
     "output_type": "stream",
     "text": [
      "[np.float64(43.27118914803554), np.float64(50.72040167430316), np.float64(58.275963071721925), np.float64(64.65736479237387), np.float64(69.79105348938361), np.float64(73.67013339576106), np.float64(76.58642899861886), np.float64(78.53497419505082), np.float64(79.54026619602105), np.float64(80.09586342573579), np.float64(80.13380905709712), np.float64(79.7792872506265), np.float64(78.9660987634777), np.float64(78.0052379243548), np.float64(77.31191019644187), np.float64(75.80804395036384), np.float64(74.1428169601602), np.float64(72.22540115314962), np.float64(70.2546872769971), np.float64(68.14212410747822), np.float64(65.81196856347411), np.float64(63.56856654634768), np.float64(61.33835785155936)]\n",
      "[np.float64(41.68802672275122), np.float64(49.118204748955854), np.float64(56.782416911777425), np.float64(63.35607541931891), np.float64(68.69293969062265), np.float64(72.72446296718628), np.float64(75.82299444808525), np.float64(77.90418446318685), np.float64(79.01360413681763), np.float64(79.64280600088158), np.float64(79.74493392929271), np.float64(79.4468575287231), np.float64(78.68233400418237), np.float64(78.36968324004656), np.float64(77.05379234282063), np.float64(75.56722054733368), np.float64(73.91313763956407), np.float64(71.95068126674514), np.float64(69.96395459859606), np.float64(67.82776548495956), np.float64(65.48295289330376), np.float64(63.23169495946866), np.float64(60.98861576544237)]\n",
      "[np.float64(1.5831624252843213), np.float64(1.6021969253473074), np.float64(1.4935461599445006), np.float64(1.3012893730549564), np.float64(1.0981137987609628), np.float64(0.9456704285747719), np.float64(0.7634345505336029), np.float64(0.6307897318639704), np.float64(0.5266620592034172), np.float64(0.4530574248542081), np.float64(0.38887512780441114), np.float64(0.33242972190339515), np.float64(0.2837647592953374), np.float64(-0.36444531569175354), np.float64(0.2581178536212434), np.float64(0.2408234030301628), np.float64(0.2296793205961336), np.float64(0.2747198864044833), np.float64(0.2907326784010422), np.float64(0.3143586225186681), np.float64(0.3290156701703495), np.float64(0.3368715868790204), np.float64(0.34974208611699)]\n"
     ]
    }
   ],
   "source": [
    "Su_diff = []\n",
    "\n",
    "print (Su_RK)\n",
    "print (Su_ideal)\n",
    "\n",
    "for a, b in zip(Su_RK, Su_ideal):\n",
    "    Su_diff.append(a - b)\n",
    "print (Su_diff)"
   ]
  },
  {
   "cell_type": "code",
   "execution_count": 10,
   "metadata": {},
   "outputs": [
    {
     "name": "stdout",
     "output_type": "stream",
     "text": [
      "Mixture-averaged flamespeed is: 41.67 cm/s @phi 1.0\n",
      "Mixture-averaged flamespeed is: 48.22 cm/s @phi 1.05\n",
      "Mixture-averaged flamespeed is: 55.22 cm/s @phi 1.1\n",
      "Mixture-averaged flamespeed is: 62.04 cm/s @phi 1.15\n",
      "Mixture-averaged flamespeed is: 66.43 cm/s @phi 1.2\n",
      "Mixture-averaged flamespeed is: 70.01 cm/s @phi 1.25\n",
      "Mixture-averaged flamespeed is: 72.73 cm/s @phi 1.3\n",
      "Mixture-averaged flamespeed is: 74.57 cm/s @phi 1.35\n",
      "Mixture-averaged flamespeed is: 75.75 cm/s @phi 1.4\n",
      "Mixture-averaged flamespeed is: 76.32 cm/s @phi 1.45\n",
      "Mixture-averaged flamespeed is: 76.42 cm/s @phi 1.5\n",
      "Mixture-averaged flamespeed is: 76.24 cm/s @phi 1.55\n",
      "Mixture-averaged flamespeed is: 75.54 cm/s @phi 1.6\n",
      "Mixture-averaged flamespeed is: 74.70 cm/s @phi 1.65\n",
      "Mixture-averaged flamespeed is: 73.51 cm/s @phi 1.7000000000000002\n",
      "Mixture-averaged flamespeed is: 72.07 cm/s @phi 1.75\n",
      "Mixture-averaged flamespeed is: 70.24 cm/s @phi 1.8\n",
      "Mixture-averaged flamespeed is: 68.61 cm/s @phi 1.85\n",
      "Mixture-averaged flamespeed is: 66.81 cm/s @phi 1.9\n",
      "Mixture-averaged flamespeed is: 65.01 cm/s @phi 1.9500000000000002\n",
      "Mixture-averaged flamespeed is: 62.93 cm/s @phi 2.0\n",
      "Mixture-averaged flamespeed is: 61.20 cm/s @phi 2.05\n",
      "Mixture-averaged flamespeed is: 58.98 cm/s @phi 2.1\n"
     ]
    }
   ],
   "source": [
    "gas_RK2 = ct.Solution('Burke Mech/Burke_chem_cti.yaml')\n",
    "Su_RK2 = []\n",
    "\n",
    "#R-K Case\n",
    "for i in phi:\n",
    "    gas_RK2.TP = 300, 10132500 # Room Temperature, 100 atm\n",
    "    gas_RK2.set_equivalence_ratio(i, fuel, oxidizer)\n",
    "    flameB = ct.FreeFlame(gas_RK2, width=0.03)\n",
    "    flameB.set_refine_criteria(ratio=3, slope=0.06, curve=0.11)\n",
    "    flameB.transport_model = 'multicomponent'\n",
    "    flameB.soret_enabled = True\n",
    "    flameB.solve(loglevel=loglevel, auto=True)\n",
    "    Su0 = flameB.velocity[0]*100\n",
    "    print(f\"Mixture-averaged flamespeed is: {Su0 :.2f} cm/s @phi {i}\")\n",
    "    Su_RK2.append (Su0)"
   ]
  },
  {
   "cell_type": "code",
   "execution_count": 11,
   "metadata": {},
   "outputs": [
    {
     "name": "stdout",
     "output_type": "stream",
     "text": [
      "Mixture-averaged flamespeed is: 26.63 cm/s @phi 1.0\n",
      "Mixture-averaged flamespeed is: 31.39 cm/s @phi 1.05\n",
      "Mixture-averaged flamespeed is: 37.39 cm/s @phi 1.1\n",
      "Mixture-averaged flamespeed is: 42.11 cm/s @phi 1.15\n",
      "Mixture-averaged flamespeed is: 45.71 cm/s @phi 1.2\n",
      "Mixture-averaged flamespeed is: 48.54 cm/s @phi 1.25\n",
      "Mixture-averaged flamespeed is: 50.59 cm/s @phi 1.3\n",
      "Mixture-averaged flamespeed is: 52.02 cm/s @phi 1.35\n",
      "Mixture-averaged flamespeed is: 52.98 cm/s @phi 1.4\n",
      "Mixture-averaged flamespeed is: 53.41 cm/s @phi 1.45\n",
      "Mixture-averaged flamespeed is: 53.47 cm/s @phi 1.5\n",
      "Mixture-averaged flamespeed is: 53.18 cm/s @phi 1.55\n",
      "Mixture-averaged flamespeed is: 52.68 cm/s @phi 1.6\n",
      "Mixture-averaged flamespeed is: 51.96 cm/s @phi 1.65\n",
      "Mixture-averaged flamespeed is: 51.10 cm/s @phi 1.7000000000000002\n",
      "Mixture-averaged flamespeed is: 50.07 cm/s @phi 1.75\n",
      "Mixture-averaged flamespeed is: 48.89 cm/s @phi 1.8\n",
      "Mixture-averaged flamespeed is: 47.54 cm/s @phi 1.85\n",
      "Mixture-averaged flamespeed is: 46.25 cm/s @phi 1.9\n",
      "Mixture-averaged flamespeed is: 45.17 cm/s @phi 1.9500000000000002\n",
      "Mixture-averaged flamespeed is: 43.55 cm/s @phi 2.0\n",
      "Mixture-averaged flamespeed is: 42.38 cm/s @phi 2.05\n",
      "Mixture-averaged flamespeed is: 41.02 cm/s @phi 2.1\n"
     ]
    }
   ],
   "source": [
    "gas_RK3 = ct.Solution('h2o2.yaml', thermo='ideal-gas')\n",
    "Su_RK3 = []\n",
    "#R-K Case\n",
    "for i in phi:\n",
    "    gas_RK3.TP = 300, 10132500 # Room Temperature, 100 atm\n",
    "    gas_RK3.set_equivalence_ratio(i, fuel, oxidizer)\n",
    "    flameB = ct.FreeFlame(gas_RK3, width=0.03)\n",
    "    flameB.set_refine_criteria(ratio=3, slope=0.06, curve=0.11)\n",
    "    flameB.transport_model = 'mixture-averaged'\n",
    "    flameB.solve(loglevel=loglevel, auto=True)\n",
    "    Su0 = flameB.velocity[0]*100\n",
    "    print(f\"Mixture-averaged flamespeed is: {Su0 :.2f} cm/s @phi {i}\")\n",
    "    Su_RK3.append (Su0)"
   ]
  },
  {
   "cell_type": "code",
   "execution_count": 12,
   "metadata": {},
   "outputs": [
    {
     "name": "stdout",
     "output_type": "stream",
     "text": [
      "Mixture-averaged flamespeed is: 26.91 cm/s @phi 1.0\n",
      "Mixture-averaged flamespeed is: 32.13 cm/s @phi 1.05\n",
      "Mixture-averaged flamespeed is: 37.52 cm/s @phi 1.1\n",
      "Mixture-averaged flamespeed is: 42.25 cm/s @phi 1.15\n",
      "Mixture-averaged flamespeed is: 45.73 cm/s @phi 1.2\n",
      "Mixture-averaged flamespeed is: 48.37 cm/s @phi 1.25\n",
      "Mixture-averaged flamespeed is: 50.24 cm/s @phi 1.3\n",
      "Mixture-averaged flamespeed is: 51.51 cm/s @phi 1.35\n",
      "Mixture-averaged flamespeed is: 52.27 cm/s @phi 1.4\n",
      "Mixture-averaged flamespeed is: 52.66 cm/s @phi 1.45\n",
      "Mixture-averaged flamespeed is: 52.65 cm/s @phi 1.5\n",
      "Mixture-averaged flamespeed is: 52.38 cm/s @phi 1.55\n",
      "Mixture-averaged flamespeed is: 51.76 cm/s @phi 1.6\n",
      "Mixture-averaged flamespeed is: 50.98 cm/s @phi 1.65\n",
      "Mixture-averaged flamespeed is: 50.10 cm/s @phi 1.7000000000000002\n",
      "Mixture-averaged flamespeed is: 49.09 cm/s @phi 1.75\n",
      "Mixture-averaged flamespeed is: 47.97 cm/s @phi 1.8\n",
      "Mixture-averaged flamespeed is: 46.80 cm/s @phi 1.85\n",
      "Mixture-averaged flamespeed is: 45.54 cm/s @phi 1.9\n",
      "Mixture-averaged flamespeed is: 44.28 cm/s @phi 1.9500000000000002\n",
      "Mixture-averaged flamespeed is: 42.95 cm/s @phi 2.0\n",
      "Mixture-averaged flamespeed is: 41.60 cm/s @phi 2.05\n",
      "Mixture-averaged flamespeed is: 40.29 cm/s @phi 2.1\n"
     ]
    }
   ],
   "source": [
    "gas_RK4 = ct.Solution('h2o2.yaml', thermo='Redlich-Kwong')\n",
    "Su_RK4 = []\n",
    "\n",
    "#R-K Case\n",
    "for i in phi:\n",
    "    gas_RK4.TP = 300, 10132500 # Room Temperature, 100 atm\n",
    "    gas_RK4.set_equivalence_ratio(i, fuel, oxidizer)\n",
    "    flameB = ct.FreeFlame(gas_RK4, width=0.03)\n",
    "    flameB.set_refine_criteria(ratio=3, slope=0.02, curve=0.10)\n",
    "    flameB.transport_model = 'mixture-averaged'\n",
    "    flameB.solve(loglevel=loglevel, auto=True)\n",
    "    Su0 = flameB.velocity[0]*100\n",
    "    print(f\"Mixture-averaged flamespeed is: {Su0 :.2f} cm/s @phi {i}\")\n",
    "    Su_RK4.append (Su0)"
   ]
  },
  {
   "cell_type": "markdown",
   "metadata": {},
   "source": [
    "The Difference between ideal-gas and r-k Thermo is 0.\n",
    "The Burke mechanism does not contain EOS variability!"
   ]
  },
  {
   "cell_type": "code",
   "execution_count": 13,
   "metadata": {},
   "outputs": [],
   "source": [
    "import pandas as pd\n",
    "\n",
    "Law_SRK = pd.read_csv('Extracted Plots/Law_Fig3_Case2.csv')\n",
    "Law_SRK.head()\n",
    "Law_Ideal = pd.read_csv('Extracted Plots/Law_Fig3_Case1.csv')"
   ]
  },
  {
   "cell_type": "code",
   "execution_count": 14,
   "metadata": {},
   "outputs": [],
   "source": [
    "%config InlineBackend.figure_formats = ['svg'] #svg look better!"
   ]
  },
  {
   "cell_type": "code",
   "execution_count": 14,
   "metadata": {},
   "outputs": [
    {
     "data": {
      "image/png": "[encoded data removed]",
      "text/plain": [
       "<Figure size 640x480 with 1 Axes>"
      ]
     },
     "metadata": {},
     "output_type": "display_data"
    }
   ],
   "source": [
    "fig, ax1 = plt.subplots()\n",
    "ax1.plot(phi,Su_RK, label='$BurkeMech, Multicomponent$')\n",
    "ax1.plot(phi,Su_RK2, label='$BurkeMech, Multicomponent+Soret$')\n",
    "ax1.plot(phi,Su_RK2, label='$CoolPropHEOS, Multicomponent+Soret$')\n",
    "#ax1.plot(phi,Su_RK3, label='$H2O2mech, Idealgas$')\n",
    "#ax1.plot(phi,Su_RK4, label='$H2O2mech, RedlichKwong$')\n",
    "#ax1.plot(phi,Su_ideal, label='$BurkeMech, Mixture Average$')\n",
    "ax1.plot(Law_SRK['phi'], Law_SRK['v'], 'b--', label='$Law Reference SRK$')\n",
    "ax1.plot(Law_Ideal['phi'], Law_Ideal['v'], 'r--', label='$Law Reference Ideal$')\n",
    "ax1.set_xlabel('Equivalence Ratio')\n",
    "ax1.set_ylabel('Laminar Flame Speed (m/s)')\n",
    "ax1.set_xlim(1.0, 2.1)\n",
    "ax1.set_ylim(20, 82)\n",
    "ax1.set_yticks([20, 30, 40 ,50, 60, 70, 80])\n",
    "ax1.minorticks_on()\n",
    "plt.legend()\n",
    "plt.savefig(\"Graphs/Lam_Speeds_phiVaried\")\n",
    "plt.show()"
   ]
  },
  {
   "cell_type": "markdown",
   "metadata": {},
   "source": [
    "There are clear differences compared to Law et als case.\n",
    "This is not good"
   ]
  },
  {
   "cell_type": "markdown",
   "metadata": {},
   "source": [
    "Using the full gri30 mech for the ideal case takes very long, so we prepare a reduced mech"
   ]
  },
  {
   "cell_type": "code",
   "execution_count": 15,
   "metadata": {},
   "outputs": [
    {
     "name": "stdout",
     "output_type": "stream",
     "text": [
      "Reduced mechanism contains 12 species and 34 reactions.\n"
     ]
    }
   ],
   "source": [
    "gas_GRI = ct.Solution('gri30.yaml',thermo='ideal-gas')\n",
    "\n",
    "# all species from Burke mech, minus Helium (not present in GRI):\n",
    "species_names = ['H', 'H2', 'O', 'OH', 'H2O', 'O2', 'HO2', 'H2O2', 'N2', 'AR', 'CO', 'CO2'] \n",
    "species_list = [gas_GRI.species(name) for name in species_names]\n",
    "\n",
    "# Create a new list of reactions that involve only the species of interest\n",
    "reactions_to_keep = []\n",
    "for i in gas_GRI.reactions():\n",
    "    reactants = set(i.reactants.keys())  # Set of reactant species names\n",
    "    products = set(i.products.keys())  # Set of product species names\n",
    "    # Check if the reaction involves only species of interest\n",
    "    if reactants.issubset(species_names) and products.issubset(species_names):\n",
    "        reactions_to_keep.append(i)\n",
    "\n",
    "# create the new reduced mechanism\n",
    "gas_ideal = ct.Solution(thermo='ideal-gas', kinetics='gas', species=species_list, reactions=reactions_to_keep, transport_model='mixture-averaged')\n",
    "\n",
    "# Output the reduced mechanism\n",
    "print(f\"Reduced mechanism contains {len(gas_ideal.species())} species and {len(gas_ideal.reactions())} reactions.\")"
   ]
  }
 ],
 "metadata": {
  "kernelspec": {
   "display_name": "Python 3 (ipykernel)",
   "language": "python",
   "name": "python3"
  },
  "language_info": {
   "codemirror_mode": {
    "name": "ipython",
    "version": 3
   },
   "file_extension": ".py",
   "mimetype": "text/x-python",
   "name": "python",
   "nbconvert_exporter": "python",
   "pygments_lexer": "ipython3",
   "version": "3.13.1"
  }
 },
 "nbformat": 4,
 "nbformat_minor": 4
}
