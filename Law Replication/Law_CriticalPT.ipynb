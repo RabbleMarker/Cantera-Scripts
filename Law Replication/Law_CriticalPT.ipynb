{
 "cells": [
  {
   "cell_type": "markdown",
   "metadata": {},
   "source": [
    "\n",
    "# Law Replication: Critical Temperatures and Pressures of H2-Air & Me-Air Mixtures\n",
    "\n",
    "Burke Mechanism: \\\n",
    "https://burke.me.columbia.edu/sites/burke.me.columbia.edu/files/content/chem_cti.txt\n",
    "\n",
    "Cantera Critical State Properties: \\\n",
    "https://cantera.org/stable/examples/python/thermo/critical_properties.html\n",
    "\n",
    "Coolprop Cubic EOS & Mixture Handling: \\\n",
    "http://www.coolprop.org/coolprop/Cubics.html \\\n",
    "http://www.coolprop.org/dev/fluid_properties/Mixtures.html\n",
    "\n",
    "Coolprop Low Level Interface: \\\n",
    "http://www.coolprop.org/coolprop/LowLevelAPI.html"
   ]
  },
  {
   "cell_type": "code",
   "execution_count": 1,
   "metadata": {
    "collapsed": false,
    "jupyter": {
     "outputs_hidden": false
    }
   },
   "outputs": [],
   "source": [
    "import cantera as ct\n",
    "import numpy as np\n",
    "import matplotlib.pyplot as plt\n",
    "import CoolProp.CoolProp as CP\n",
    "from CoolProp.CoolProp import PropsSI"
   ]
  },
  {
   "cell_type": "markdown",
   "metadata": {},
   "source": [
    "First I am comparing the Critical Properties of Pure fluids between Canteras built-in EOSs and Coolprops EOS, to get a baseline. \\\n",
    "The code is analogous to Canteras Critical State Properties example"
   ]
  },
  {
   "cell_type": "code",
   "execution_count": 2,
   "metadata": {},
   "outputs": [
    {
     "name": "stdout",
     "output_type": "stream",
     "text": [
      "Critical State Properties\n",
      "     Fluid         Tc [K]     Pc [Atm]      Zc   \n",
      "----------------   -------   ----------   -------\n",
      "N2                  126.20        33.56    0.2891\n",
      "CH4                 190.56        45.39    0.2904\n",
      "H2                   32.94        12.67    0.3013\n",
      "O2                  154.58        49.77    0.2879\n",
      "\n",
      "Critical State Properties in Coolprop\n",
      "     Fluid         Tc [K]     Pc [Pa]       Zc   \n",
      "----------------   -------   ----------   -------\n",
      "CP_N2               126.19        33.51    0.2894\n",
      "CP_CH4              190.56        45.39    0.2863\n",
      "CP_H2                33.15        12.79    0.3033\n",
      "CP_O2               154.58        49.77    0.2879\n",
      "CP_Air              132.53        37.36    0.2904\n"
     ]
    }
   ],
   "source": [
    "fluids = {'N2': ct.Nitrogen(),\n",
    "          'CH4': ct.Methane(),\n",
    "          'H2': ct.Hydrogen(),\n",
    "          'O2': ct.Oxygen(),\n",
    "          }\n",
    "print('Critical State Properties')\n",
    "print(f\"{'Fluid':^16s}   {'Tc [K]':^7s}   {'Pc [Atm]':^10s}   {'Zc':^7s}\")\n",
    "print(f\"{'-'*16}   {'-'*7}   {'-'*10}   {'-'*7}\")\n",
    "\n",
    "for name in fluids:\n",
    "    f = fluids[name]\n",
    "    tc = f.critical_temperature\n",
    "    pc = f.critical_pressure\n",
    "    rc = f.critical_density\n",
    "    mw = f.mean_molecular_weight # kg/kmol\n",
    "    zc = pc * mw / (rc * ct.gas_constant * tc)\n",
    "    print(f'{name:16s}   {tc:7.2f}   {pc/101325:10.4g}   {zc:7.4f}')\n",
    "\n",
    "\n",
    "# PropsSI doesn't like using indexes in its function\n",
    "# Instead I am going trough each gas manually, 1 to 5\n",
    "\n",
    "print()\n",
    "print('Critical State Properties in Coolprop')\n",
    "print(f\"{'Fluid':^16s}   {'Tc [K]':^7s}   {'Pc [Pa]':^10s}   {'Zc':^7s}\")\n",
    "print(f\"{'-'*16}   {'-'*7}   {'-'*10}   {'-'*7}\")\n",
    "\n",
    "name1 = 'CP_N2'\n",
    "tc1 = PropsSI(\"Tcrit\", \"P\", 101325, \"T\", 300, \"N2\")\n",
    "pc1 = PropsSI(\"pcrit\", \"P\", 101325, \"T\", 300, \"N2\")\n",
    "rc1 = PropsSI(\"rhocrit\", \"P\", 101325, \"T\", 300, \"N2\")\n",
    "mw1 = PropsSI(\"molemass\", \"P\", 101325, \"T\", 300, \"N2\") # kg/mol\n",
    "zc1 = pc1 * mw1 * 1000 / (rc1 * ct.gas_constant * tc1) # Increased by a factor of 1000 due to unit change\n",
    "print(f'{name1:16s}   {tc1:7.2f}   {pc1/101325:10.4g}   {zc1:7.4f}')\n",
    "\n",
    "name2 = 'CP_CH4'\n",
    "tc2 = PropsSI(\"Tcrit\", \"P\", 101325, \"T\", 300, \"CH4\")\n",
    "pc2 = PropsSI(\"pcrit\", \"P\", 101325, \"T\", 300, \"CH4\")\n",
    "rc2 = PropsSI(\"rhocrit\", \"P\", 101325, \"T\", 300, \"CH4\")\n",
    "mw2 = PropsSI(\"molemass\", \"P\", 101325, \"T\", 300, \"CH4\")\n",
    "zc2 = pc2 * mw2 * 1000 / (rc2 * ct.gas_constant * tc2)\n",
    "print(f'{name2:16s}   {tc2:7.2f}   {pc2/101325:10.4g}   {zc2:7.4f}')\n",
    "\n",
    "name3 = 'CP_H2'\n",
    "tc3 = PropsSI(\"Tcrit\", \"P\", 101325, \"T\", 300, \"H2\")\n",
    "pc3 = PropsSI(\"pcrit\", \"P\", 101325, \"T\", 300, \"H2\")\n",
    "rc3 = PropsSI(\"rhocrit\", \"P\", 101325, \"T\", 300, \"H2\")\n",
    "mw3 = PropsSI(\"molemass\", \"P\", 101325, \"T\", 300, \"H2\")\n",
    "zc3 = pc3 * mw3 * 1000 / (rc3 * ct.gas_constant * tc3)\n",
    "print(f'{name3:16s}   {tc3:7.2f}   {pc3/101325:10.4g}   {zc3:7.4f}')\n",
    "\n",
    "name4 = 'CP_O2'\n",
    "tc4 = PropsSI(\"Tcrit\", \"P\", 101325, \"T\", 300, \"O2\")\n",
    "pc4 = PropsSI(\"pcrit\", \"P\", 101325, \"T\", 300, \"O2\")\n",
    "rc4 = PropsSI(\"rhocrit\", \"P\", 101325, \"T\", 300, \"O2\")\n",
    "mw4 = PropsSI(\"molemass\", \"P\", 101325, \"T\", 300, \"O2\")\n",
    "zc4 = pc4 * mw4 * 1000 / (rc4 * ct.gas_constant * tc4)\n",
    "print(f'{name4:16s}   {tc4:7.2f}   {pc4/101325:10.4g}   {zc4:7.4f}')\n",
    "\n",
    "name5 = 'CP_Air' # Present in Coolprop\n",
    "tc5 = PropsSI(\"Tcrit\", \"P\", 101325, \"T\", 300, \"Air\")\n",
    "pc5 = PropsSI(\"pcrit\", \"P\", 101325, \"T\", 300, \"Air\")\n",
    "rc5 = PropsSI(\"rhocrit\", \"P\", 101325, \"T\", 300, \"Air\")\n",
    "mw5 = PropsSI(\"molemass\", \"P\", 101325, \"T\", 300, \"Air\")\n",
    "zc5 = pc5 * mw5 * 1000 / (rc5 * ct.gas_constant * tc5)\n",
    "print(f'{name5:16s}   {tc5:7.2f}   {pc5/101325:10.4g}   {zc5:7.4f}')"
   ]
  },
  {
   "cell_type": "markdown",
   "metadata": {},
   "source": [
    "These values are negligibly different.\n",
    "\n",
    "Now to calculate critical properties of Mixtures: \\\n",
    "Critical properties in Mixtures are not implemented in Cantera, as seen below"
   ]
  },
  {
   "cell_type": "code",
   "execution_count": 4,
   "metadata": {},
   "outputs": [],
   "source": [
    "gas1 = ct.Solution('Burke Mech/Burke_chem_cti.yaml')\n",
    "fuel = 'H2:1'\n",
    "oxidizer = 'O2:0.21,N2:0.79'\n",
    "gas1.TP = 101325, 300\n",
    "gas1.set_equivalence_ratio(1, fuel, oxidizer)\n",
    "#gas1.critical_temperature()\n",
    "#gas1.critical_pressure()"
   ]
  },
  {
   "cell_type": "markdown",
   "metadata": {},
   "source": [
    "http://www.coolprop.org/coolprop/Cubics.html#mixtures\n",
    "Instead, we will utilize CoolProps Low-Level interface to do the calculations."
   ]
  },
  {
   "cell_type": "code",
   "execution_count": 5,
   "metadata": {},
   "outputs": [
    {
     "name": "stdout",
     "output_type": "stream",
     "text": [
      "Critical State Properties of Hydrogen-Air in Coolprop using different Backends:\n",
      "Hydrogen SRK:\n",
      "120.17183929788499\n",
      "67.70122013450785\n",
      "Hydrogen PR:\n",
      "119.49665108532542\n",
      "65.77011694027284\n",
      "Hydrogen HEOS:\n",
      "126.05583339608778\n",
      "102.94691284011917\n",
      "Methane SRK:\n",
      "138.98817009854451\n",
      "41.14460372098934\n",
      "18.410575152253134\n",
      "-1081.9140763288628\n",
      "Methane PR:\n",
      "138.8881782344944\n",
      "41.08612216960375\n",
      "Methane HEOS:\n"
     ]
    },
    {
     "ename": "ValueError",
     "evalue": "No density solutions for T=28.5132,p=1.35739e+08,z=[ 0.0806340879968, 0.300057241091, 0.619308670912 ]",
     "output_type": "error",
     "traceback": [
      "\u001b[0;31m---------------------------------------------------------------------------\u001b[0m",
      "\u001b[0;31mValueError\u001b[0m                                Traceback (most recent call last)",
      "Cell \u001b[0;32mIn[5], line 54\u001b[0m\n\u001b[1;32m     52\u001b[0m AS \u001b[38;5;241m=\u001b[39m CP\u001b[38;5;241m.\u001b[39mAbstractState(\u001b[38;5;124m\"\u001b[39m\u001b[38;5;124mHEOS\u001b[39m\u001b[38;5;124m\"\u001b[39m, \u001b[38;5;124m\"\u001b[39m\u001b[38;5;124mNitrogen&Methane&Oxygen\u001b[39m\u001b[38;5;124m\"\u001b[39m)\n\u001b[1;32m     53\u001b[0m AS\u001b[38;5;241m.\u001b[39mset_mole_fractions([gas1\u001b[38;5;241m.\u001b[39mX[gas1\u001b[38;5;241m.\u001b[39mspecies_index(\u001b[38;5;124m'\u001b[39m\u001b[38;5;124mN2\u001b[39m\u001b[38;5;124m'\u001b[39m)],gas1\u001b[38;5;241m.\u001b[39mX[gas1\u001b[38;5;241m.\u001b[39mspecies_index(\u001b[38;5;124m'\u001b[39m\u001b[38;5;124mCH4\u001b[39m\u001b[38;5;124m'\u001b[39m)],gas1\u001b[38;5;241m.\u001b[39mX[gas1\u001b[38;5;241m.\u001b[39mspecies_index(\u001b[38;5;124m'\u001b[39m\u001b[38;5;124mO2\u001b[39m\u001b[38;5;124m'\u001b[39m)]])\n\u001b[0;32m---> 54\u001b[0m pts \u001b[38;5;241m=\u001b[39m \u001b[43mAS\u001b[49m\u001b[38;5;241;43m.\u001b[39;49m\u001b[43mall_critical_points\u001b[49m\u001b[43m(\u001b[49m\u001b[43m)\u001b[49m\n\u001b[1;32m     55\u001b[0m \u001b[38;5;28;01mfor\u001b[39;00m pt \u001b[38;5;129;01min\u001b[39;00m pts:\n\u001b[1;32m     56\u001b[0m     \u001b[38;5;28mprint\u001b[39m (pt\u001b[38;5;241m.\u001b[39mT)\n",
      "File \u001b[0;32mCoolProp/AbstractState.pyx:164\u001b[0m, in \u001b[0;36mCoolProp.CoolProp.AbstractState.all_critical_points\u001b[0;34m()\u001b[0m\n",
      "File \u001b[0;32mCoolProp/AbstractState.pyx:167\u001b[0m, in \u001b[0;36mCoolProp.CoolProp.AbstractState.all_critical_points\u001b[0;34m()\u001b[0m\n",
      "\u001b[0;31mValueError\u001b[0m: No density solutions for T=28.5132,p=1.35739e+08,z=[ 0.0806340879968, 0.300057241091, 0.619308670912 ]"
     ]
    }
   ],
   "source": [
    "gas1 = ct.Solution('gri30.yaml')\n",
    "fuel = 'H2:1'\n",
    "oxidizer = 'O2:0.21,N2:0.79'\n",
    "gas1.TP = 101325, 300\n",
    "gas1.set_equivalence_ratio(1, fuel, oxidizer)\n",
    "\n",
    "#After setting the equivalence ratio, the molar fractions get automatically adjusted, and can be obtained with gas1.X[species_index]\n",
    "#The species index is obtained with gas1.X[gas1.species_index('GAS')]\n",
    "#This will be used in the low level CoolProp interface below, by setting up an AbstractState (similar to cantera multifluid Object)\n",
    "# The High Level PropsSI function is not usable, since it does not accept gas object indeces as an input\n",
    "\n",
    "print('Critical State Properties of Hydrogen-Air in Coolprop using different Backends:')\n",
    "print('Hydrogen SRK:')\n",
    "AS = CP.AbstractState(\"SRK\", \"Nitrogen&Hydrogen&Oxygen\")\n",
    "AS.set_mole_fractions([gas1.X[gas1.species_index('N2')],gas1.X[gas1.species_index('H2')],gas1.X[gas1.species_index('O2')]])\n",
    "pts = AS.all_critical_points()\n",
    "for pt in pts:\n",
    "    print (pt.T)\n",
    "    print (pt.p / 101325)\n",
    "print('Hydrogen PR:')\n",
    "AS = CP.AbstractState(\"PR\", \"Nitrogen&Hydrogen&Oxygen\")\n",
    "AS.set_mole_fractions([gas1.X[gas1.species_index('N2')],gas1.X[gas1.species_index('H2')],gas1.X[gas1.species_index('O2')]])\n",
    "pts = AS.all_critical_points()\n",
    "for pt in pts:\n",
    "    print (pt.T)\n",
    "    print (pt.p / 101325)\n",
    "print('Hydrogen HEOS:')\n",
    "AS = CP.AbstractState(\"HEOS\", \"Nitrogen&Hydrogen&Oxygen\")\n",
    "AS.set_mole_fractions([gas1.X[gas1.species_index('N2')],gas1.X[gas1.species_index('H2')],gas1.X[gas1.species_index('O2')]])\n",
    "pts = AS.all_critical_points()\n",
    "for pt in pts:\n",
    "    print (pt.T)\n",
    "    print (pt.p / 101325)\n",
    "\n",
    "fuel2 = 'CH4:1'\n",
    "gas1.set_equivalence_ratio(1, fuel2, oxidizer)\n",
    "print('Methane SRK:')\n",
    "AS = CP.AbstractState(\"SRK\", \"Nitrogen&Methane&Oxygen\")\n",
    "AS.set_mole_fractions([gas1.X[gas1.species_index('N2')],gas1.X[gas1.species_index('CH4')],gas1.X[gas1.species_index('O2')]])\n",
    "pts = AS.all_critical_points()\n",
    "for pt in pts:\n",
    "    print (pt.T)\n",
    "    print (pt.p / 101325)\n",
    "print('Methane PR:')\n",
    "AS = CP.AbstractState(\"PR\", \"Nitrogen&Methane&Oxygen\")\n",
    "AS.set_mole_fractions([gas1.X[gas1.species_index('N2')],gas1.X[gas1.species_index('CH4')],gas1.X[gas1.species_index('O2')]])\n",
    "pts = AS.all_critical_points()\n",
    "for pt in pts:\n",
    "    print (pt.T)\n",
    "    print (pt.p / 101325)\n",
    "print('Methane HEOS:')\n",
    "AS = CP.AbstractState(\"HEOS\", \"Nitrogen&Methane&Oxygen\")\n",
    "AS.set_mole_fractions([gas1.X[gas1.species_index('N2')],gas1.X[gas1.species_index('CH4')],gas1.X[gas1.species_index('O2')]])\n",
    "pts = AS.all_critical_points()\n",
    "for pt in pts:\n",
    "    print (pt.T)\n",
    "    print (pt.p / 101325)"
   ]
  },
  {
   "attachments": {},
   "cell_type": "markdown",
   "metadata": {},
   "source": [
    "The all_critical_points routine is far from perfect, giving multiple critical Pressures/Temperatures for some equivalence ratios, or even outright failing to give any results.\n",
    "The choice of backend affects the results, with SRK and PR being similar to each other, and HEOS using Helmholtz mixing for its predictions\n",
    "\n",
    "All backends predict a higher Pcrit for Hydrogen than the one obtained by Law et al. \\\n",
    "This difference can be explained due to the different Hydrogen EOS used in Coolprop, by Leachmann et al (https://doi.org/10.1063/1.3160306), instead of the Burke Mechanism used by Law et al."
   ]
  },
  {
   "cell_type": "markdown",
   "metadata": {},
   "source": [
    "Before trying workarounds, we will first finalize the Methane Comparison:"
   ]
  },
  {
   "cell_type": "code",
   "execution_count": 7,
   "metadata": {},
   "outputs": [
    {
     "name": "stdout",
     "output_type": "stream",
     "text": [
      "[0.6  0.65 0.7  0.75 0.8  0.85 0.9  0.95 1.   1.05 1.1  1.15 1.2  1.25\n",
      " 1.3  1.35 1.4  1.45 1.5  1.55 1.6  1.65 1.7  1.75 1.8  1.85 1.9  1.95\n",
      " 2.  ]\n"
     ]
    }
   ],
   "source": [
    "phi = np.linspace(0.6,2, 29)\n",
    "print (phi)"
   ]
  },
  {
   "cell_type": "code",
   "execution_count": 8,
   "metadata": {},
   "outputs": [
    {
     "name": "stdout",
     "output_type": "stream",
     "text": [
      "[136.32418208161772, 136.67252630429152, 137.01627874508077, 137.35554807045602, 137.6904387671385, 138.02105135102852, 138.34748256483925, 138.66982556502177, 138.98817009854451, 139.3026026700651, 139.61320670000552, 139.92006267402257, 140.22324828433702, 140.5228385633663, 140.8189060100815, 141.11152070949032, 141.40075044562485, 141.68666080839623, 141.96931529465797, 142.24877540380132, 142.5251007281906, 142.79834903872893, 143.06857636582802, 143.33583707604348, 143.6001839446201, 143.86166822417945, 144.1203397097689, 144.3762468004791, 144.6294365578244]\n",
      "[39.636086073079895, 39.83688930612732, 40.0340635186151, 40.22767661336463, 40.41779505959608, 40.604483931916775, 40.787806948249646, 40.967826506651825, 41.14460372098934, 41.31819845545303, 41.48866935790361, 41.656073892056895, 41.82046836851627, 41.9819079746753, 42.14044680351266, 42.29613788131307, 42.44903319434293, 42.599183714519434, 42.74663942411004, 42.89144933949884, 43.03366153406238, 43.17332316019215, 43.3104804705035, 43.4451788382701, 43.57746277712134, 43.70737596004007, 43.834961237695914, 43.96026065614948, 44.08331547395903]\n"
     ]
    }
   ],
   "source": [
    "gas2 = ct.Solution('gri30.yaml')\n",
    "fuel = 'CH4:1'\n",
    "oxidizer = 'O2:0.21,N2:0.79'\n",
    "gas2.TP = 101325, 300\n",
    "\n",
    "#Setting up arrays to save the values in\n",
    "T_crit_list = []\n",
    "p_crit_list = []\n",
    "\n",
    "#Main Loop\n",
    "for i in phi:\n",
    "    gas2.set_equivalence_ratio(i, fuel, oxidizer)\n",
    "    AS5 = CP.AbstractState(\"SRK\", \"N2&CH4&O2\")\n",
    "    AS5.set_mole_fractions([gas2.X[gas2.species_index('N2')],gas2.X[gas2.species_index('CH4')], gas2.X[gas2.species_index('O2')]])\n",
    "    pts5 = AS5.all_critical_points()\n",
    "    k = 0\n",
    "    for pt5 in pts5:\n",
    "        if k < 1: #This is used to save only the first obtained value, discarding other potentially bogus values\n",
    "            T_crit_list.append (pt5.T)\n",
    "            p_crit_list.append (pt5.p / 101325)\n",
    "            k=k+1\n",
    "print (T_crit_list)\n",
    "print (p_crit_list)"
   ]
  },
  {
   "cell_type": "markdown",
   "metadata": {},
   "source": [
    "To compare to Laws data, we used WebPlotDigitizer (https://apps.automeris.io/wpd4/) \\\n",
    "The Obtained data values are saved in the CSV format and need to be importet before being used\n"
   ]
  },
  {
   "cell_type": "code",
   "execution_count": 9,
   "metadata": {},
   "outputs": [
    {
     "data": {
      "text/html": [
       "<div>\n",
       "<style scoped>\n",
       "    .dataframe tbody tr th:only-of-type {\n",
       "        vertical-align: middle;\n",
       "    }\n",
       "\n",
       "    .dataframe tbody tr th {\n",
       "        vertical-align: top;\n",
       "    }\n",
       "\n",
       "    .dataframe thead th {\n",
       "        text-align: right;\n",
       "    }\n",
       "</style>\n",
       "<table border=\"1\" class=\"dataframe\">\n",
       "  <thead>\n",
       "    <tr style=\"text-align: right;\">\n",
       "      <th></th>\n",
       "      <th>phi</th>\n",
       "      <th>p</th>\n",
       "      <th>T</th>\n",
       "    </tr>\n",
       "  </thead>\n",
       "  <tbody>\n",
       "    <tr>\n",
       "      <th>0</th>\n",
       "      <td>0.60</td>\n",
       "      <td>39.041106</td>\n",
       "      <td>135.336486</td>\n",
       "    </tr>\n",
       "    <tr>\n",
       "      <th>1</th>\n",
       "      <td>0.65</td>\n",
       "      <td>39.219932</td>\n",
       "      <td>135.712842</td>\n",
       "    </tr>\n",
       "    <tr>\n",
       "      <th>2</th>\n",
       "      <td>0.70</td>\n",
       "      <td>39.438490</td>\n",
       "      <td>136.066517</td>\n",
       "    </tr>\n",
       "    <tr>\n",
       "      <th>3</th>\n",
       "      <td>0.75</td>\n",
       "      <td>39.634464</td>\n",
       "      <td>136.435296</td>\n",
       "    </tr>\n",
       "    <tr>\n",
       "      <th>4</th>\n",
       "      <td>0.80</td>\n",
       "      <td>39.826543</td>\n",
       "      <td>136.787932</td>\n",
       "    </tr>\n",
       "  </tbody>\n",
       "</table>\n",
       "</div>"
      ],
      "text/plain": [
       "    phi          p           T\n",
       "0  0.60  39.041106  135.336486\n",
       "1  0.65  39.219932  135.712842\n",
       "2  0.70  39.438490  136.066517\n",
       "3  0.75  39.634464  136.435296\n",
       "4  0.80  39.826543  136.787932"
      ]
     },
     "execution_count": 9,
     "metadata": {},
     "output_type": "execute_result"
    }
   ],
   "source": [
    "# !pip install pandas\n",
    "import pandas as pd\n",
    "\n",
    "CH4_critP = pd.read_csv('Extracted Plots/Law_Fig2_CH4.csv')\n",
    "CH4_critP.head() #Looks good"
   ]
  },
  {
   "cell_type": "code",
   "execution_count": 10,
   "metadata": {},
   "outputs": [
    {
     "data": {
      "image/png": "[encoded data removed]",
      "text/plain": [
       "<Figure size 640x480 with 2 Axes>"
      ]
     },
     "metadata": {},
     "output_type": "display_data"
    }
   ],
   "source": [
    "fig, ax1 = plt.subplots()\n",
    "ax2 = ax1.twinx()\n",
    "ax1.plot(phi,T_crit_list, 'g-', label='$Critical Temperature$')\n",
    "ax1.plot(CH4_critP['phi'], CH4_critP['T'], 'g--', label='$Reference Critical Pressure$')\n",
    "ax2.plot(phi,p_crit_list, 'b-', label='$Critical Pressure$')\n",
    "ax2.plot(CH4_critP['phi'], CH4_critP['p'], 'b--', label='$Reference Critical Pressure$')\n",
    "ax1.set_xlabel('Equivalence Ratio')\n",
    "ax1.set_ylabel('Temperature [K]', color='g')\n",
    "ax2.set_ylabel('Pressure [atm]', color='b')\n",
    "ax1.set_xlim(0.6, 2)\n",
    "ax1.set_ylim(60, 160)\n",
    "ax2.set_xlim(0.6, 2)\n",
    "ax2.set_ylim(8, 60)\n",
    "ax1.set_xticks([0.6, 1, 1.5, 2])\n",
    "ax1.set_yticks([60, 80, 100, 120, 140, 160])\n",
    "ax2.set_yticks([10, 15, 20, 25, 30, 35, 40, 45, 50, 55, 60])\n",
    "ax1.minorticks_on()\n",
    "ax2.minorticks_on()\n",
    "plt.show()"
   ]
  },
  {
   "cell_type": "markdown",
   "metadata": {},
   "source": [
    "Now lets see how off we are with Hydrogen:"
   ]
  },
  {
   "cell_type": "code",
   "execution_count": 11,
   "metadata": {},
   "outputs": [
    {
     "name": "stdout",
     "output_type": "stream",
     "text": [
      "[136.32418208161772, 136.67252630429152, 137.01627874508077, 137.35554807045602, 137.6904387671385, 138.02105135102852, 138.34748256483925, 138.66982556502177, 138.98817009854451, 139.3026026700651, 139.61320670000552, 139.92006267402257, 140.22324828433702, 140.5228385633663, 140.8189060100815, 141.11152070949032, 141.40075044562485, 141.68666080839623, 141.96931529465797, 142.24877540380132, 142.5251007281906, 142.79834903872893, 143.06857636582802, 143.33583707604348, 143.6001839446201, 143.86166822417945, 144.1203397097689, 144.3762468004791, 144.6294365578244]\n",
      "[39.636086073079895, 39.83688930612732, 40.0340635186151, 40.22767661336463, 40.41779505959608, 40.604483931916775, 40.787806948249646, 40.967826506651825, 41.14460372098934, 41.31819845545303, 41.48866935790361, 41.656073892056895, 41.82046836851627, 41.9819079746753, 42.14044680351266, 42.29613788131307, 42.44903319434293, 42.599183714519434, 42.74663942411004, 42.89144933949884, 43.03366153406238, 43.17332316019215, 43.3104804705035, 43.4451788382701, 43.57746277712134, 43.70737596004007, 43.834961237695914, 43.96026065614948, 44.08331547395903]\n"
     ]
    }
   ],
   "source": [
    "fuel2 = 'H2:1'\n",
    "\n",
    "#Setting up arrays to save the values in\n",
    "T_crit_list2 = []\n",
    "p_crit_list2 = []\n",
    "\n",
    "#Main Loop\n",
    "for i in phi:\n",
    "    gas2.set_equivalence_ratio(i, fuel2, oxidizer)\n",
    "    AS5 = CP.AbstractState(\"SRK\", \"N2&H2&O2\")\n",
    "    AS5.set_mole_fractions([gas2.X[gas2.species_index('N2')],gas2.X[gas2.species_index('H2')], gas2.X[gas2.species_index('O2')]])\n",
    "    pts5 = AS5.all_critical_points()\n",
    "    k = 0\n",
    "    for pt5 in pts5:\n",
    "        if k < 1:\n",
    "            T_crit_list2.append (pt5.T)\n",
    "            p_crit_list2.append (pt5.p / 101325)\n",
    "            k=k+1\n",
    "print (T_crit_list)\n",
    "print (p_crit_list)"
   ]
  },
  {
   "cell_type": "code",
   "execution_count": 12,
   "metadata": {},
   "outputs": [
    {
     "data": {
      "text/html": [
       "<div>\n",
       "<style scoped>\n",
       "    .dataframe tbody tr th:only-of-type {\n",
       "        vertical-align: middle;\n",
       "    }\n",
       "\n",
       "    .dataframe tbody tr th {\n",
       "        vertical-align: top;\n",
       "    }\n",
       "\n",
       "    .dataframe thead th {\n",
       "        text-align: right;\n",
       "    }\n",
       "</style>\n",
       "<table border=\"1\" class=\"dataframe\">\n",
       "  <thead>\n",
       "    <tr style=\"text-align: right;\">\n",
       "      <th></th>\n",
       "      <th>phi</th>\n",
       "      <th>p</th>\n",
       "      <th>T</th>\n",
       "    </tr>\n",
       "  </thead>\n",
       "  <tbody>\n",
       "    <tr>\n",
       "      <th>0</th>\n",
       "      <td>0.60</td>\n",
       "      <td>25.837759</td>\n",
       "      <td>108.611254</td>\n",
       "    </tr>\n",
       "    <tr>\n",
       "      <th>1</th>\n",
       "      <td>0.65</td>\n",
       "      <td>25.190512</td>\n",
       "      <td>107.140606</td>\n",
       "    </tr>\n",
       "    <tr>\n",
       "      <th>2</th>\n",
       "      <td>0.70</td>\n",
       "      <td>24.526053</td>\n",
       "      <td>105.706336</td>\n",
       "    </tr>\n",
       "    <tr>\n",
       "      <th>3</th>\n",
       "      <td>0.75</td>\n",
       "      <td>23.915836</td>\n",
       "      <td>104.376376</td>\n",
       "    </tr>\n",
       "    <tr>\n",
       "      <th>4</th>\n",
       "      <td>0.80</td>\n",
       "      <td>23.305619</td>\n",
       "      <td>103.020338</td>\n",
       "    </tr>\n",
       "  </tbody>\n",
       "</table>\n",
       "</div>"
      ],
      "text/plain": [
       "    phi          p           T\n",
       "0  0.60  25.837759  108.611254\n",
       "1  0.65  25.190512  107.140606\n",
       "2  0.70  24.526053  105.706336\n",
       "3  0.75  23.915836  104.376376\n",
       "4  0.80  23.305619  103.020338"
      ]
     },
     "execution_count": 12,
     "metadata": {},
     "output_type": "execute_result"
    }
   ],
   "source": [
    "H2_critP = pd.read_csv('Extracted Plots/Law_Fig2_H2.csv')\n",
    "H2_critP.head() #Looks good"
   ]
  },
  {
   "cell_type": "code",
   "execution_count": 13,
   "metadata": {},
   "outputs": [
    {
     "data": {
      "image/png": "[encoded data removed]",
      "text/plain": [
       "<Figure size 640x480 with 2 Axes>"
      ]
     },
     "metadata": {},
     "output_type": "display_data"
    }
   ],
   "source": [
    "fig, ax1 = plt.subplots()\n",
    "ax2 = ax1.twinx()\n",
    "ax1.plot(phi,T_crit_list2, 'g-', label='$Critical Temperature$')\n",
    "ax1.plot(H2_critP['phi'], H2_critP['T'], 'g--', label='$Reference Critical Pressure$')\n",
    "ax2.plot(phi,p_crit_list2, 'b-', label='$Critical Pressure$')\n",
    "ax2.plot(H2_critP['phi'], H2_critP['p'], 'b--', label='$Reference Critical Pressure$')\n",
    "ax1.set_xlabel('Equivalence Ratio')\n",
    "ax1.set_ylabel('Temperature [K]', color='g')\n",
    "ax2.set_ylabel('Pressure [atm]', color='b')\n",
    "ax1.set_xlim(0.6, 2)\n",
    "ax1.set_ylim(60, 160)\n",
    "ax2.set_xlim(0.6, 2)\n",
    "ax2.set_ylim(8, 60)\n",
    "ax1.set_xticks([0.6, 1, 1.5, 2])\n",
    "ax1.set_yticks([60, 80, 100, 120, 140, 160])\n",
    "ax2.set_yticks([10, 15, 20, 25, 30, 35, 40, 45, 50, 55, 60])\n",
    "ax1.minorticks_on()\n",
    "ax2.minorticks_on()\n",
    "plt.show()"
   ]
  },
  {
   "cell_type": "markdown",
   "metadata": {},
   "source": [
    "The difference in Mechanisms is apparent!"
   ]
  },
  {
   "cell_type": "code",
   "execution_count": 33,
   "metadata": {},
   "outputs": [
    {
     "ename": "ValueError",
     "evalue": "Could not match the binary pair [1333-74-0,AIR.PPF] - for now this is an error.",
     "output_type": "error",
     "traceback": [
      "\u001b[0;31m---------------------------------------------------------------------------\u001b[0m",
      "\u001b[0;31mValueError\u001b[0m                                Traceback (most recent call last)",
      "Cell \u001b[0;32mIn[33], line 1\u001b[0m\n\u001b[0;32m----> 1\u001b[0m AS3 \u001b[38;5;241m=\u001b[39m \u001b[43mCP\u001b[49m\u001b[38;5;241;43m.\u001b[39;49m\u001b[43mAbstractState\u001b[49m\u001b[43m(\u001b[49m\u001b[38;5;124;43m\"\u001b[39;49m\u001b[38;5;124;43mHEOS\u001b[39;49m\u001b[38;5;124;43m\"\u001b[39;49m\u001b[43m,\u001b[49m\u001b[43m \u001b[49m\u001b[38;5;124;43m\"\u001b[39;49m\u001b[38;5;124;43mAir&Hydrogen\u001b[39;49m\u001b[38;5;124;43m\"\u001b[39;49m\u001b[43m)\u001b[49m\n",
      "File \u001b[0;32mCoolProp/AbstractState.pyx:32\u001b[0m, in \u001b[0;36mCoolProp.CoolProp.AbstractState.__cinit__\u001b[0;34m()\u001b[0m\n",
      "\u001b[0;31mValueError\u001b[0m: Could not match the binary pair [1333-74-0,AIR.PPF] - for now this is an error."
     ]
    }
   ],
   "source": [
    "AS3 = CP.AbstractState(\"HEOS\", \"Air&Hydrogen\")"
   ]
  },
  {
   "cell_type": "markdown",
   "metadata": {},
   "source": [
    "This error means a lack of binary interaction parameters! \\\n",
    "Lets try adding some:"
   ]
  },
  {
   "cell_type": "code",
   "execution_count": 11,
   "metadata": {},
   "outputs": [],
   "source": [
    "CAS_H = CP.get_fluid_param_string('Hydrogen','CAS')\n",
    "CAS_Air = CP.get_fluid_param_string('Air','CAS')\n",
    "\n",
    "# Incase this is initialized more than once (code rerun)\n",
    "# Sets the configuration flag to TRUE to allow binary interaction parameters to be over-written\n",
    "CP.set_config_bool(CP.OVERWRITE_BINARY_INTERACTION, True)\n",
    "\n",
    "# This adds beta and gamma parameters in the library of interaction parameters\n",
    "# 2 methods are possible, linear (Tr and Vr are linear functions of the pure fluid values weighed by the mixtures molar composition)\n",
    "# and Lorenty-Berthelot (all inteaction parameters = 1)\n",
    "CP.apply_simple_mixing_rule(CAS_H, CAS_Air, 'Lorentz-Berthelot')\n",
    "\n",
    "# Set the configuration flag back to FALSE\n",
    "CP.set_config_bool(CP.OVERWRITE_BINARY_INTERACTION, False)"
   ]
  },
  {
   "cell_type": "code",
   "execution_count": 13,
   "metadata": {},
   "outputs": [
    {
     "name": "stdout",
     "output_type": "stream",
     "text": [
      "127.60622753045779\n",
      "155.6063284687473\n"
     ]
    }
   ],
   "source": [
    "AS3 = CP.AbstractState(\"HEOS\", \"Air&Hydrogen\")\n",
    "AS3.set_mole_fractions([gas1.X[gas1.species_index('N2')]+gas1.X[gas1.species_index('O2')],gas1.X[gas1.species_index('H2')]])#same as above, but adding the N2 and O2 mole fractions to get Air\n",
    "pts3 = AS3.all_critical_points()\n",
    "for pt3 in pts3:\n",
    "    print (pt3.T)\n",
    "    print (pt3.p / 101325)"
   ]
  },
  {
   "cell_type": "markdown",
   "metadata": {},
   "source": [
    "Lorentz-Berthelot fits excellently for Hydrogen-Oxygen (at 1), well for Oxygen-Nitrogen (close to 1),\\\n",
    "but not well enough for Hydrogen-Nitrogen. \\\n",
    "(see http://www.coolprop.org/dev/fluid_properties/Mixtures.html#binary-pairs)\n",
    "\n",
    "We can approximate slightly better interaction parameters by interpolating the values given by CoolProp. \\\n",
    "First we query the values from the AbstractState objects like so:"
   ]
  },
  {
   "cell_type": "code",
   "execution_count": 14,
   "metadata": {},
   "outputs": [
    {
     "name": "stdout",
     "output_type": "stream",
     "text": [
      "1.0028173260267301\n"
     ]
    }
   ],
   "source": [
    "O2N2 = CP.AbstractState(\"HEOS\", \"Oxygen&Nitrogen\")\n",
    "bT = O2N2.get_binary_interaction_double(0, 1, 'betaT')\n",
    "print (bT)"
   ]
  },
  {
   "cell_type": "markdown",
   "metadata": {},
   "source": [
    "Then simply calculate the mean:"
   ]
  },
  {
   "cell_type": "code",
   "execution_count": 15,
   "metadata": {},
   "outputs": [
    {
     "name": "stdout",
     "output_type": "stream",
     "text": [
      "1.0298748442381143 1.0143610954039715 1.0854268135 0.9835988425\n"
     ]
    }
   ],
   "source": [
    "O2N2 = CP.AbstractState(\"HEOS\", \"Oxygen&Nitrogen\")\n",
    "H2N2 = CP.AbstractState(\"HEOS\", \"Hydrogen&Nitrogen\")\n",
    "\n",
    "bT = (1/2)*(O2N2.get_binary_interaction_double(0, 1, 'betaT')+H2N2.get_binary_interaction_double(0, 1, 'betaT'))\n",
    "bV = (1/2)*(O2N2.get_binary_interaction_double(0, 1, 'betaV')+H2N2.get_binary_interaction_double(0, 1, 'betaV'))\n",
    "gT = (1/2)*(O2N2.get_binary_interaction_double(0, 1, 'gammaT')+H2N2.get_binary_interaction_double(0, 1, 'gammaT'))\n",
    "gV = (1/2)*(O2N2.get_binary_interaction_double(0, 1, 'gammaV')+H2N2.get_binary_interaction_double(0, 1, 'gammaV'))\n",
    "\n",
    "print (bT,bV,gT,gV)"
   ]
  },
  {
   "cell_type": "code",
   "execution_count": 16,
   "metadata": {},
   "outputs": [],
   "source": [
    "#Setting the interaction parameters in Coolprops low level interface\n",
    "CP.set_mixture_binary_pair_data(CAS_H, CAS_Air, 'betaT', bT)\n",
    "CP.set_mixture_binary_pair_data(CAS_H, CAS_Air, 'gammaT', gT)\n",
    "CP.set_mixture_binary_pair_data(CAS_H, CAS_Air, 'betaV', bV)\n",
    "CP.set_mixture_binary_pair_data(CAS_H, CAS_Air, 'gammaV', gV)"
   ]
  },
  {
   "cell_type": "code",
   "execution_count": 18,
   "metadata": {},
   "outputs": [
    {
     "name": "stdout",
     "output_type": "stream",
     "text": [
      "126.02852928656733\n",
      "107.09292409100547\n",
      "126.05583339608769\n",
      "102.94691284011886\n"
     ]
    }
   ],
   "source": [
    "AS4 = CP.AbstractState(\"HEOS\", \"Air&Hydrogen\")\n",
    "AS4.set_mole_fractions([gas1.X[gas1.species_index('N2')]+gas1.X[gas1.species_index('O2')],gas1.X[gas1.species_index('H2')]])\n",
    "pts4 = AS4.all_critical_points()\n",
    "for pt4 in pts4:\n",
    "    print (pt4.T)\n",
    "    print (pt4.p / 101325)\n",
    "\n",
    "AS4 = CP.AbstractState(\"HEOS\", \"Nitrogen&Oxygen&Hydrogen\")\n",
    "AS4.set_mole_fractions([gas1.X[gas1.species_index('N2')],gas1.X[gas1.species_index('O2')],gas1.X[gas1.species_index('H2')]])\n",
    "pts4 = AS4.all_critical_points()\n",
    "for pt4 in pts4:\n",
    "    print (pt4.T)\n",
    "    print (pt4.p / 101325)"
   ]
  },
  {
   "cell_type": "code",
   "execution_count": 19,
   "metadata": {},
   "outputs": [
    {
     "ename": "ValueError",
     "evalue": "Fluid identifier [AIR] was not found in CubicsLibrary",
     "output_type": "error",
     "traceback": [
      "\u001b[0;31m---------------------------------------------------------------------------\u001b[0m",
      "\u001b[0;31mValueError\u001b[0m                                Traceback (most recent call last)",
      "Cell \u001b[0;32mIn[19], line 1\u001b[0m\n\u001b[0;32m----> 1\u001b[0m AS3 \u001b[38;5;241m=\u001b[39m \u001b[43mCP\u001b[49m\u001b[38;5;241;43m.\u001b[39;49m\u001b[43mAbstractState\u001b[49m\u001b[43m(\u001b[49m\u001b[38;5;124;43m\"\u001b[39;49m\u001b[38;5;124;43mSRK\u001b[39;49m\u001b[38;5;124;43m\"\u001b[39;49m\u001b[43m,\u001b[49m\u001b[43m \u001b[49m\u001b[38;5;124;43m\"\u001b[39;49m\u001b[38;5;124;43mAir&Hydrogen\u001b[39;49m\u001b[38;5;124;43m\"\u001b[39;49m\u001b[43m)\u001b[49m\n",
      "File \u001b[0;32mCoolProp/AbstractState.pyx:32\u001b[0m, in \u001b[0;36mCoolProp.CoolProp.AbstractState.__cinit__\u001b[0;34m()\u001b[0m\n",
      "\u001b[0;31mValueError\u001b[0m: Fluid identifier [AIR] was not found in CubicsLibrary"
     ]
    }
   ],
   "source": [
    "AS3 = CP.AbstractState(\"SRK\", \"Air&Hydrogen\")"
   ]
  },
  {
   "cell_type": "markdown",
   "metadata": {},
   "source": [
    "To get SRK to work requires us to implement Air as a Coolprop Cubic Fluid \\\n",
    "The full scheme is available in http://www.coolprop.org/coolprop/Cubics.html#cubic-backend \\\n",
    "Air values were obtained from https://github.com/CoolProp/CoolProp/blob/master/dev/fluids/Air.json"
   ]
  },
  {
   "cell_type": "code",
   "execution_count": 20,
   "metadata": {},
   "outputs": [
    {
     "name": "stdout",
     "output_type": "stream",
     "text": [
      "121.42999818460764\n",
      "57.945112153183004\n",
      "120.99651058181163\n",
      "68.2747733031298\n"
     ]
    }
   ],
   "source": [
    "import CoolProp.CoolProp as CP, json\n",
    "cubic_air = [\n",
    "                  {\n",
    "                    \"CAS\": \"132259-10-0\",\n",
    "                    \"Tc\": 132.5306,\n",
    "                    \"Tc_units\": \"K\",\n",
    "                    \"acentric\": 0.0335,\n",
    "                    \"aliases\": [\n",
    "                    ],\n",
    "                    \"molemass\": 0.02896546,\n",
    "                    \"molemass_units\": \"kg/mol\",\n",
    "                    \"name\": \"CUBICAIR\",\n",
    "                    \"pc\": 3786000.0,\n",
    "                    \"pc_units\": \"Pa\"\n",
    "                  }\n",
    "              ]\n",
    "# SRK and PR use the same backend, so we only need to add the fluid to 1:\n",
    "CP.add_fluids_as_JSON(\"PR\", json.dumps(cubic_air))\n",
    "\n",
    "# Put in Lorentz-Berthelot interaction parameters (all beta and gamma values are 1.0), only needs to be executed once\n",
    "# Toggle the overwrite Interaction flag, to enable writing data\n",
    "CP.set_config_bool(CP.OVERWRITE_BINARY_INTERACTION, True)\n",
    "CP.apply_simple_mixing_rule(\"132259-10-0\", CP.get_fluid_param_string(\"Hydrogen\",\"CAS\"), \"Lorentz-Berthelot\")\n",
    "CP.set_config_bool(CP.OVERWRITE_BINARY_INTERACTION, False)\n",
    "\n",
    "AS5 = CP.AbstractState(\"SRK\", \"CUBICAIR&Hydrogen\")\n",
    "AS5.set_mole_fractions([gas1.X[gas1.species_index('N2')]+gas1.X[gas1.species_index('O2')],gas1.X[gas1.species_index('H2')]])\n",
    "pts5 = AS5.all_critical_points()\n",
    "for pt5 in pts5:\n",
    "    print (pt5.T)\n",
    "    print (pt5.p / 101325)"
   ]
  },
  {
   "cell_type": "markdown",
   "metadata": {},
   "source": [
    "To make a graph, we need to run this for multiple equivalence ratios:"
   ]
  },
  {
   "cell_type": "code",
   "execution_count": 22,
   "metadata": {},
   "outputs": [
    {
     "name": "stdout",
     "output_type": "stream",
     "text": [
      "[0.6 0.7 0.8 0.9 1.  1.1 1.2 1.3 1.4 1.5 1.6 1.7 1.8 1.9 2. ]\n"
     ]
    }
   ],
   "source": [
    "phi = np.linspace(0.6,2, 15)\n",
    "print (phi)"
   ]
  },
  {
   "cell_type": "code",
   "execution_count": 24,
   "metadata": {},
   "outputs": [
    {
     "name": "stdout",
     "output_type": "stream",
     "text": [
      "[124.7152629381777, 123.57323961739452, 122.43622072839686, 121.30288784711891, 120.17183929788499, 119.0415701689991, 117.9104480285353, 116.77668301674481, 115.63829050505308, 114.49304380563983, 113.33841337154954, 112.17148735049005, 110.98886591735129, 109.78651793907211, 108.55958219019371]\n",
      "[55.541456894386506, 58.58164450861307, 61.617551308440504, 64.6552187694367, 67.70122013450785, 70.76278671713216, 73.84796503470415, 76.9658149037248, 80.12666263538324, 83.34242939946876, 86.62706377567868, 89.99712132739347, 93.47255589390114, 97.07782286744009, 100.84345446216176]\n",
      "[132.747519525815, 132.50617069625577, 132.22843530797306, 131.92199474537244, 131.59282232756283, 131.24562267189353, 130.88414213504913, 130.51139257156296, 130.12981547729515, 129.7414043017735, 129.34779687669345, 128.95034614855584, 128.55017492884375, 128.1482187139255, 127.74525949159187]\n",
      "[40.14492598543053, 40.635525487912105, 41.14557451793429, 41.6740583546945, 42.21945960780229, 42.78003841584107, 43.35399584236948, 43.939567592877864, 44.53507575182091, 45.13895511605703, 45.74976419044031, 46.36618702663821, 46.98702972972087, 47.61121400741556, 48.237769234838304]\n"
     ]
    }
   ],
   "source": [
    "gas2 = ct.Solution('gri30.yaml')\n",
    "fuel = 'H2:1'\n",
    "oxidizer = 'O2:0.21,N2:0.79'\n",
    "gas2.TP = 101325, 300\n",
    "\n",
    "#Setting up arrays to save the values in\n",
    "T_crit_list = []\n",
    "p_crit_list = []\n",
    "T_crit_list2 = []\n",
    "p_crit_list2 = []\n",
    "\n",
    "#Main Loop\n",
    "for i in phi:\n",
    "    gas2.set_equivalence_ratio(i, fuel, oxidizer)\n",
    "    AS5 = CP.AbstractState(\"SRK\", \"Nitrogen&Hydrogen&Oxygen\")\n",
    "    AS5.set_mole_fractions([gas2.X[gas2.species_index('N2')],gas2.X[gas2.species_index('H2')], gas2.X[gas2.species_index('O2')]])\n",
    "    AS6 = CP.AbstractState(\"SRK\", \"CUBICAIR&Hydrogen\")\n",
    "    AS6.set_mole_fractions([gas2.X[gas2.species_index('N2')]+gas2.X[gas2.species_index('O2')],gas2.X[gas2.species_index('H2')]]) #Again, O2+N2 fractions = Air molar fraction\n",
    "    AS6.set_binary_interaction_double(0,1,\"kij\",-1.5)\n",
    "    pts5 = AS5.all_critical_points()\n",
    "    pts6 = AS6.all_critical_points()\n",
    "    k = 0\n",
    "    for pt5 in pts5:\n",
    "        if k < 1:\n",
    "            T_crit_list.append (pt5.T)\n",
    "            p_crit_list.append (pt5.p / 101325)\n",
    "            k=k+1\n",
    "    k = 0\n",
    "    for pt6 in pts6:\n",
    "        if k < 1:\n",
    "            T_crit_list2.append (pt6.T)\n",
    "            p_crit_list2.append (pt6.p / 101325)\n",
    "            k=k+1\n",
    "print (T_crit_list)\n",
    "print (p_crit_list)\n",
    "print (T_crit_list2)\n",
    "print (p_crit_list2)"
   ]
  },
  {
   "cell_type": "code",
   "execution_count": 25,
   "metadata": {},
   "outputs": [
    {
     "data": {
      "image/png": "[encoded data removed]",
      "text/plain": [
       "<Figure size 640x480 with 2 Axes>"
      ]
     },
     "metadata": {},
     "output_type": "display_data"
    }
   ],
   "source": [
    "fig, ax1 = plt.subplots()\n",
    "ax2 = ax1.twinx()\n",
    "ax1.plot(phi,T_crit_list, 'g-', label='$Critical Temperature$')\n",
    "ax2.plot(phi,p_crit_list, 'b-', label='$Critical Pressure$')\n",
    "ax1.plot(phi,T_crit_list2, 'g--', label='$Critical Temperature with CUBICAIR$') \n",
    "ax2.plot(phi,p_crit_list2, 'b--', label='$Critical Pressure with CUBICAIR$')\n",
    "ax1.set_xlabel('Equivalence Ratio')\n",
    "ax1.set_ylabel('Temperature [K]', color='g')\n",
    "ax2.set_ylabel('Pressure [atm]', color='b')\n",
    "ax1.set_xlim(0.6, 2)\n",
    "ax1.set_ylim(60, 160)\n",
    "ax2.set_xlim(0.6, 2)\n",
    "ax2.set_ylim(8, 60)\n",
    "\n",
    "plt.show()"
   ]
  },
  {
   "cell_type": "markdown",
   "metadata": {},
   "source": [
    "What is going on? T behaves as expected (lower T with higher phi), p does not behave as expected\n",
    "\n",
    "To confirm my suspicions, the following will only mix H2 and O2"
   ]
  },
  {
   "cell_type": "code",
   "execution_count": 45,
   "metadata": {},
   "outputs": [
    {
     "name": "stdout",
     "output_type": "stream",
     "text": [
      "139.886267860536\n",
      "69.61162109809128\n"
     ]
    }
   ],
   "source": [
    "AS2 = CP.AbstractState(\"SRK\", \"Hydrogen&Oxygen\")\n",
    "AS2.set_mole_fractions([0.3,0.7])\n",
    "AS2.set_binary_interaction_double(0,1,\"kij\",-0.5)\n",
    "pts2 = AS2.all_critical_points()\n",
    "for pt2 in pts2:\n",
    "    print (pt2.T)\n",
    "    print (pt2.p / 101325)"
   ]
  },
  {
   "cell_type": "code",
   "execution_count": 46,
   "metadata": {},
   "outputs": [
    {
     "name": "stdout",
     "output_type": "stream",
     "text": [
      "120.17183929788499\n",
      "6859826.130129008\n"
     ]
    }
   ],
   "source": [
    "# To not implement my own stoichiometry calculations, \n",
    "# I am querying the mixture composition from the gas object after set_equivalence_ratio\n",
    "gas2 = ct.Solution('gri30.yaml')\n",
    "fuel = 'H2:1'\n",
    "oxidizer = 'O2:0.21,N2:0.79'\n",
    "gas2.TP = 101325, 300\n",
    "gas2.set_equivalence_ratio(1, fuel, oxidizer)\n",
    "\n",
    "\n",
    "#print(gas2())\n",
    "#After setting the ratio, the molar fractions get automatically adjusted, and can be obtained with gas2.X[species_index]\n",
    "#The species index is obtained with gas2.species_index('GAS')\n",
    "#print(gas2.X[47])\n",
    "# The index 47 stands for N2, 0 for H2 and 3 for O2\n",
    "\n",
    "# The following uses the low level CoolProp interface, by setting up an SRK AbstractState (similar to cantera multifluid Object)\n",
    "# Then inputting mole fractions obtained in the Gas Object\n",
    "AS = CP.AbstractState(\"SRK\", \"N2&H2&O2\")\n",
    "AS.set_mole_fractions([gas2.X[gas2.species_index('N2')],gas2.X[gas2.species_index('H2')],gas2.X[gas2.species_index('O2')]])\n",
    "pts = AS.all_critical_points()\n",
    "for pt in pts:\n",
    "    print (pt.T)\n",
    "    print (pt.p)\n",
    "\n",
    "\n",
    "# The High Level PropsSI function is not usable, since it does not accept gas object indeces as input\n",
    "# Uncomment the following code to see what I mean\n",
    "# PropsSI(\"Tcrit\", \"P\", 101325, \"T\", 300, \"SRK::Hydrogen[gas2.X[0]]&Oxygen[gas2.X[3]]&Nitrogen[gas2.X[47]]\")"
   ]
  },
  {
   "cell_type": "code",
   "execution_count": 47,
   "metadata": {},
   "outputs": [
    {
     "name": "stdout",
     "output_type": "stream",
     "text": [
      "[124.7152629381777, 123.57323961739452, 122.43622072839686, 121.30288784711891, 120.17183929788499, 119.0415701689991, 117.9104480285353, 116.77668301674481, 115.63829050505308, 114.49304380563983, 113.33841337154954, 112.17148735049005, 110.98886591735129, 109.78651793907211, 108.55958219019371]\n",
      "[55.541456894386506, 58.58164450861307, 61.617551308440504, 64.6552187694367, 67.70122013450785, 70.76278671713216, 73.84796503470415, 76.9658149037248, 80.12666263538324, 83.34242939946876, 86.62706377567868, 89.99712132739347, 93.47255589390114, 97.07782286744009, 100.84345446216176]\n"
     ]
    }
   ],
   "source": [
    "#Setting up arrays to save the values in\n",
    "T_crit_list = []\n",
    "p_crit_list = []\n",
    "\n",
    "#Main Loop\n",
    "for i in phi:\n",
    "    gas2.set_equivalence_ratio(i, fuel, oxidizer)\n",
    "    AS5 = CP.AbstractState(\"SRK\", \"Nitrogen&Hydrogen&Oxygen\")\n",
    "    AS5.set_mole_fractions([gas2.X[gas2.species_index('N2')],gas2.X[gas2.species_index('H2')],gas2.X[gas2.species_index('O2')]])\n",
    "    pts5 = AS5.all_critical_points()\n",
    "    for pt5 in pts5:\n",
    "        if pt5.p > 0:\n",
    "            T_crit_list.append (pt5.T)\n",
    "            p_crit_list.append (pt5.p / 101325)\n",
    "\n",
    "print (T_crit_list)\n",
    "print (p_crit_list)"
   ]
  },
  {
   "cell_type": "code",
   "execution_count": 48,
   "metadata": {},
   "outputs": [
    {
     "data": {
      "image/png": "[encoded data removed]",
      "text/plain": [
       "<Figure size 640x480 with 2 Axes>"
      ]
     },
     "metadata": {},
     "output_type": "display_data"
    }
   ],
   "source": [
    "fig, ax1 = plt.subplots()\n",
    "ax2 = ax1.twinx()\n",
    "ax1.plot(phi,T_crit_list, 'g-', label='$Critical Temperature$')\n",
    "ax2.plot(phi,p_crit_list, 'b-', label='$Critical Pressure$')\n",
    "ax1.set_xlabel('Equivalence Ratio')\n",
    "ax1.set_ylabel('Temperature [K]', color='g')\n",
    "ax2.set_ylabel('Pressure [atm]', color='b')\n",
    "ax1.set_xlim(0.6, 2)  # Set x-axis limits from 0 to 5\n",
    "ax1.set_ylim(60, 160)  # Set y-axis limits from -0.5 to 0.5\n",
    "ax2.set_xlim(0.6, 2)  # Set x-axis limits from 0 to 5\n",
    "ax2.set_ylim(8, 60)  # Set y-axis limits from -0.5 to 0.5\n",
    "\n",
    "plt.show()"
   ]
  },
  {
   "cell_type": "markdown",
   "metadata": {},
   "source": [
    "Temperature is lower than pure O2 (expected) \\\n",
    "But Pcrit keeps balooning the more Hydrogen I add!"
   ]
  },
  {
   "cell_type": "markdown",
   "metadata": {},
   "source": [
    "This is entirely different compared to what Law et al get"
   ]
  }
 ],
 "metadata": {
  "kernelspec": {
   "display_name": "Python 3 (ipykernel)",
   "language": "python",
   "name": "python3"
  },
  "language_info": {
   "codemirror_mode": {
    "name": "ipython",
    "version": 3
   },
   "file_extension": ".py",
   "mimetype": "text/x-python",
   "name": "python",
   "nbconvert_exporter": "python",
   "pygments_lexer": "ipython3",
   "version": "3.13.1"
  }
 },
 "nbformat": 4,
 "nbformat_minor": 4
}
