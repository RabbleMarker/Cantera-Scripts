{
 "cells": [
  {
   "cell_type": "markdown",
   "metadata": {},
   "source": [
    "\n",
    "# Critical state properties \\\n",
    "\n",
    "https://github.com/CoolProp/CoolProp \\\n",
    "http://www.coolprop.org/coolprop/Cubics.html \\\n",
    "http://www.coolprop.org/dev/fluid_properties/Mixtures.html \\"
   ]
  },
  {
   "cell_type": "code",
   "execution_count": 30,
   "metadata": {
    "collapsed": false,
    "jupyter": {
     "outputs_hidden": false
    }
   },
   "outputs": [],
   "source": [
    "import cantera as ct\n",
    "import numpy as np\n",
    "import matplotlib.pyplot as plt\n",
    "import CoolProp.CoolProp as CP\n",
    "from CoolProp.CoolProp import PropsSI"
   ]
  },
  {
   "cell_type": "markdown",
   "metadata": {},
   "source": [
    "First I am calculating the critical Properties of the Pure Fluids, to see what mixing them should get"
   ]
  },
  {
   "cell_type": "code",
   "execution_count": 31,
   "metadata": {},
   "outputs": [
    {
     "name": "stdout",
     "output_type": "stream",
     "text": [
      "[33.145, 12.79447322970639]\n",
      "[154.58100000000002, 49.77054034048853]\n",
      "[126.192, 33.51394029114236]\n",
      "[132.5306, 37.364914877868245]\n"
     ]
    }
   ],
   "source": [
    "pT_h2 = []\n",
    "pT_o2 = []\n",
    "pT_n2 = []\n",
    "pT_air = []\n",
    "\n",
    "pT_h2.append (PropsSI(\"Tcrit\", \"P\", 101325, \"T\", 300, \"SRK::Hydrogen[1.0]\"))\n",
    "pT_h2.append (PropsSI(\"Pcrit\", \"P\", 101325, \"T\", 300, \"SRK::Hydrogen[1.0]\") / 101325) #to get Pressure in atm\n",
    "\n",
    "pT_o2.append (PropsSI(\"Tcrit\", \"P\", 101325, \"T\", 300, \"SRK::Oxygen[1.0]\"))\n",
    "pT_o2.append (PropsSI(\"Pcrit\", \"P\", 101325, \"T\", 300, \"SRK::Oxygen[1.0]\") / 101325)\n",
    "\n",
    "\n",
    "pT_n2.append (PropsSI(\"Tcrit\", \"P\", 101325, \"T\", 300, \"SRK::Nitrogen[1.0]\"))\n",
    "pT_n2.append (PropsSI(\"Pcrit\", \"P\", 101325, \"T\", 300, \"SRK::Nitrogen[1.0]\") / 101325)\n",
    "\n",
    "# Air is not present in SRK/PR backend, so HEOS is used here instead\n",
    "pT_air.append (PropsSI(\"Tcrit\", \"P\", 101325, \"T\", 300, \"HEOS::Air[1.0]\"))\n",
    "pT_air.append (PropsSI(\"Pcrit\", \"P\", 101325, \"T\", 300, \"HEOS::Air[1.0]\") / 101325)\n",
    "\n",
    "print(pT_h2)\n",
    "print(pT_o2)\n",
    "print(pT_n2)\n",
    "print(pT_air)"
   ]
  },
  {
   "cell_type": "markdown",
   "metadata": {},
   "source": [
    "These values mean roughly, that increasing H content should lower Tcrit and Pcrit\n"
   ]
  },
  {
   "cell_type": "code",
   "execution_count": 50,
   "metadata": {},
   "outputs": [
    {
     "name": "stdout",
     "output_type": "stream",
     "text": [
      "138.98817009854451\n",
      "41.14460372098934\n",
      "18.410575152253134\n",
      "-1081.9140763288628\n"
     ]
    }
   ],
   "source": [
    "# To not implement my own stoichiometry calculations, \n",
    "# I am querying the mixture composition from the gas object after set_equivalence_ratio\n",
    "gas2 = ct.Solution('gri30.yaml')\n",
    "fuel = 'CH4:1'\n",
    "oxidizer = 'O2:0.21,N2:0.79'\n",
    "gas2.TP = 101325, 300\n",
    "gas2.set_equivalence_ratio(1, fuel, oxidizer)\n",
    "\n",
    "\n",
    "#print(gas2())\n",
    "#After setting the ratio, the molar fractions get automatically adjusted, and can be obtained with gas2.X[species_index]\n",
    "#The species index is obtained with gas2.species_index('GAS')\n",
    "#print(gas2.X[47])\n",
    "# The index 47 stands for N2, 0 for H2 and 3 for O2\n",
    "\n",
    "# The following uses the low level CoolProp interface, by setting up an SRK AbstractState (similar to cantera multifluid Object)\n",
    "# Then inputting mole fractions obtained in the Gas Object\n",
    "AS = CP.AbstractState(\"SRK\", \"Nitrogen&Methane&Oxygen\")\n",
    "AS.set_mole_fractions([gas2.X[gas2.species_index('N2')],gas2.X[gas2.species_index('CH4')],gas2.X[gas2.species_index('O2')]])\n",
    "pts = AS.all_critical_points()\n",
    "for pt in pts:\n",
    "    print (pt.T)\n",
    "    print (pt.p / 101325)\n",
    "\n",
    "\n",
    "# The High Level PropsSI function is not usable, since it does not accept gas object indeces as input\n",
    "# Uncomment the following code to see what I mean\n",
    "# PropsSI(\"Tcrit\", \"P\", 101325, \"T\", 300, \"SRK::Hydrogen[gas2.X[0]]&Oxygen[gas2.X[3]]&Nitrogen[gas2.X[47]]\")"
   ]
  },
  {
   "attachments": {},
   "cell_type": "markdown",
   "metadata": {},
   "source": [
    "The results are strange. \n",
    "Tcrit is between Oxygen and Hydrogen (expected) \\\n",
    "Pcrit is too high, higher than even Nitrogen!\n",
    "\n",
    "Lets try varying the interaction parameters!"
   ]
  },
  {
   "cell_type": "code",
   "execution_count": 33,
   "metadata": {},
   "outputs": [
    {
     "name": "stdout",
     "output_type": "stream",
     "text": [
      "[-0.5  -0.25  0.    0.25  0.5 ]\n",
      "138.98817009854451\n",
      "41.14460372098934\n",
      "18.410575152253134\n",
      "-1081.9140763288628\n",
      "138.98817009854451\n",
      "41.14460372098934\n",
      "18.410575152253134\n",
      "-1081.9140763288628\n",
      "138.98817009854451\n",
      "41.14460372098934\n",
      "18.410575152253134\n",
      "-1081.9140763288628\n",
      "138.98817009854451\n",
      "41.14460372098934\n",
      "18.410575152253134\n",
      "-1081.9140763288628\n",
      "138.98817009854451\n",
      "41.14460372098934\n",
      "18.410575152253134\n",
      "-1081.9140763288628\n"
     ]
    }
   ],
   "source": [
    "# I set up an array of interaction parameters\n",
    "kPAR = np.linspace(-0.5,0.5, 5)\n",
    "print (kPAR)\n",
    "\n",
    "for k in kPAR:\n",
    "    AS2 = CP.AbstractState(\"SRK\", \"Nitrogen&Methane&Oxygen\")\n",
    "    AS2.set_mole_fractions([gas2.X[gas2.species_index('N2')],gas2.X[gas2.species_index('CH4')],gas2.X[gas2.species_index('O2')]])\n",
    "    pts2 = AS2.all_critical_points()\n",
    "    AS2.set_binary_interaction_double(0,1,\"kij\",k)\n",
    "    for pt2 in pts2:\n",
    "        print (pt2.T)\n",
    "        print (pt2.p / 101325)"
   ]
  },
  {
   "cell_type": "markdown",
   "metadata": {},
   "source": [
    "The binary interaction parameter seems to have no effect! \\\n",
    "I have not found trinary interaction parameters in the codebase either!\n",
    "\n",
    "Lets try using Air as a working fluid:"
   ]
  },
  {
   "cell_type": "code",
   "execution_count": 34,
   "metadata": {},
   "outputs": [],
   "source": [
    "#AS = CP.AbstractState(\"SRK\", \"Air&Hydrogen\")\n",
    "#It is not implemented in the SRK, PR or PCSAFT backends\n",
    "AS3 = CP.AbstractState(\"HEOS\", \"Air&Hydrogen\")"
   ]
  },
  {
   "cell_type": "markdown",
   "metadata": {},
   "source": [
    "This error means a lack of binary interaction parameters! \\\n",
    "Lets try adding some:"
   ]
  },
  {
   "cell_type": "code",
   "execution_count": 35,
   "metadata": {},
   "outputs": [],
   "source": [
    "CAS_H = CP.get_fluid_param_string('Hydrogen','CAS')\n",
    "CAS_Air = CP.get_fluid_param_string('Air','CAS')\n",
    "\n",
    "# Incase this is initialized more than once (code rerun)\n",
    "# Sets the configuration flag to TRUE to allow binary interaction parameters to be over-written\n",
    "CP.set_config_bool(CP.OVERWRITE_BINARY_INTERACTION, True)\n",
    "\n",
    "# This adds beta and gamma parameters in the library of interaction parameters\n",
    "# 2 methods are possible, linear (Tr and Vr are linear functions of the pure fluid values weighed by the mixtures molar composition)\n",
    "# and Lorenty-Berthelot (all inteaction parameters = 1)\n",
    "CP.apply_simple_mixing_rule(CAS_H, CAS_Air, 'Lorentz-Berthelot')"
   ]
  },
  {
   "cell_type": "code",
   "execution_count": 36,
   "metadata": {},
   "outputs": [],
   "source": [
    "AS3 = CP.AbstractState(\"HEOS\", \"Air&Hydrogen\")\n",
    "AS3.set_mole_fractions([gas2.X[gas2.species_index('N2')]+gas2.X[gas2.species_index('O2')],gas2.X[gas2.species_index('H2')]])#same as above, but adding the N2 and O2 mole fractions to get Air\n",
    "pts3 = AS3.all_critical_points()\n",
    "for pt3 in pts3:\n",
    "    print (pt3.T)\n",
    "    print (pt3.p / 101325)"
   ]
  },
  {
   "cell_type": "markdown",
   "metadata": {},
   "source": [
    "Lorentz-Berthelot fits excellently for Hydrogen-Oxygen (at 1), well for Oxygen-Nitrogen (close to 1),\\\n",
    "but not well enough for Hydrogen-Nitrogen. \\\n",
    "(see http://www.coolprop.org/dev/fluid_properties/Mixtures.html#binary-pairs)\n",
    "\n",
    "We can approximate slightly better interaction parameters by interpolating the values given by CoolProp. \\\n",
    "First we query the values from the AbstractState objects like so:"
   ]
  },
  {
   "cell_type": "code",
   "execution_count": 37,
   "metadata": {},
   "outputs": [
    {
     "name": "stdout",
     "output_type": "stream",
     "text": [
      "1.0028173260267301\n"
     ]
    }
   ],
   "source": [
    "O2N2 = CP.AbstractState(\"HEOS\", \"Oxygen&Nitrogen\")\n",
    "bT = O2N2.get_binary_interaction_double(0, 1, 'betaT')\n",
    "print (bT)"
   ]
  },
  {
   "cell_type": "markdown",
   "metadata": {},
   "source": [
    "Then simply calculate the mean:"
   ]
  },
  {
   "cell_type": "code",
   "execution_count": 38,
   "metadata": {},
   "outputs": [
    {
     "name": "stdout",
     "output_type": "stream",
     "text": [
      "1.0298748442381143 1.0143610954039715 1.0854268135 0.9835988425\n"
     ]
    }
   ],
   "source": [
    "O2N2 = CP.AbstractState(\"HEOS\", \"Oxygen&Nitrogen\")\n",
    "H2N2 = CP.AbstractState(\"HEOS\", \"Hydrogen&Nitrogen\")\n",
    "\n",
    "bT = (1/2)*(O2N2.get_binary_interaction_double(0, 1, 'betaT')+H2N2.get_binary_interaction_double(0, 1, 'betaT'))\n",
    "bV = (1/2)*(O2N2.get_binary_interaction_double(0, 1, 'betaV')+H2N2.get_binary_interaction_double(0, 1, 'betaV'))\n",
    "gT = (1/2)*(O2N2.get_binary_interaction_double(0, 1, 'gammaT')+H2N2.get_binary_interaction_double(0, 1, 'gammaT'))\n",
    "gV = (1/2)*(O2N2.get_binary_interaction_double(0, 1, 'gammaV')+H2N2.get_binary_interaction_double(0, 1, 'gammaV'))\n",
    "\n",
    "print (bT,bV,gT,gV)"
   ]
  },
  {
   "cell_type": "code",
   "execution_count": 39,
   "metadata": {},
   "outputs": [],
   "source": [
    "#Setting the interaction parameters in Coolprops low level interface\n",
    "CP.set_mixture_binary_pair_data(CAS_H, CAS_Air, 'betaT', bT)\n",
    "CP.set_mixture_binary_pair_data(CAS_H, CAS_Air, 'gammaT', gT)\n",
    "CP.set_mixture_binary_pair_data(CAS_H, CAS_Air, 'betaV', bV)\n",
    "CP.set_mixture_binary_pair_data(CAS_H, CAS_Air, 'gammaV', gV)"
   ]
  },
  {
   "cell_type": "code",
   "execution_count": 40,
   "metadata": {},
   "outputs": [
    {
     "name": "stdout",
     "output_type": "stream",
     "text": [
      "166.60089388695417\n",
      "335.9455378583178\n",
      "234.3881364522812\n",
      "1254.198173859935\n"
     ]
    }
   ],
   "source": [
    "AS4 = CP.AbstractState(\"HEOS\", \"Air&Hydrogen\")\n",
    "AS4.set_mole_fractions([gas2.X[gas2.species_index('N2')]+gas2.X[gas2.species_index('O2')],gas2.X[gas2.species_index('H2')]])\n",
    "pts4 = AS4.all_critical_points()\n",
    "for pt4 in pts4:\n",
    "    print (pt4.T)\n",
    "    print (pt4.p / 101325)\n",
    "\n",
    "AS4 = CP.AbstractState(\"HEOS\", \"Nitrogen&Oxygen&Hydrogen\")\n",
    "AS4.set_mole_fractions([gas2.X[gas2.species_index('N2')],gas2.X[gas2.species_index('O2')],gas2.X[gas2.species_index('H2')]])\n",
    "pts4 = AS4.all_critical_points()\n",
    "for pt4 in pts4:\n",
    "    print (pt4.T)\n",
    "    print (pt4.p / 101325)"
   ]
  },
  {
   "cell_type": "code",
   "execution_count": null,
   "metadata": {},
   "outputs": [],
   "source": []
  },
  {
   "cell_type": "markdown",
   "metadata": {},
   "source": [
    "To get SRK to work requires us to implement Air as a Coolprop Cubic Fluid \\\n",
    "The full scheme is available in http://www.coolprop.org/coolprop/Cubics.html#cubic-backend \\\n",
    "Air values were obtained from https://github.com/CoolProp/CoolProp/blob/master/dev/fluids/Air.json"
   ]
  },
  {
   "cell_type": "code",
   "execution_count": 41,
   "metadata": {},
   "outputs": [
    {
     "name": "stdout",
     "output_type": "stream",
     "text": [
      "128.49923406485433\n",
      "41.952650010180385\n",
      "130.91723247731642\n",
      "47.95217204890493\n"
     ]
    }
   ],
   "source": [
    "import CoolProp.CoolProp as CP, json\n",
    "cubic_air = [\n",
    "                  {\n",
    "                    \"CAS\": \"132259-10-0\",\n",
    "                    \"Tc\": 132.5306,\n",
    "                    \"Tc_units\": \"K\",\n",
    "                    \"acentric\": 0.0335,\n",
    "                    \"aliases\": [\n",
    "                    ],\n",
    "                    \"molemass\": 0.02896546,\n",
    "                    \"molemass_units\": \"kg/mol\",\n",
    "                    \"name\": \"CUBICAIR\",\n",
    "                    \"pc\": 3786000.0,\n",
    "                    \"pc_units\": \"Pa\"\n",
    "                  }\n",
    "              ]\n",
    "# SRK and PR use the same backend, so we only need to add the fluid to 1:\n",
    "CP.add_fluids_as_JSON(\"PR\", json.dumps(cubic_air))\n",
    "\n",
    "# Put in Lorentz-Berthelot interaction parameters (all beta and gamma values are 1.0), only needs to be executed once\n",
    "# Sets the overwrite Interaction flag to TRUE, to enable writing data\n",
    "CP.apply_simple_mixing_rule(\"132259-10-0\", CP.get_fluid_param_string(\"Hydrogen\",\"CAS\"), \"Lorentz-Berthelot\")\n",
    "\n",
    "AS5 = CP.AbstractState(\"SRK\", \"CUBICAIR&Hydrogen\")\n",
    "AS5.set_mole_fractions([gas2.X[47]+gas2.X[3],gas2.X[0],]) #Again, O2+N2 fractions = Air molar fraction\n",
    "pts5 = AS5.all_critical_points()\n",
    "for pt5 in pts5:\n",
    "    print (pt5.T)\n",
    "    print (pt5.p / 101325)"
   ]
  },
  {
   "cell_type": "markdown",
   "metadata": {},
   "source": [
    "To make a graph, we need to run this for multiple equivalence ratios:"
   ]
  },
  {
   "cell_type": "code",
   "execution_count": 52,
   "metadata": {},
   "outputs": [
    {
     "name": "stdout",
     "output_type": "stream",
     "text": [
      "[0.6 0.7 0.8 0.9 1.  1.1 1.2 1.3 1.4 1.5 1.6 1.7 1.8 1.9 2. ]\n"
     ]
    }
   ],
   "source": [
    "phi = np.linspace(0.6,2, 15)\n",
    "print (phi)"
   ]
  },
  {
   "cell_type": "code",
   "execution_count": 85,
   "metadata": {},
   "outputs": [
    {
     "name": "stdout",
     "output_type": "stream",
     "text": [
      "[136.32418208161772, 137.01627874508077, 137.6904387671385, 138.34748256483925, 138.98817009854451, 139.61320670000552, 140.22324828433702, 140.8189060100815, 141.40075044562485, 141.96931529465797, 142.5251007281906, 143.06857636582802, 143.6001839446201, 144.1203397097689, 144.6294365578244]\n",
      "[39.636086073079895, 40.0340635186151, 40.41779505959608, 40.787806948249646, 41.14460372098934, 41.48866935790361, 41.82046836851627, 42.14044680351266, 42.44903319434293, 42.74663942411004, 43.03366153406238, 43.3104804705035, 43.57746277712134, 43.834961237695914, 44.08331547395903]\n",
      "[133.01770967650756, 133.05833022477475, 133.0896580337411, 133.112392571294, 133.1271680297305, 133.1345608432824, 133.13509617089295, 133.1292535105809, 133.11747158092803, 133.10015258094575, 133.07766592024086, 133.05035149588144, 133.01852257980045, 132.98246837034878, 132.94245625321656]\n",
      "[38.116137212781155, 38.22930575109895, 38.3408769038551, 38.451326020698325, 38.561057889818336, 38.67041676877487, 38.779694909204096, 38.889139817643276, 38.998960453200105, 39.10933252879114, 39.22040305475284, 39.33229424065903, 39.445106852229166, 39.55892310456436, 39.673809159969444]\n"
     ]
    }
   ],
   "source": [
    "#Setting up arrays to save the values in\n",
    "T_crit_list = []\n",
    "p_crit_list = []\n",
    "T_crit_list2 = []\n",
    "p_crit_list2 = []\n",
    "\n",
    "#Main Loop\n",
    "for i in phi:\n",
    "    gas2.set_equivalence_ratio(i, fuel, oxidizer)\n",
    "    AS5 = CP.AbstractState(\"SRK\", \"Nitrogen&Methane&Oxygen\")\n",
    "    AS5.set_mole_fractions([gas2.X[gas2.species_index('N2')],gas2.X[gas2.species_index('CH4')],gas2.X[gas2.species_index('O2')]])\n",
    "    AS6 = CP.AbstractState(\"SRK\", \"CUBICAIR&Hydrogen\")\n",
    "    AS6.set_mole_fractions([gas2.X[gas2.species_index('N2')]+gas2.X[gas2.species_index('O2')],gas2.X[gas2.species_index('CH4')]]) #Again, O2+N2 fractions = Air molar fraction\n",
    "    AS6.set_binary_interaction_double(0,1,\"kij\",-1.5)\n",
    "    pts5 = AS5.all_critical_points()\n",
    "    pts6 = AS6.all_critical_points()\n",
    "    k = 0\n",
    "    for pt5 in pts5:\n",
    "        if k < 1:\n",
    "            T_crit_list.append (pt5.T)\n",
    "            p_crit_list.append (pt5.p / 101325)\n",
    "            k=k+1\n",
    "    k = 0\n",
    "    for pt6 in pts6:\n",
    "        if k < 1:\n",
    "            T_crit_list2.append (pt6.T)\n",
    "            p_crit_list2.append (pt6.p / 101325)\n",
    "            k=k+1\n",
    "print (T_crit_list)\n",
    "print (p_crit_list)\n",
    "print (T_crit_list2)\n",
    "print (p_crit_list2)"
   ]
  },
  {
   "cell_type": "code",
   "execution_count": 86,
   "metadata": {},
   "outputs": [
    {
     "data": {
      "image/png": "[encoded data removed]",
      "text/plain": [
       "<Figure size 640x480 with 2 Axes>"
      ]
     },
     "metadata": {},
     "output_type": "display_data"
    }
   ],
   "source": [
    "fig, ax1 = plt.subplots()\n",
    "ax2 = ax1.twinx()\n",
    "ax1.plot(phi,T_crit_list, 'g-', label='$Critical Temperature$')\n",
    "ax2.plot(phi,p_crit_list, 'b-', label='$Critical Pressure$')\n",
    "ax1.plot(phi,T_crit_list2, 'g--', label='$Critical Temperature with CUBICAIR$') \n",
    "ax2.plot(phi,p_crit_list2, 'b--', label='$Critical Pressure with CUBICAIR$')\n",
    "ax1.set_xlabel('Equivalence Ratio')\n",
    "ax1.set_ylabel('Temperature [K]', color='g')\n",
    "ax2.set_ylabel('Pressure [atm]', color='b')\n",
    "ax1.set_xlim(0.6, 2)\n",
    "ax1.set_ylim(60, 160)\n",
    "ax2.set_xlim(0.6, 2)\n",
    "ax2.set_ylim(8, 60)\n",
    "\n",
    "plt.show()"
   ]
  },
  {
   "cell_type": "markdown",
   "metadata": {},
   "source": [
    "What is going on? T behaves as expected (lower T with higher phi), p does not behave as expected\n",
    "\n",
    "To confirm my suspicions, the following will only mix H2 and O2"
   ]
  },
  {
   "cell_type": "code",
   "execution_count": 45,
   "metadata": {},
   "outputs": [
    {
     "name": "stdout",
     "output_type": "stream",
     "text": [
      "139.886267860536\n",
      "69.61162109809128\n"
     ]
    }
   ],
   "source": [
    "AS2 = CP.AbstractState(\"SRK\", \"Hydrogen&Oxygen\")\n",
    "AS2.set_mole_fractions([0.3,0.7])\n",
    "AS2.set_binary_interaction_double(0,1,\"kij\",-0.5)\n",
    "pts2 = AS2.all_critical_points()\n",
    "for pt2 in pts2:\n",
    "    print (pt2.T)\n",
    "    print (pt2.p / 101325)"
   ]
  },
  {
   "cell_type": "code",
   "execution_count": 46,
   "metadata": {},
   "outputs": [
    {
     "name": "stdout",
     "output_type": "stream",
     "text": [
      "120.17183929788499\n",
      "6859826.130129008\n"
     ]
    }
   ],
   "source": [
    "# To not implement my own stoichiometry calculations, \n",
    "# I am querying the mixture composition from the gas object after set_equivalence_ratio\n",
    "gas2 = ct.Solution('gri30.yaml')\n",
    "fuel = 'H2:1'\n",
    "oxidizer = 'O2:0.21,N2:0.79'\n",
    "gas2.TP = 101325, 300\n",
    "gas2.set_equivalence_ratio(1, fuel, oxidizer)\n",
    "\n",
    "\n",
    "#print(gas2())\n",
    "#After setting the ratio, the molar fractions get automatically adjusted, and can be obtained with gas2.X[species_index]\n",
    "#The species index is obtained with gas2.species_index('GAS')\n",
    "#print(gas2.X[47])\n",
    "# The index 47 stands for N2, 0 for H2 and 3 for O2\n",
    "\n",
    "# The following uses the low level CoolProp interface, by setting up an SRK AbstractState (similar to cantera multifluid Object)\n",
    "# Then inputting mole fractions obtained in the Gas Object\n",
    "AS = CP.AbstractState(\"SRK\", \"N2&H2&O2\")\n",
    "AS.set_mole_fractions([gas2.X[gas2.species_index('N2')],gas2.X[gas2.species_index('H2')],gas2.X[gas2.species_index('O2')]])\n",
    "pts = AS.all_critical_points()\n",
    "for pt in pts:\n",
    "    print (pt.T)\n",
    "    print (pt.p)\n",
    "\n",
    "\n",
    "# The High Level PropsSI function is not usable, since it does not accept gas object indeces as input\n",
    "# Uncomment the following code to see what I mean\n",
    "# PropsSI(\"Tcrit\", \"P\", 101325, \"T\", 300, \"SRK::Hydrogen[gas2.X[0]]&Oxygen[gas2.X[3]]&Nitrogen[gas2.X[47]]\")"
   ]
  },
  {
   "cell_type": "code",
   "execution_count": 47,
   "metadata": {},
   "outputs": [
    {
     "name": "stdout",
     "output_type": "stream",
     "text": [
      "[124.7152629381777, 123.57323961739452, 122.43622072839686, 121.30288784711891, 120.17183929788499, 119.0415701689991, 117.9104480285353, 116.77668301674481, 115.63829050505308, 114.49304380563983, 113.33841337154954, 112.17148735049005, 110.98886591735129, 109.78651793907211, 108.55958219019371]\n",
      "[55.541456894386506, 58.58164450861307, 61.617551308440504, 64.6552187694367, 67.70122013450785, 70.76278671713216, 73.84796503470415, 76.9658149037248, 80.12666263538324, 83.34242939946876, 86.62706377567868, 89.99712132739347, 93.47255589390114, 97.07782286744009, 100.84345446216176]\n"
     ]
    }
   ],
   "source": [
    "#Setting up arrays to save the values in\n",
    "T_crit_list = []\n",
    "p_crit_list = []\n",
    "\n",
    "#Main Loop\n",
    "for i in phi:\n",
    "    gas2.set_equivalence_ratio(i, fuel, oxidizer)\n",
    "    AS5 = CP.AbstractState(\"SRK\", \"Nitrogen&Hydrogen&Oxygen\")\n",
    "    AS5.set_mole_fractions([gas2.X[gas2.species_index('N2')],gas2.X[gas2.species_index('H2')],gas2.X[gas2.species_index('O2')]])\n",
    "    pts5 = AS5.all_critical_points()\n",
    "    for pt5 in pts5:\n",
    "        if pt5.p > 0:\n",
    "            T_crit_list.append (pt5.T)\n",
    "            p_crit_list.append (pt5.p / 101325)\n",
    "\n",
    "print (T_crit_list)\n",
    "print (p_crit_list)"
   ]
  },
  {
   "cell_type": "code",
   "execution_count": 48,
   "metadata": {},
   "outputs": [
    {
     "data": {
      "image/png": "[encoded data removed]",
      "text/plain": [
       "<Figure size 640x480 with 2 Axes>"
      ]
     },
     "metadata": {},
     "output_type": "display_data"
    }
   ],
   "source": [
    "fig, ax1 = plt.subplots()\n",
    "ax2 = ax1.twinx()\n",
    "ax1.plot(phi,T_crit_list, 'g-', label='$Critical Temperature$')\n",
    "ax2.plot(phi,p_crit_list, 'b-', label='$Critical Pressure$')\n",
    "ax1.set_xlabel('Equivalence Ratio')\n",
    "ax1.set_ylabel('Temperature [K]', color='g')\n",
    "ax2.set_ylabel('Pressure [atm]', color='b')\n",
    "ax1.set_xlim(0.6, 2)  # Set x-axis limits from 0 to 5\n",
    "ax1.set_ylim(60, 160)  # Set y-axis limits from -0.5 to 0.5\n",
    "ax2.set_xlim(0.6, 2)  # Set x-axis limits from 0 to 5\n",
    "ax2.set_ylim(8, 60)  # Set y-axis limits from -0.5 to 0.5\n",
    "\n",
    "plt.show()"
   ]
  },
  {
   "cell_type": "markdown",
   "metadata": {},
   "source": [
    "Temperature is lower than pure O2 (expected) \\\n",
    "But Pcrit keeps balooning the more Hydrogen I add!"
   ]
  },
  {
   "cell_type": "markdown",
   "metadata": {},
   "source": [
    "This is entirely different compared to what Law et al get"
   ]
  }
 ],
 "metadata": {
  "kernelspec": {
   "display_name": "Python 3 (ipykernel)",
   "language": "python",
   "name": "python3"
  },
  "language_info": {
   "codemirror_mode": {
    "name": "ipython",
    "version": 3
   },
   "file_extension": ".py",
   "mimetype": "text/x-python",
   "name": "python",
   "nbconvert_exporter": "python",
   "pygments_lexer": "ipython3",
   "version": "3.13.1"
  }
 },
 "nbformat": 4,
 "nbformat_minor": 4
}
