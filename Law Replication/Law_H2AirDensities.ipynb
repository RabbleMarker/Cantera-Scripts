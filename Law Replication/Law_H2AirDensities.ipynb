{
 "cells": [
  {
   "cell_type": "markdown",
   "metadata": {},
   "source": [
    "\n",
    "# Law Replication: Densities of H2-Air Mixtures\n",
    "\n",
    "This Code tries to calculate and compare the Densities of Hydrogen-Air Mixtures. \\\n",
    "We obtain the these from:\n",
    "1. Using Canteras gri-mech gas object (ideal-gas approximation)\n",
    "2. Using the Van-der-Waals EOS (non-ideal prediction)\n",
    "4. CoolProps Backends (should be most accurate)\n",
    "5. Reference values from Liang, Chung K. Law et al's paper (https://doi.org/10.1016/j.proci.2018.06.070, Fig.4). WebPlotDigitizer (https://apps.automeris.io/wpd4/) was used to extract the data and save it in a provided csv file (see subfolder /Extracted Plots)\n",
    "\n",
    "At the time of writing this, CoolProps still has its clear limitations with mixtures in available flashpoint routines, robustness of backends and accuracy of obtained results. This will be demonstrated here.\n",
    "\n",
    "Sources: \\\n",
    "Burke Mechanism: https://burke.me.columbia.edu/sites/burke.me.columbia.edu/files/content/chem_cti.txt \\\n",
    "Cantera Critical State Properties: https://cantera.org/stable/examples/python/thermo/critical_properties.html \\\n",
    "Coolprop Cubic EOS: http://www.coolprop.org/coolprop/Cubics.html \\\n",
    "Coolprop Mixture Handling: http://www.coolprop.org/dev/fluid_properties/Mixtures.html \\\n",
    "Coolprop Low Level Interface: http://www.coolprop.org/coolprop/LowLevelAPI.html"
   ]
  },
  {
   "cell_type": "code",
   "execution_count": 289,
   "metadata": {
    "collapsed": false,
    "jupyter": {
     "outputs_hidden": false
    }
   },
   "outputs": [],
   "source": [
    "#Imports\n",
    "import cantera as ct\n",
    "import numpy as np\n",
    "import matplotlib.pyplot as plt\n",
    "from matplotlib.lines import Line2D #Needed for better plots\n",
    "import CoolProp.CoolProp as CP\n",
    "from CoolProp.CoolProp import PropsSI\n",
    "# !pip install pandas if you dont have it\n",
    "import pandas as pd"
   ]
  },
  {
   "cell_type": "code",
   "execution_count": 290,
   "metadata": {},
   "outputs": [
    {
     "name": "stdout",
     "output_type": "stream",
     "text": [
      "[0.6  0.65 0.7  0.75 0.8  0.85 0.9  0.95 1.   1.05 1.1  1.15 1.2  1.25\n",
      " 1.3  1.35 1.4  1.45 1.5  1.55 1.6  1.65 1.7  1.75 1.8  1.85 1.9  1.95\n",
      " 2.   2.05 2.1  2.15 2.2  2.25 2.3  2.35 2.4  2.45 2.5  2.55 2.6  2.65\n",
      " 2.7  2.75 2.8  2.85 2.9  2.95 3.  ]\n"
     ]
    }
   ],
   "source": [
    "#We need a range of equivalence ratios\n",
    "phi = np.linspace(0.6,3, 49) #Upper and lower bound are same as Fig 4 of reference\n",
    "print (phi)"
   ]
  },
  {
   "cell_type": "markdown",
   "metadata": {},
   "source": [
    "We first start with Cantera: Getting mixture densities is as simple as setting up a gas object, defining the mass fractions, then querying its properties."
   ]
  },
  {
   "cell_type": "code",
   "execution_count": 291,
   "metadata": {},
   "outputs": [],
   "source": [
    "gas1 = ct.Solution ('gri30.yaml')\n",
    "fuel = 'H2:1'\n",
    "oxidizer = 'O2:0.21,N2:0.79'\n",
    "\n",
    "#Setting our Temperature and Pressure Constants\n",
    "T = 298.15 # 25 C\n",
    "P = 10132500 # 100 atm\n",
    "gas1.TP = T, P\n",
    "\n",
    "#gas1.set_equivalence_ratio(1, fuel, oxidizer)\n",
    "#print(gas1.density)\n",
    "\n",
    "#Setting up an array and for loop to get all relevant densities\n",
    "rho_ct = [] #Final values array\n",
    "for i in phi:\n",
    "    gas1.set_equivalence_ratio(i, fuel, oxidizer)\n",
    "    rho = gas1.density #kg/m3\n",
    "    rho_ct.append(rho/1000) #g/cm3"
   ]
  },
  {
   "cell_type": "code",
   "execution_count": 292,
   "metadata": {},
   "outputs": [
    {
     "name": "stdout",
     "output_type": "stream",
     "text": [
      "[0.09584725770615551, 0.09440205106284502, 0.09300375220857549, 0.09165011385003173, 0.09033902999078347, 0.08906852499821791, 0.08783674367015727, 0.0866419421961199, 0.08548247992061041, 0.08435681182662162, 0.0832634816669335, 0.08220111567899653, 0.08116841682636093, 0.08016415951589631, 0.0791871847455607, 0.07823639564233048, 0.07731075335417309, 0.07640927326371776, 0.07553102149461159, 0.07467511168450146, 0.07384070200120031, 0.07302699238092258, 0.07223322196954315, 0.07145866674967837, 0.0707026373380336, 0.06996447693893187, 0.06924355944125529, 0.06853928764720836, 0.06785109162237339, 0.06717842715747556, 0.06652077433313339, 0.06587763617963849, 0.0652485374245047, 0.06463302332115274, 0.06403065855266382, 0.06344102620504885, 0.06286372680494379, 0.06229837741706365, 0.0617446107971303, 0.06120207459633615, 0.06067043061372234, 0.06014935409313874, 0.05963853306171376, 0.05913766770700333, 0.058646469790205505, 0.05816466209302785, 0.05769197789597712, 0.05722816048600814, 0.056772962691622665]\n"
     ]
    }
   ],
   "source": [
    "print(rho_ct)"
   ]
  },
  {
   "cell_type": "markdown",
   "metadata": {},
   "source": [
    "Now to do Van-der-Waals: All Formulas are from Page 241, 242 of https://nvlpubs.nist.gov/nistpubs/jres/121/jres.121.011.pdf \\\n",
    "After applying the simplifications ($\\Delta$1=$\\Delta$2=0, a is not Temperature dependent) the EOS looks more familiar:"
   ]
  },
  {
   "cell_type": "markdown",
   "metadata": {},
   "source": [
    "$$ p = \\frac{RT}{v-b} - \\frac{a}{v^2} $$"
   ]
  },
  {
   "cell_type": "markdown",
   "metadata": {},
   "source": [
    "Simplifying gives us"
   ]
  },
  {
   "cell_type": "markdown",
   "metadata": {},
   "source": [
    "$$ \\frac{RTv^2-a(v-b)}{(v-b)v^2} = p $$"
   ]
  },
  {
   "cell_type": "markdown",
   "metadata": {},
   "source": [
    "$$ pv^3-(bp+RT)v^2 + av -ab = 0 $$"
   ]
  },
  {
   "cell_type": "markdown",
   "metadata": {},
   "source": [
    "This is cubic can then be solved numerically using numpy.roots, and converted to a density with $\\rho = \\frac{M}{v}$"
   ]
  },
  {
   "cell_type": "markdown",
   "metadata": {},
   "source": [
    "The EOS parameters a and b are directly related to the critical Temperature and Pressure of the Fluid.\n",
    "Assuming the interaction parameters (kij) are 0, they can be calculated with:"
   ]
  },
  {
   "cell_type": "markdown",
   "metadata": {},
   "source": [
    "$$ a = \\frac{27}{64} \\frac{R^2 T_c^2}{P_c} ; b = \\frac{1}{8} \\frac{RT_c}{P_c} $$"
   ]
  },
  {
   "cell_type": "markdown",
   "metadata": {},
   "source": [
    "The mixture parameters need to be calculated from the individual species parameters with:"
   ]
  },
  {
   "cell_type": "markdown",
   "metadata": {},
   "source": [
    "$$\n",
    "b_{\\text{mix}} = \\sum x_i b_{ii}\n",
    "$$\n",
    "\n",
    "$$\n",
    "a_{\\text{mix}} = \\sum_{i}\\sum_{j} x_i x_j \\sqrt{a_{ii} a_{jj}}\n",
    "$$"
   ]
  },
  {
   "cell_type": "markdown",
   "metadata": {},
   "source": [
    "For our Case with 3 species:"
   ]
  },
  {
   "cell_type": "markdown",
   "metadata": {},
   "source": [
    "$$\n",
    "b_{\\text{mix}} = x_1 b_1 + x_2 b_2 + x_3 b_3\n",
    "$$\n",
    "\n",
    "$$\n",
    "a_{\\text{mix}} = x_1^2a_{1}+x_2^2a_{2}+x_3^2a_{3} + 2x_{1}x_{2}\\sqrt{a_1a_2} + 2x_{2}x_{3}\\sqrt{a_2a_3}+ 2x_{1}x_{3}\\sqrt{a_1a_3}\n",
    "$$"
   ]
  },
  {
   "cell_type": "markdown",
   "metadata": {},
   "source": [
    "Since we know each single species Tc and Pc, we can:\n",
    "1. Calculate a and b of each species\n",
    "2. Apply the mixing rule\n",
    "3. Solve the cubic of our mixture\n",
    "4. Convert v to $\\rho$"
   ]
  },
  {
   "cell_type": "code",
   "execution_count": 293,
   "metadata": {},
   "outputs": [
    {
     "name": "stdout",
     "output_type": "stream",
     "text": [
      "{'H2': (24714.34953722898, 0.02657193608055858), 'O2': (138189.61824497397, 0.03185747436983805), 'N2': (136764.6011500549, 0.03862192512478627)}\n"
     ]
    }
   ],
   "source": [
    "#Array for each species a and b Parameters\n",
    "fluids = ['H2','O2','N2']\n",
    "\n",
    "Par_list = []\n",
    "\n",
    "for X in fluids:\n",
    "    name1 = X\n",
    "    a = 27/64 * pow(ct.gas_constant,2)*pow(PropsSI(\"Tcrit\", X),2)/PropsSI(\"pcrit\", X)\n",
    "    b = 1/8 * (ct.gas_constant*PropsSI(\"Tcrit\", X))/PropsSI(\"pcrit\", X)\n",
    "    Par_list.append ((name1,a,b))\n",
    "\n",
    "#Converting List to Dictionary to make lookup easier\n",
    "Par_dict = {name: (a, b) for name, a, b in Par_list}\n",
    "\n",
    "#Now we can Lookup values with Par_dict['SPECIES'][POS]\n",
    "print(Par_dict)"
   ]
  },
  {
   "cell_type": "code",
   "execution_count": 297,
   "metadata": {},
   "outputs": [],
   "source": [
    "rho_VdW = []\n",
    "\n",
    "# Main Loop, calculates a_mix and b_mix, solves for v and calculates rho\n",
    "for i in phi:\n",
    "    gas1.set_equivalence_ratio(i, fuel, oxidizer)\n",
    "    b_mix = (gas1.X[gas1.species_index('N2')]*Par_dict['N2'][1] + gas1.X[gas1.species_index('H2')]*Par_dict['H2'][1] \\\n",
    "             + gas1.X[gas1.species_index('O2')]*Par_dict['O2'][1])\n",
    "    a_mix =( pow(gas1.X[gas1.species_index('N2')],2)*Par_dict['N2'][0] \\\n",
    "             + pow(gas1.X[gas1.species_index('H2')],2)*Par_dict['H2'][0] \\\n",
    "             + pow(gas1.X[gas1.species_index('O2')],2)*Par_dict['O2'][0] \\\n",
    "             + 2*gas1.X[gas1.species_index('N2')]*gas1.X[gas1.species_index('H2')]*np.sqrt(Par_dict['N2'][0]*Par_dict['H2'][0]) \\\n",
    "             + 2*gas1.X[gas1.species_index('H2')]*gas1.X[gas1.species_index('O2')]*np.sqrt(Par_dict['H2'][0]*Par_dict['O2'][0]) \\\n",
    "             + 2*gas1.X[gas1.species_index('N2')]*gas1.X[gas1.species_index('O2')]*np.sqrt(Par_dict['N2'][0]*Par_dict['O2'][0]) )\n",
    "\n",
    "    # Cubic has the form: A*x^3 + B*x^2 + C*x + D = 0\n",
    "    # For us, A=p, B=-(pb+RT), C=a, D=-ab\n",
    "    A = P\n",
    "    B = -(P * b_mix + ct.gas_constant * T)\n",
    "    C = a_mix\n",
    "    D = - a_mix * b_mix\n",
    "    v_roots = np.roots([A,B,C,D])\n",
    "    # Before calculating rho, we need to filter our solution for the positive real roots only:\n",
    "    positive_roots = v_roots[np.isreal(v_roots) & (np.real(v_roots) > 0)] #Picks roots that are non-complex and positive\n",
    "    positive_roots = np.real(positive_roots) #Converts picked roots into real numbers, instead of complex a + bi ones\n",
    "    rho = gas1.mean_molecular_weight/positive_roots\n",
    "    rho_VdW.append (rho/1000) #g/cm3\n",
    "\n",
    "rho_VdW = [arr[0] for arr in rho_VdW]"
   ]
  },
  {
   "cell_type": "code",
   "execution_count": 298,
   "metadata": {},
   "outputs": [
    {
     "name": "stdout",
     "output_type": "stream",
     "text": [
      "[np.float64(0.0967391644646437), np.float64(0.0950686166603426), np.float64(0.093462262372456), np.float64(0.09191632804540223), np.float64(0.09042734009215796), np.float64(0.0889920948379295), np.float64(0.08760763208864267), np.float64(0.08627121181502485), np.float64(0.08498029352438996), np.float64(0.08373251795905606), np.float64(0.08252569081552338), np.float64(0.08135776822428688), np.float64(0.08022684376828353), np.float64(0.07913113684983991), np.float64(0.07806898224274815), np.float64(0.07703882068864053), np.float64(0.0760391904159026), np.float64(0.07506871947553848), np.float64(0.07412611880218131), np.float64(0.07321017592019462), np.float64(0.07231974922489189), np.float64(0.07145376277755404), np.float64(0.07061120156037731), np.float64(0.06979110714393096), np.float64(0.06899257372527394), np.float64(0.0682147444997279), np.float64(0.06745680833351611), np.float64(0.06671799670815315), np.float64(0.06599758091068784), np.float64(0.0652948694467139), np.float64(0.06460920565554013), np.float64(0.06393996550908472), np.float64(0.06328655557797813), np.float64(0.06264841115005307), np.float64(0.062024994487898596), np.float64(0.06141579321348556), np.float64(0.06082031880905317), np.float64(0.06023810522448866), np.float64(0.0596687075823797), np.float64(0.059111700972743965), np.float64(0.05856667933018972), np.float64(0.05803325438693416), np.float64(0.057511054695697), np.float64(0.05699972471703188), np.float64(0.05649892396613641), np.float64(0.05600832621462176), np.float64(0.055527618743109367), np.float64(0.05505650164088212), np.float64(0.0545946871491338)]\n"
     ]
    }
   ],
   "source": [
    "print (rho_VdW)"
   ]
  },
  {
   "cell_type": "markdown",
   "metadata": {},
   "source": [
    "Now onto CoolProp: We will use CoolProps low level interface, so we can input our cantera gas object indeces directly into CoolProps set_mole_fractions Function. The results are identical:"
   ]
  },
  {
   "cell_type": "code",
   "execution_count": 299,
   "metadata": {},
   "outputs": [
    {
     "name": "stdout",
     "output_type": "stream",
     "text": [
      "PropsSI call: 105.76023255539225\n",
      "106.52428464448205\n"
     ]
    }
   ],
   "source": [
    "print ('PropsSI call:',PropsSI(\"D\", \"T\", 300, \"P\", 10132500, \"HEOS::N2[0.7]&H2[0.1]&O2[0.2]\"))\n",
    "\n",
    "AS = CP.AbstractState(\"HEOS\", \"N2&H2&O2\")\n",
    "AS.set_mole_fractions([0.7,0.1,0.2])\n",
    "AS.update(CP.PT_INPUTS, P, T)\n",
    "print (AS.keyed_output(CP.iDmass)) #Does not take AS.Dmass directly for some reason"
   ]
  },
  {
   "cell_type": "markdown",
   "metadata": {},
   "source": [
    "Additionally, we will specify the phase as gaseous, so the solver knows which root to pick. Alternatively, we could provide a density guess (haven't figured out how to do that while querying for density)"
   ]
  },
  {
   "cell_type": "code",
   "execution_count": 300,
   "metadata": {},
   "outputs": [],
   "source": [
    "#HEOS\n",
    "rho_HEOS = []\n",
    "\n",
    "AS1 = CP.AbstractState(\"HEOS\", \"N2&H2&O2\")\n",
    "for i in phi:\n",
    "    gas1.set_equivalence_ratio(i, fuel, oxidizer)\n",
    "    AS1.set_mole_fractions([gas1.X[gas1.species_index('N2')],gas1.X[gas1.species_index('H2')], gas1.X[gas1.species_index('O2')]])\n",
    "    AS1.specify_phase(CP.iphase_gas)\n",
    "    AS1.update(CP.PT_INPUTS, P, T)\n",
    "    rho_HEOS.append (AS1.keyed_output(CP.iDmass)/1000) # g/cm3"
   ]
  },
  {
   "cell_type": "code",
   "execution_count": 301,
   "metadata": {},
   "outputs": [],
   "source": [
    "#print (rho_HEOS)"
   ]
  },
  {
   "cell_type": "code",
   "execution_count": 302,
   "metadata": {},
   "outputs": [],
   "source": [
    "#PR\n",
    "rho_PR = []\n",
    "\n",
    "AS2 = CP.AbstractState(\"PR\", \"N2&H2&O2\")\n",
    "for i in phi:\n",
    "    gas1.set_equivalence_ratio(i, fuel, oxidizer)\n",
    "    AS2.set_mole_fractions([gas1.X[gas1.species_index('N2')],gas1.X[gas1.species_index('H2')], gas1.X[gas1.species_index('O2')]])\n",
    "    AS2.specify_phase(CP.iphase_gas)\n",
    "    AS2.update(CP.PT_INPUTS, P, T)\n",
    "    rho_PR.append (AS2.keyed_output(CP.iDmass)/1000)"
   ]
  },
  {
   "cell_type": "code",
   "execution_count": 303,
   "metadata": {},
   "outputs": [],
   "source": [
    "#SRK\n",
    "rho_SRK = []\n",
    "\n",
    "AS3 = CP.AbstractState(\"SRK\", \"N2&H2&O2\")\n",
    "for i in phi:\n",
    "    gas1.set_equivalence_ratio(i, fuel, oxidizer)\n",
    "    AS3.set_mole_fractions([gas1.X[gas1.species_index('N2')],gas1.X[gas1.species_index('H2')], gas1.X[gas1.species_index('O2')]])\n",
    "    AS3.specify_phase(CP.iphase_gas)\n",
    "    AS3.update(CP.PT_INPUTS, P, T)\n",
    "    rho_SRK.append (AS3.keyed_output(CP.iDmass)/1000)"
   ]
  },
  {
   "cell_type": "code",
   "execution_count": 304,
   "metadata": {},
   "outputs": [],
   "source": [
    "%config InlineBackend.figure_formats = ['svg'] #Looks better!"
   ]
  },
  {
   "cell_type": "code",
   "execution_count": 305,
   "metadata": {},
   "outputs": [
    {
     "ename": "NameError",
     "evalue": "name 'T_crit_list_SRK' is not defined",
     "output_type": "error",
     "traceback": [
      "\u001b[0;31m---------------------------------------------------------------------------\u001b[0m",
      "\u001b[0;31mNameError\u001b[0m                                 Traceback (most recent call last)",
      "Cell \u001b[0;32mIn[305], line 2\u001b[0m\n\u001b[1;32m      1\u001b[0m fig, ax1 \u001b[38;5;241m=\u001b[39m plt\u001b[38;5;241m.\u001b[39msubplots()\n\u001b[0;32m----> 2\u001b[0m ax1\u001b[38;5;241m.\u001b[39mplot(phi,\u001b[43mT_crit_list_SRK\u001b[49m, \u001b[38;5;124m'\u001b[39m\u001b[38;5;124m \u001b[39m\u001b[38;5;124m'\u001b[39m, color\u001b[38;5;241m=\u001b[39m\u001b[38;5;124m'\u001b[39m\u001b[38;5;124mg\u001b[39m\u001b[38;5;124m'\u001b[39m, marker\u001b[38;5;241m=\u001b[39m\u001b[38;5;124m'\u001b[39m\u001b[38;5;124m^\u001b[39m\u001b[38;5;124m'\u001b[39m, markersize\u001b[38;5;241m=\u001b[39m\u001b[38;5;241m5\u001b[39m, markerfacecolor\u001b[38;5;241m=\u001b[39m\u001b[38;5;124m'\u001b[39m\u001b[38;5;124mg\u001b[39m\u001b[38;5;124m'\u001b[39m, markevery\u001b[38;5;241m=\u001b[39m\u001b[38;5;241m2\u001b[39m, label\u001b[38;5;241m=\u001b[39m\u001b[38;5;124m'\u001b[39m\u001b[38;5;124m$SRK Critical Temperature$\u001b[39m\u001b[38;5;124m'\u001b[39m)\n\u001b[1;32m      3\u001b[0m ax1\u001b[38;5;241m.\u001b[39mplot(phi,T_crit_list_PR, \u001b[38;5;124m'\u001b[39m\u001b[38;5;124m \u001b[39m\u001b[38;5;124m'\u001b[39m, color\u001b[38;5;241m=\u001b[39m\u001b[38;5;124m'\u001b[39m\u001b[38;5;124mg\u001b[39m\u001b[38;5;124m'\u001b[39m, marker\u001b[38;5;241m=\u001b[39m\u001b[38;5;124m'\u001b[39m\u001b[38;5;124mo\u001b[39m\u001b[38;5;124m'\u001b[39m, markersize\u001b[38;5;241m=\u001b[39m\u001b[38;5;241m4\u001b[39m, markerfacecolor\u001b[38;5;241m=\u001b[39m\u001b[38;5;124m'\u001b[39m\u001b[38;5;124mg\u001b[39m\u001b[38;5;124m'\u001b[39m, markevery\u001b[38;5;241m=\u001b[39m\u001b[38;5;241m2\u001b[39m, label\u001b[38;5;241m=\u001b[39m\u001b[38;5;124m'\u001b[39m\u001b[38;5;124m$PR Critical Temperature$\u001b[39m\u001b[38;5;124m'\u001b[39m)\n\u001b[1;32m      4\u001b[0m ax1\u001b[38;5;241m.\u001b[39mplot(phi2_red,T_crit_list_HEOS, \u001b[38;5;124m'\u001b[39m\u001b[38;5;124m \u001b[39m\u001b[38;5;124m'\u001b[39m, color\u001b[38;5;241m=\u001b[39m\u001b[38;5;124m'\u001b[39m\u001b[38;5;124mg\u001b[39m\u001b[38;5;124m'\u001b[39m, marker\u001b[38;5;241m=\u001b[39m\u001b[38;5;124m'\u001b[39m\u001b[38;5;124ms\u001b[39m\u001b[38;5;124m'\u001b[39m, markersize\u001b[38;5;241m=\u001b[39m\u001b[38;5;241m3\u001b[39m, markerfacecolor\u001b[38;5;241m=\u001b[39m\u001b[38;5;124m'\u001b[39m\u001b[38;5;124mg\u001b[39m\u001b[38;5;124m'\u001b[39m, markevery\u001b[38;5;241m=\u001b[39m\u001b[38;5;241m3\u001b[39m, label\u001b[38;5;241m=\u001b[39m\u001b[38;5;124m'\u001b[39m\u001b[38;5;124m$HEOS Critical Temperature$\u001b[39m\u001b[38;5;124m'\u001b[39m)\n",
      "\u001b[0;31mNameError\u001b[0m: name 'T_crit_list_SRK' is not defined"
     ]
    },
    {
     "data": {
      "image/svg+xml": [
       "<?xml version=\"1.0\" encoding=\"utf-8\" standalone=\"no\"?>\n",
       "<!DOCTYPE svg PUBLIC \"-//W3C//DTD SVG 1.1//EN\"\n",
       "  \"http://www.w3.org/Graphics/SVG/1.1/DTD/svg11.dtd\">\n",
       "<svg xmlns:xlink=\"http://www.w3.org/1999/xlink\" width=\"402.374687pt\" height=\"300.989344pt\" viewBox=\"0 0 402.374687 300.989344\" xmlns=\"http://www.w3.org/2000/svg\" version=\"1.1\">\n",
       " <metadata>\n",
       "  <rdf:RDF xmlns:dc=\"http://purl.org/dc/elements/1.1/\" xmlns:cc=\"http://creativecommons.org/ns#\" xmlns:rdf=\"http://www.w3.org/1999/02/22-rdf-syntax-ns#\">\n",
       "   <cc:Work>\n",
       "    <dc:type rdf:resource=\"http://purl.org/dc/dcmitype/StillImage\"/>\n",
       "    <dc:date>2025-05-02T21:48:31.041848</dc:date>\n",
       "    <dc:format>image/svg+xml</dc:format>\n",
       "    <dc:creator>\n",
       "     <cc:Agent>\n",
       "      <dc:title>Matplotlib v3.10.0, https://matplotlib.org/</dc:title>\n",
       "     </cc:Agent>\n",
       "    </dc:creator>\n",
       "   </cc:Work>\n",
       "  </rdf:RDF>\n",
       " </metadata>\n",
       " <defs>\n",
       "  <style type=\"text/css\">*{stroke-linejoin: round; stroke-linecap: butt}</style>\n",
       " </defs>\n",
       " <g id=\"figure_1\">\n",
       "  <g id=\"patch_1\">\n",
       "   <path d=\"M 0 300.989344 \n",
       "L 402.374687 300.989344 \n",
       "L 402.374687 0 \n",
       "L 0 0 \n",
       "z\n",
       "\" style=\"fill: #ffffff\"/>\n",
       "  </g>\n",
       "  <g id=\"axes_1\">\n",
       "   <g id=\"patch_2\">\n",
       "    <path d=\"M 30.103125 277.111219 \n",
       "L 387.223125 277.111219 \n",
       "L 387.223125 10.999219 \n",
       "L 30.103125 10.999219 \n",
       "z\n",
       "\" style=\"fill: #ffffff\"/>\n",
       "   </g>\n",
       "   <g id=\"matplotlib.axis_1\">\n",
       "    <g id=\"xtick_1\">\n",
       "     <g id=\"line2d_1\">\n",
       "      <defs>\n",
       "       <path id=\"mcbd774554b\" d=\"M 0 0 \n",
       "L 0 3.5 \n",
       "\" style=\"stroke: #000000; stroke-width: 0.8\"/>\n",
       "      </defs>\n",
       "      <g>\n",
       "       <use xlink:href=\"#mcbd774554b\" x=\"30.103125\" y=\"277.111219\" style=\"stroke: #000000; stroke-width: 0.8\"/>\n",
       "      </g>\n",
       "     </g>\n",
       "     <g id=\"text_1\">\n",
       "      <!-- 0.0 -->\n",
       "      <g transform=\"translate(22.151563 291.709656) scale(0.1 -0.1)\">\n",
       "       <defs>\n",
       "        <path id=\"DejaVuSans-30\" d=\"M 2034 4250 \n",
       "Q 1547 4250 1301 3770 \n",
       "Q 1056 3291 1056 2328 \n",
       "Q 1056 1369 1301 889 \n",
       "Q 1547 409 2034 409 \n",
       "Q 2525 409 2770 889 \n",
       "Q 3016 1369 3016 2328 \n",
       "Q 3016 3291 2770 3770 \n",
       "Q 2525 4250 2034 4250 \n",
       "z\n",
       "M 2034 4750 \n",
       "Q 2819 4750 3233 4129 \n",
       "Q 3647 3509 3647 2328 \n",
       "Q 3647 1150 3233 529 \n",
       "Q 2819 -91 2034 -91 \n",
       "Q 1250 -91 836 529 \n",
       "Q 422 1150 422 2328 \n",
       "Q 422 3509 836 4129 \n",
       "Q 1250 4750 2034 4750 \n",
       "z\n",
       "\" transform=\"scale(0.015625)\"/>\n",
       "        <path id=\"DejaVuSans-2e\" d=\"M 684 794 \n",
       "L 1344 794 \n",
       "L 1344 0 \n",
       "L 684 0 \n",
       "L 684 794 \n",
       "z\n",
       "\" transform=\"scale(0.015625)\"/>\n",
       "       </defs>\n",
       "       <use xlink:href=\"#DejaVuSans-30\"/>\n",
       "       <use xlink:href=\"#DejaVuSans-2e\" transform=\"translate(63.623047 0)\"/>\n",
       "       <use xlink:href=\"#DejaVuSans-30\" transform=\"translate(95.410156 0)\"/>\n",
       "      </g>\n",
       "     </g>\n",
       "    </g>\n",
       "    <g id=\"xtick_2\">\n",
       "     <g id=\"line2d_2\">\n",
       "      <g>\n",
       "       <use xlink:href=\"#mcbd774554b\" x=\"101.527125\" y=\"277.111219\" style=\"stroke: #000000; stroke-width: 0.8\"/>\n",
       "      </g>\n",
       "     </g>\n",
       "     <g id=\"text_2\">\n",
       "      <!-- 0.2 -->\n",
       "      <g transform=\"translate(93.575563 291.709656) scale(0.1 -0.1)\">\n",
       "       <defs>\n",
       "        <path id=\"DejaVuSans-32\" d=\"M 1228 531 \n",
       "L 3431 531 \n",
       "L 3431 0 \n",
       "L 469 0 \n",
       "L 469 531 \n",
       "Q 828 903 1448 1529 \n",
       "Q 2069 2156 2228 2338 \n",
       "Q 2531 2678 2651 2914 \n",
       "Q 2772 3150 2772 3378 \n",
       "Q 2772 3750 2511 3984 \n",
       "Q 2250 4219 1831 4219 \n",
       "Q 1534 4219 1204 4116 \n",
       "Q 875 4013 500 3803 \n",
       "L 500 4441 \n",
       "Q 881 4594 1212 4672 \n",
       "Q 1544 4750 1819 4750 \n",
       "Q 2544 4750 2975 4387 \n",
       "Q 3406 4025 3406 3419 \n",
       "Q 3406 3131 3298 2873 \n",
       "Q 3191 2616 2906 2266 \n",
       "Q 2828 2175 2409 1742 \n",
       "Q 1991 1309 1228 531 \n",
       "z\n",
       "\" transform=\"scale(0.015625)\"/>\n",
       "       </defs>\n",
       "       <use xlink:href=\"#DejaVuSans-30\"/>\n",
       "       <use xlink:href=\"#DejaVuSans-2e\" transform=\"translate(63.623047 0)\"/>\n",
       "       <use xlink:href=\"#DejaVuSans-32\" transform=\"translate(95.410156 0)\"/>\n",
       "      </g>\n",
       "     </g>\n",
       "    </g>\n",
       "    <g id=\"xtick_3\">\n",
       "     <g id=\"line2d_3\">\n",
       "      <g>\n",
       "       <use xlink:href=\"#mcbd774554b\" x=\"172.951125\" y=\"277.111219\" style=\"stroke: #000000; stroke-width: 0.8\"/>\n",
       "      </g>\n",
       "     </g>\n",
       "     <g id=\"text_3\">\n",
       "      <!-- 0.4 -->\n",
       "      <g transform=\"translate(164.999563 291.709656) scale(0.1 -0.1)\">\n",
       "       <defs>\n",
       "        <path id=\"DejaVuSans-34\" d=\"M 2419 4116 \n",
       "L 825 1625 \n",
       "L 2419 1625 \n",
       "L 2419 4116 \n",
       "z\n",
       "M 2253 4666 \n",
       "L 3047 4666 \n",
       "L 3047 1625 \n",
       "L 3713 1625 \n",
       "L 3713 1100 \n",
       "L 3047 1100 \n",
       "L 3047 0 \n",
       "L 2419 0 \n",
       "L 2419 1100 \n",
       "L 313 1100 \n",
       "L 313 1709 \n",
       "L 2253 4666 \n",
       "z\n",
       "\" transform=\"scale(0.015625)\"/>\n",
       "       </defs>\n",
       "       <use xlink:href=\"#DejaVuSans-30\"/>\n",
       "       <use xlink:href=\"#DejaVuSans-2e\" transform=\"translate(63.623047 0)\"/>\n",
       "       <use xlink:href=\"#DejaVuSans-34\" transform=\"translate(95.410156 0)\"/>\n",
       "      </g>\n",
       "     </g>\n",
       "    </g>\n",
       "    <g id=\"xtick_4\">\n",
       "     <g id=\"line2d_4\">\n",
       "      <g>\n",
       "       <use xlink:href=\"#mcbd774554b\" x=\"244.375125\" y=\"277.111219\" style=\"stroke: #000000; stroke-width: 0.8\"/>\n",
       "      </g>\n",
       "     </g>\n",
       "     <g id=\"text_4\">\n",
       "      <!-- 0.6 -->\n",
       "      <g transform=\"translate(236.423563 291.709656) scale(0.1 -0.1)\">\n",
       "       <defs>\n",
       "        <path id=\"DejaVuSans-36\" d=\"M 2113 2584 \n",
       "Q 1688 2584 1439 2293 \n",
       "Q 1191 2003 1191 1497 \n",
       "Q 1191 994 1439 701 \n",
       "Q 1688 409 2113 409 \n",
       "Q 2538 409 2786 701 \n",
       "Q 3034 994 3034 1497 \n",
       "Q 3034 2003 2786 2293 \n",
       "Q 2538 2584 2113 2584 \n",
       "z\n",
       "M 3366 4563 \n",
       "L 3366 3988 \n",
       "Q 3128 4100 2886 4159 \n",
       "Q 2644 4219 2406 4219 \n",
       "Q 1781 4219 1451 3797 \n",
       "Q 1122 3375 1075 2522 \n",
       "Q 1259 2794 1537 2939 \n",
       "Q 1816 3084 2150 3084 \n",
       "Q 2853 3084 3261 2657 \n",
       "Q 3669 2231 3669 1497 \n",
       "Q 3669 778 3244 343 \n",
       "Q 2819 -91 2113 -91 \n",
       "Q 1303 -91 875 529 \n",
       "Q 447 1150 447 2328 \n",
       "Q 447 3434 972 4092 \n",
       "Q 1497 4750 2381 4750 \n",
       "Q 2619 4750 2861 4703 \n",
       "Q 3103 4656 3366 4563 \n",
       "z\n",
       "\" transform=\"scale(0.015625)\"/>\n",
       "       </defs>\n",
       "       <use xlink:href=\"#DejaVuSans-30\"/>\n",
       "       <use xlink:href=\"#DejaVuSans-2e\" transform=\"translate(63.623047 0)\"/>\n",
       "       <use xlink:href=\"#DejaVuSans-36\" transform=\"translate(95.410156 0)\"/>\n",
       "      </g>\n",
       "     </g>\n",
       "    </g>\n",
       "    <g id=\"xtick_5\">\n",
       "     <g id=\"line2d_5\">\n",
       "      <g>\n",
       "       <use xlink:href=\"#mcbd774554b\" x=\"315.799125\" y=\"277.111219\" style=\"stroke: #000000; stroke-width: 0.8\"/>\n",
       "      </g>\n",
       "     </g>\n",
       "     <g id=\"text_5\">\n",
       "      <!-- 0.8 -->\n",
       "      <g transform=\"translate(307.847562 291.709656) scale(0.1 -0.1)\">\n",
       "       <defs>\n",
       "        <path id=\"DejaVuSans-38\" d=\"M 2034 2216 \n",
       "Q 1584 2216 1326 1975 \n",
       "Q 1069 1734 1069 1313 \n",
       "Q 1069 891 1326 650 \n",
       "Q 1584 409 2034 409 \n",
       "Q 2484 409 2743 651 \n",
       "Q 3003 894 3003 1313 \n",
       "Q 3003 1734 2745 1975 \n",
       "Q 2488 2216 2034 2216 \n",
       "z\n",
       "M 1403 2484 \n",
       "Q 997 2584 770 2862 \n",
       "Q 544 3141 544 3541 \n",
       "Q 544 4100 942 4425 \n",
       "Q 1341 4750 2034 4750 \n",
       "Q 2731 4750 3128 4425 \n",
       "Q 3525 4100 3525 3541 \n",
       "Q 3525 3141 3298 2862 \n",
       "Q 3072 2584 2669 2484 \n",
       "Q 3125 2378 3379 2068 \n",
       "Q 3634 1759 3634 1313 \n",
       "Q 3634 634 3220 271 \n",
       "Q 2806 -91 2034 -91 \n",
       "Q 1263 -91 848 271 \n",
       "Q 434 634 434 1313 \n",
       "Q 434 1759 690 2068 \n",
       "Q 947 2378 1403 2484 \n",
       "z\n",
       "M 1172 3481 \n",
       "Q 1172 3119 1398 2916 \n",
       "Q 1625 2713 2034 2713 \n",
       "Q 2441 2713 2670 2916 \n",
       "Q 2900 3119 2900 3481 \n",
       "Q 2900 3844 2670 4047 \n",
       "Q 2441 4250 2034 4250 \n",
       "Q 1625 4250 1398 4047 \n",
       "Q 1172 3844 1172 3481 \n",
       "z\n",
       "\" transform=\"scale(0.015625)\"/>\n",
       "       </defs>\n",
       "       <use xlink:href=\"#DejaVuSans-30\"/>\n",
       "       <use xlink:href=\"#DejaVuSans-2e\" transform=\"translate(63.623047 0)\"/>\n",
       "       <use xlink:href=\"#DejaVuSans-38\" transform=\"translate(95.410156 0)\"/>\n",
       "      </g>\n",
       "     </g>\n",
       "    </g>\n",
       "    <g id=\"xtick_6\">\n",
       "     <g id=\"line2d_6\">\n",
       "      <g>\n",
       "       <use xlink:href=\"#mcbd774554b\" x=\"387.223125\" y=\"277.111219\" style=\"stroke: #000000; stroke-width: 0.8\"/>\n",
       "      </g>\n",
       "     </g>\n",
       "     <g id=\"text_6\">\n",
       "      <!-- 1.0 -->\n",
       "      <g transform=\"translate(379.271562 291.709656) scale(0.1 -0.1)\">\n",
       "       <defs>\n",
       "        <path id=\"DejaVuSans-31\" d=\"M 794 531 \n",
       "L 1825 531 \n",
       "L 1825 4091 \n",
       "L 703 3866 \n",
       "L 703 4441 \n",
       "L 1819 4666 \n",
       "L 2450 4666 \n",
       "L 2450 531 \n",
       "L 3481 531 \n",
       "L 3481 0 \n",
       "L 794 0 \n",
       "L 794 531 \n",
       "z\n",
       "\" transform=\"scale(0.015625)\"/>\n",
       "       </defs>\n",
       "       <use xlink:href=\"#DejaVuSans-31\"/>\n",
       "       <use xlink:href=\"#DejaVuSans-2e\" transform=\"translate(63.623047 0)\"/>\n",
       "       <use xlink:href=\"#DejaVuSans-30\" transform=\"translate(95.410156 0)\"/>\n",
       "      </g>\n",
       "     </g>\n",
       "    </g>\n",
       "   </g>\n",
       "   <g id=\"matplotlib.axis_2\">\n",
       "    <g id=\"ytick_1\">\n",
       "     <g id=\"line2d_7\">\n",
       "      <defs>\n",
       "       <path id=\"md58ebc78b0\" d=\"M 0 0 \n",
       "L -3.5 0 \n",
       "\" style=\"stroke: #000000; stroke-width: 0.8\"/>\n",
       "      </defs>\n",
       "      <g>\n",
       "       <use xlink:href=\"#md58ebc78b0\" x=\"30.103125\" y=\"277.111219\" style=\"stroke: #000000; stroke-width: 0.8\"/>\n",
       "      </g>\n",
       "     </g>\n",
       "     <g id=\"text_7\">\n",
       "      <!-- 0.0 -->\n",
       "      <g transform=\"translate(7.2 280.910437) scale(0.1 -0.1)\">\n",
       "       <use xlink:href=\"#DejaVuSans-30\"/>\n",
       "       <use xlink:href=\"#DejaVuSans-2e\" transform=\"translate(63.623047 0)\"/>\n",
       "       <use xlink:href=\"#DejaVuSans-30\" transform=\"translate(95.410156 0)\"/>\n",
       "      </g>\n",
       "     </g>\n",
       "    </g>\n",
       "    <g id=\"ytick_2\">\n",
       "     <g id=\"line2d_8\">\n",
       "      <g>\n",
       "       <use xlink:href=\"#md58ebc78b0\" x=\"30.103125\" y=\"223.888819\" style=\"stroke: #000000; stroke-width: 0.8\"/>\n",
       "      </g>\n",
       "     </g>\n",
       "     <g id=\"text_8\">\n",
       "      <!-- 0.2 -->\n",
       "      <g transform=\"translate(7.2 227.688037) scale(0.1 -0.1)\">\n",
       "       <use xlink:href=\"#DejaVuSans-30\"/>\n",
       "       <use xlink:href=\"#DejaVuSans-2e\" transform=\"translate(63.623047 0)\"/>\n",
       "       <use xlink:href=\"#DejaVuSans-32\" transform=\"translate(95.410156 0)\"/>\n",
       "      </g>\n",
       "     </g>\n",
       "    </g>\n",
       "    <g id=\"ytick_3\">\n",
       "     <g id=\"line2d_9\">\n",
       "      <g>\n",
       "       <use xlink:href=\"#md58ebc78b0\" x=\"30.103125\" y=\"170.666419\" style=\"stroke: #000000; stroke-width: 0.8\"/>\n",
       "      </g>\n",
       "     </g>\n",
       "     <g id=\"text_9\">\n",
       "      <!-- 0.4 -->\n",
       "      <g transform=\"translate(7.2 174.465637) scale(0.1 -0.1)\">\n",
       "       <use xlink:href=\"#DejaVuSans-30\"/>\n",
       "       <use xlink:href=\"#DejaVuSans-2e\" transform=\"translate(63.623047 0)\"/>\n",
       "       <use xlink:href=\"#DejaVuSans-34\" transform=\"translate(95.410156 0)\"/>\n",
       "      </g>\n",
       "     </g>\n",
       "    </g>\n",
       "    <g id=\"ytick_4\">\n",
       "     <g id=\"line2d_10\">\n",
       "      <g>\n",
       "       <use xlink:href=\"#md58ebc78b0\" x=\"30.103125\" y=\"117.444019\" style=\"stroke: #000000; stroke-width: 0.8\"/>\n",
       "      </g>\n",
       "     </g>\n",
       "     <g id=\"text_10\">\n",
       "      <!-- 0.6 -->\n",
       "      <g transform=\"translate(7.2 121.243237) scale(0.1 -0.1)\">\n",
       "       <use xlink:href=\"#DejaVuSans-30\"/>\n",
       "       <use xlink:href=\"#DejaVuSans-2e\" transform=\"translate(63.623047 0)\"/>\n",
       "       <use xlink:href=\"#DejaVuSans-36\" transform=\"translate(95.410156 0)\"/>\n",
       "      </g>\n",
       "     </g>\n",
       "    </g>\n",
       "    <g id=\"ytick_5\">\n",
       "     <g id=\"line2d_11\">\n",
       "      <g>\n",
       "       <use xlink:href=\"#md58ebc78b0\" x=\"30.103125\" y=\"64.221619\" style=\"stroke: #000000; stroke-width: 0.8\"/>\n",
       "      </g>\n",
       "     </g>\n",
       "     <g id=\"text_11\">\n",
       "      <!-- 0.8 -->\n",
       "      <g transform=\"translate(7.2 68.020837) scale(0.1 -0.1)\">\n",
       "       <use xlink:href=\"#DejaVuSans-30\"/>\n",
       "       <use xlink:href=\"#DejaVuSans-2e\" transform=\"translate(63.623047 0)\"/>\n",
       "       <use xlink:href=\"#DejaVuSans-38\" transform=\"translate(95.410156 0)\"/>\n",
       "      </g>\n",
       "     </g>\n",
       "    </g>\n",
       "    <g id=\"ytick_6\">\n",
       "     <g id=\"line2d_12\">\n",
       "      <g>\n",
       "       <use xlink:href=\"#md58ebc78b0\" x=\"30.103125\" y=\"10.999219\" style=\"stroke: #000000; stroke-width: 0.8\"/>\n",
       "      </g>\n",
       "     </g>\n",
       "     <g id=\"text_12\">\n",
       "      <!-- 1.0 -->\n",
       "      <g transform=\"translate(7.2 14.798437) scale(0.1 -0.1)\">\n",
       "       <use xlink:href=\"#DejaVuSans-31\"/>\n",
       "       <use xlink:href=\"#DejaVuSans-2e\" transform=\"translate(63.623047 0)\"/>\n",
       "       <use xlink:href=\"#DejaVuSans-30\" transform=\"translate(95.410156 0)\"/>\n",
       "      </g>\n",
       "     </g>\n",
       "    </g>\n",
       "   </g>\n",
       "   <g id=\"patch_3\">\n",
       "    <path d=\"M 30.103125 277.111219 \n",
       "L 30.103125 10.999219 \n",
       "\" style=\"fill: none; stroke: #000000; stroke-width: 0.8; stroke-linejoin: miter; stroke-linecap: square\"/>\n",
       "   </g>\n",
       "   <g id=\"patch_4\">\n",
       "    <path d=\"M 387.223125 277.111219 \n",
       "L 387.223125 10.999219 \n",
       "\" style=\"fill: none; stroke: #000000; stroke-width: 0.8; stroke-linejoin: miter; stroke-linecap: square\"/>\n",
       "   </g>\n",
       "   <g id=\"patch_5\">\n",
       "    <path d=\"M 30.103125 277.111219 \n",
       "L 387.223125 277.111219 \n",
       "\" style=\"fill: none; stroke: #000000; stroke-width: 0.8; stroke-linejoin: miter; stroke-linecap: square\"/>\n",
       "   </g>\n",
       "   <g id=\"patch_6\">\n",
       "    <path d=\"M 30.103125 10.999219 \n",
       "L 387.223125 10.999219 \n",
       "\" style=\"fill: none; stroke: #000000; stroke-width: 0.8; stroke-linejoin: miter; stroke-linecap: square\"/>\n",
       "   </g>\n",
       "  </g>\n",
       " </g>\n",
       "</svg>\n"
      ],
      "text/plain": [
       "<Figure size 640x480 with 1 Axes>"
      ]
     },
     "metadata": {},
     "output_type": "display_data"
    }
   ],
   "source": [
    "fig, ax1 = plt.subplots()\n",
    "ax1.plot(phi,T_crit_list_SRK, ' ', color='g', marker='^', markersize=5, markerfacecolor='g', markevery=2, label='$SRK Critical Temperature$')\n",
    "ax1.plot(phi,T_crit_list_PR, ' ', color='g', marker='o', markersize=4, markerfacecolor='g', markevery=2, label='$PR Critical Temperature$')\n",
    "ax1.plot(phi2_red,T_crit_list_HEOS, ' ', color='g', marker='s', markersize=3, markerfacecolor='g', markevery=3, label='$HEOS Critical Temperature$')\n",
    "ax1.plot(phi,T_c_VdW_CH4, 'g-.', label='$VdW Pseudocritical Temperature$')\n",
    "ax1.plot(phi,T_c_mix_CH4, 'g--', label='$Pseudocritical Temperature$')\n",
    "ax1.plot(CH4_critP['phi'], CH4_critP['T'], 'g-', label='$Reference Critical Temperature$')\n",
    "ax1.set_xlabel('Equivalence Ratio')\n",
    "ax1.set_ylabel('Crit. Temperature [K]', color='g')\n",
    "ax1.set_xlim(0.6, 2)\n",
    "ax1.set_ylim(60, 160)\n",
    "ax1.set_xticks([0.6, 1, 1.5, 2])\n",
    "ax1.set_yticks([60, 80, 100, 120, 140, 160])\n",
    "ax1.minorticks_on()\n",
    "custom_legend_lines = [\n",
    "    Line2D([0], [0], color='black', lw=2, linestyle=' ', marker='^', label='CoolProp SRK'),\n",
    "    Line2D([0], [0], color='black', lw=2, linestyle=' ', marker='o', label='CoolProp PR'),\n",
    "    Line2D([0], [0], color='black', lw=2, linestyle=' ', marker='s', label='CoolProp HEOS'),\n",
    "    Line2D([0], [0], color='black', lw=2, linestyle='-', label='Law Reference'),\n",
    "    Line2D([0], [0], color='black', lw=2, linestyle='--', label='Kays Law Prediction'),\n",
    "    Line2D([0], [0], color='black', lw=2, linestyle='-.', label='Van-der-Waals Prediction')\n",
    "]\n",
    "ax1.legend(handles=custom_legend_lines, loc='lower right')\n",
    "plt.savefig(\"Graphs/rho H2-Air at 100atm.svg\")\n",
    "plt.show()"
   ]
  },
  {
   "cell_type": "markdown",
   "metadata": {},
   "source": [
    "Cantera\n",
    "Van der Waals\n",
    "CoolProp SRK and HEOS are very close to reference SRK. HEOS slightly overpredicts at low phis, and underpredicts at high phis.\n",
    "CoolProp PR consistently overpredicts compared to Reference. \\"
   ]
  }
 ],
 "metadata": {
  "kernelspec": {
   "display_name": "Python 3 (ipykernel)",
   "language": "python",
   "name": "python3"
  },
  "language_info": {
   "codemirror_mode": {
    "name": "ipython",
    "version": 3
   },
   "file_extension": ".py",
   "mimetype": "text/x-python",
   "name": "python",
   "nbconvert_exporter": "python",
   "pygments_lexer": "ipython3",
   "version": "3.13.1"
  }
 },
 "nbformat": 4,
 "nbformat_minor": 4
}
