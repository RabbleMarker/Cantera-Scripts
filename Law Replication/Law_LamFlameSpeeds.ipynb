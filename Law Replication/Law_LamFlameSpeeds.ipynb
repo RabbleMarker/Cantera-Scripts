{
 "cells": [
  {
   "cell_type": "markdown",
   "metadata": {},
   "source": [
    "\n",
    "# Law Replication: Laminar Flame Speeds of H2-Air & Me-Air @100 Atm\n",
    "\n",
    "Burke Mechanism: \\\n",
    "https://burke.me.columbia.edu/sites/burke.me.columbia.edu/files/content/chem_cti.txt \\\n",
    "Dont forget to use \"cti2yaml\" to convert the downloaded chem_cti to a Cantera readable YAML file!  \\\n",
    "\n",
    "WebPlotDigitizer: \\\n",
    "https://apps.automeris.io/wpd4/"
   ]
  },
  {
   "cell_type": "code",
   "execution_count": 1,
   "metadata": {
    "collapsed": false,
    "jupyter": {
     "outputs_hidden": false
    }
   },
   "outputs": [],
   "source": [
    "import cantera as ct\n",
    "import numpy as np\n",
    "import matplotlib.pyplot as plt"
   ]
  },
  {
   "cell_type": "markdown",
   "metadata": {},
   "source": [
    "First we import the Burke YAML as a gas object, identically to gri30"
   ]
  },
  {
   "cell_type": "code",
   "execution_count": 2,
   "metadata": {},
   "outputs": [],
   "source": [
    "gas1 = ct.Solution('Burke Mech/Burke_chem_cti.yaml') #Burke Mech is saved in a subfolder"
   ]
  },
  {
   "cell_type": "markdown",
   "metadata": {},
   "source": [
    "Now we set the Flame Characteristics, then solve the flame"
   ]
  },
  {
   "cell_type": "code",
   "execution_count": 3,
   "metadata": {},
   "outputs": [],
   "source": [
    "fuel = 'H2:1'\n",
    "oxidizer = 'O2:0.21,N2:0.79'\n",
    "gas1.set_equivalence_ratio(1.4, fuel, oxidizer) #Composition\n",
    "gas1.TP = 300, 101325 # Room Temperature, 1 atm\n",
    "\n",
    "flame1 = ct.FreeFlame(gas1, width=0.03)\n",
    "flame1.set_refine_criteria(ratio=3, slope=0.06, curve=0.11)\n",
    "loglevel = 1 # amount of diagnostic output\n",
    "#flame.show()"
   ]
  },
  {
   "cell_type": "code",
   "execution_count": null,
   "metadata": {},
   "outputs": [],
   "source": [
    "# Solve with mixture averaged transort model \n",
    "flame1.transport_model='mixture-averaged'\n",
    "\n",
    "flame1.solve(loglevel=loglevel, auto=True)\n",
    "Su0 = flame1.velocity[0]\n",
    "print(f\"Mixture-averaged flamespeed is: {Su0 :.2f} m/s\")\n",
    "output= \"adiabatic_flame.yaml\"\n",
    "#flame.save(output,description='mixture-averaged')\n"
   ]
  },
  {
   "cell_type": "markdown",
   "metadata": {},
   "source": [
    "Works well, now to compare different thermo models!"
   ]
  },
  {
   "cell_type": "code",
   "execution_count": 5,
   "metadata": {},
   "outputs": [
    {
     "name": "stdout",
     "output_type": "stream",
     "text": [
      "[1.   1.05 1.1  1.15 1.2  1.25 1.3  1.35 1.4  1.45 1.5  1.55 1.6  1.65\n",
      " 1.7  1.75 1.8  1.85 1.9  1.95 2.   2.05 2.1 ]\n"
     ]
    }
   ],
   "source": [
    "phi = np.linspace(1.0,2.1, 23)\n",
    "print (phi)\n",
    "\n",
    "fuel = 'H2:1'\n",
    "oxidizer = 'O2:0.21,N2:0.79'\n",
    "loglevel = 0 # amount of diagnostic output"
   ]
  },
  {
   "cell_type": "code",
   "execution_count": 6,
   "metadata": {},
   "outputs": [
    {
     "name": "stdout",
     "output_type": "stream",
     "text": [
      "Mixture-averaged flamespeed is: 41.69 cm/s @phi 1.0\n",
      "Mixture-averaged flamespeed is: 49.12 cm/s @phi 1.05\n",
      "Mixture-averaged flamespeed is: 56.78 cm/s @phi 1.1\n",
      "Mixture-averaged flamespeed is: 63.36 cm/s @phi 1.15\n",
      "Mixture-averaged flamespeed is: 68.69 cm/s @phi 1.2\n",
      "Mixture-averaged flamespeed is: 72.72 cm/s @phi 1.25\n",
      "Mixture-averaged flamespeed is: 75.82 cm/s @phi 1.3\n",
      "Mixture-averaged flamespeed is: 77.90 cm/s @phi 1.35\n",
      "Mixture-averaged flamespeed is: 79.01 cm/s @phi 1.4\n",
      "Mixture-averaged flamespeed is: 79.64 cm/s @phi 1.45\n",
      "Mixture-averaged flamespeed is: 79.74 cm/s @phi 1.5\n",
      "Mixture-averaged flamespeed is: 79.45 cm/s @phi 1.55\n",
      "Mixture-averaged flamespeed is: 78.68 cm/s @phi 1.6\n",
      "Mixture-averaged flamespeed is: 78.37 cm/s @phi 1.65\n",
      "Mixture-averaged flamespeed is: 77.05 cm/s @phi 1.7000000000000002\n",
      "Mixture-averaged flamespeed is: 75.57 cm/s @phi 1.75\n",
      "Mixture-averaged flamespeed is: 73.91 cm/s @phi 1.8\n",
      "Mixture-averaged flamespeed is: 71.95 cm/s @phi 1.85\n",
      "Mixture-averaged flamespeed is: 69.96 cm/s @phi 1.9\n",
      "Mixture-averaged flamespeed is: 67.83 cm/s @phi 1.9500000000000002\n",
      "Mixture-averaged flamespeed is: 65.48 cm/s @phi 2.0\n",
      "Mixture-averaged flamespeed is: 63.23 cm/s @phi 2.05\n",
      "Mixture-averaged flamespeed is: 60.99 cm/s @phi 2.1\n"
     ]
    }
   ],
   "source": [
    "gas_ideal = ct.Solution('Burke Mech/Burke_chem_cti.yaml')\n",
    "Su_ideal = []\n",
    "\n",
    "#Ideal Case\n",
    "for i in phi:\n",
    "    gas_ideal.TP = 300, 10132500 # Room Temperature, 100 atm\n",
    "    gas_ideal.set_equivalence_ratio(i, fuel, oxidizer)\n",
    "    flameA = ct.FreeFlame(gas_ideal, width=0.03)\n",
    "    flameA.set_refine_criteria(ratio=3, slope=0.06, curve=0.11)\n",
    "    flameA.transport_model='mixture-averaged'\n",
    "    flameA.solve(loglevel=loglevel, auto=True)\n",
    "    Su0 = flameA.velocity[0]*100\n",
    "    print(f\"Mixture-averaged flamespeed is: {Su0 :.2f} cm/s @phi {i}\")\n",
    "    Su_ideal.append (Su0)"
   ]
  },
  {
   "cell_type": "code",
   "execution_count": 7,
   "metadata": {},
   "outputs": [
    {
     "name": "stdout",
     "output_type": "stream",
     "text": [
      "Mixture-averaged flamespeed is: 43.27 cm/s @phi 1.0\n",
      "Mixture-averaged flamespeed is: 50.72 cm/s @phi 1.05\n",
      "Mixture-averaged flamespeed is: 58.28 cm/s @phi 1.1\n",
      "Mixture-averaged flamespeed is: 64.66 cm/s @phi 1.15\n",
      "Mixture-averaged flamespeed is: 69.79 cm/s @phi 1.2\n",
      "Mixture-averaged flamespeed is: 73.67 cm/s @phi 1.25\n",
      "Mixture-averaged flamespeed is: 76.59 cm/s @phi 1.3\n",
      "Mixture-averaged flamespeed is: 78.53 cm/s @phi 1.35\n",
      "Mixture-averaged flamespeed is: 79.54 cm/s @phi 1.4\n",
      "Mixture-averaged flamespeed is: 80.10 cm/s @phi 1.45\n",
      "Mixture-averaged flamespeed is: 80.13 cm/s @phi 1.5\n",
      "Mixture-averaged flamespeed is: 79.78 cm/s @phi 1.55\n",
      "Mixture-averaged flamespeed is: 78.97 cm/s @phi 1.6\n",
      "Mixture-averaged flamespeed is: 78.01 cm/s @phi 1.65\n",
      "Mixture-averaged flamespeed is: 77.31 cm/s @phi 1.7000000000000002\n",
      "Mixture-averaged flamespeed is: 75.81 cm/s @phi 1.75\n",
      "Mixture-averaged flamespeed is: 74.14 cm/s @phi 1.8\n",
      "Mixture-averaged flamespeed is: 72.23 cm/s @phi 1.85\n",
      "Mixture-averaged flamespeed is: 70.25 cm/s @phi 1.9\n",
      "Mixture-averaged flamespeed is: 68.14 cm/s @phi 1.9500000000000002\n",
      "Mixture-averaged flamespeed is: 65.81 cm/s @phi 2.0\n",
      "Mixture-averaged flamespeed is: 63.57 cm/s @phi 2.05\n",
      "Mixture-averaged flamespeed is: 61.34 cm/s @phi 2.1\n"
     ]
    }
   ],
   "source": [
    "gas_RK = ct.Solution('Burke Mech/Burke_chem_cti.yaml')\n",
    "Su_RK = []\n",
    "\n",
    "#R-K Case\n",
    "for i in phi:\n",
    "    gas_RK.TP = 300, 10132500 # Room Temperature, 100 atm\n",
    "    gas_RK.set_equivalence_ratio(i, fuel, oxidizer)\n",
    "    flameB = ct.FreeFlame(gas_RK, width=0.03)\n",
    "    flameB.set_refine_criteria(ratio=3, slope=0.06, curve=0.11)\n",
    "    flameB.transport_model = 'multicomponent'\n",
    "    flameB.solve(loglevel=loglevel, auto=True)\n",
    "    Su0 = flameB.velocity[0]*100\n",
    "    print(f\"Mixture-averaged flamespeed is: {Su0 :.2f} cm/s @phi {i}\")\n",
    "    Su_RK.append (Su0)"
   ]
  },
  {
   "cell_type": "code",
   "execution_count": null,
   "metadata": {},
   "outputs": [],
   "source": [
    "Su_diff = []\n",
    "\n",
    "print (Su_RK)\n",
    "print (Su_ideal)\n",
    "\n",
    "for a, b in zip(Su_RK, Su_ideal):\n",
    "    Su_diff.append(a - b)\n",
    "print (Su_diff)"
   ]
  },
  {
   "cell_type": "code",
   "execution_count": 9,
   "metadata": {},
   "outputs": [
    {
     "name": "stdout",
     "output_type": "stream",
     "text": [
      "Mixture-averaged flamespeed is: 41.67 cm/s @phi 1.0\n",
      "Mixture-averaged flamespeed is: 48.22 cm/s @phi 1.05\n",
      "Mixture-averaged flamespeed is: 55.22 cm/s @phi 1.1\n",
      "Mixture-averaged flamespeed is: 62.04 cm/s @phi 1.15\n",
      "Mixture-averaged flamespeed is: 66.43 cm/s @phi 1.2\n",
      "Mixture-averaged flamespeed is: 70.01 cm/s @phi 1.25\n",
      "Mixture-averaged flamespeed is: 72.73 cm/s @phi 1.3\n",
      "Mixture-averaged flamespeed is: 74.57 cm/s @phi 1.35\n",
      "Mixture-averaged flamespeed is: 75.75 cm/s @phi 1.4\n",
      "Mixture-averaged flamespeed is: 76.32 cm/s @phi 1.45\n",
      "Mixture-averaged flamespeed is: 76.42 cm/s @phi 1.5\n",
      "Mixture-averaged flamespeed is: 76.24 cm/s @phi 1.55\n",
      "Mixture-averaged flamespeed is: 75.54 cm/s @phi 1.6\n",
      "Mixture-averaged flamespeed is: 74.70 cm/s @phi 1.65\n",
      "Mixture-averaged flamespeed is: 73.51 cm/s @phi 1.7000000000000002\n",
      "Mixture-averaged flamespeed is: 72.07 cm/s @phi 1.75\n",
      "Mixture-averaged flamespeed is: 70.24 cm/s @phi 1.8\n",
      "Mixture-averaged flamespeed is: 68.61 cm/s @phi 1.85\n",
      "Mixture-averaged flamespeed is: 66.81 cm/s @phi 1.9\n",
      "Mixture-averaged flamespeed is: 65.01 cm/s @phi 1.9500000000000002\n",
      "Mixture-averaged flamespeed is: 62.93 cm/s @phi 2.0\n",
      "Mixture-averaged flamespeed is: 61.20 cm/s @phi 2.05\n",
      "Mixture-averaged flamespeed is: 58.98 cm/s @phi 2.1\n"
     ]
    }
   ],
   "source": [
    "gas_RK2 = ct.Solution('Burke Mech/Burke_chem_cti.yaml')\n",
    "Su_RK2 = []\n",
    "\n",
    "#R-K Case\n",
    "for i in phi:\n",
    "    gas_RK2.TP = 300, 10132500 # Room Temperature, 100 atm\n",
    "    gas_RK2.set_equivalence_ratio(i, fuel, oxidizer)\n",
    "    flameB = ct.FreeFlame(gas_RK2, width=0.03)\n",
    "    flameB.set_refine_criteria(ratio=3, slope=0.06, curve=0.11)\n",
    "    flameB.transport_model = 'multicomponent'\n",
    "    flameB.soret_enabled = True\n",
    "    flameB.solve(loglevel=loglevel, auto=True)\n",
    "    Su0 = flameB.velocity[0]*100\n",
    "    print(f\"Mixture-averaged flamespeed is: {Su0 :.2f} cm/s @phi {i}\")\n",
    "    Su_RK2.append (Su0)"
   ]
  },
  {
   "cell_type": "code",
   "execution_count": 19,
   "metadata": {},
   "outputs": [
    {
     "name": "stdout",
     "output_type": "stream",
     "text": [
      "Mixture-averaged flamespeed is: 26.63 cm/s @phi 1.0\n",
      "Mixture-averaged flamespeed is: 31.39 cm/s @phi 1.05\n",
      "Mixture-averaged flamespeed is: 37.39 cm/s @phi 1.1\n",
      "Mixture-averaged flamespeed is: 42.11 cm/s @phi 1.15\n",
      "Mixture-averaged flamespeed is: 45.71 cm/s @phi 1.2\n",
      "Mixture-averaged flamespeed is: 48.54 cm/s @phi 1.25\n",
      "Mixture-averaged flamespeed is: 50.59 cm/s @phi 1.3\n",
      "Mixture-averaged flamespeed is: 52.02 cm/s @phi 1.35\n",
      "Mixture-averaged flamespeed is: 52.98 cm/s @phi 1.4\n",
      "Mixture-averaged flamespeed is: 53.41 cm/s @phi 1.45\n",
      "Mixture-averaged flamespeed is: 53.47 cm/s @phi 1.5\n",
      "Mixture-averaged flamespeed is: 53.18 cm/s @phi 1.55\n",
      "Mixture-averaged flamespeed is: 52.68 cm/s @phi 1.6\n",
      "Mixture-averaged flamespeed is: 51.96 cm/s @phi 1.65\n",
      "Mixture-averaged flamespeed is: 51.10 cm/s @phi 1.7000000000000002\n",
      "Mixture-averaged flamespeed is: 50.07 cm/s @phi 1.75\n",
      "Mixture-averaged flamespeed is: 48.89 cm/s @phi 1.8\n",
      "Mixture-averaged flamespeed is: 47.54 cm/s @phi 1.85\n",
      "Mixture-averaged flamespeed is: 46.25 cm/s @phi 1.9\n",
      "Mixture-averaged flamespeed is: 45.17 cm/s @phi 1.9500000000000002\n",
      "Mixture-averaged flamespeed is: 43.55 cm/s @phi 2.0\n",
      "Mixture-averaged flamespeed is: 42.38 cm/s @phi 2.05\n",
      "Mixture-averaged flamespeed is: 41.02 cm/s @phi 2.1\n"
     ]
    }
   ],
   "source": [
    "gas_RK3 = ct.Solution('h2o2.yaml', thermo='ideal-gas')\n",
    "Su_RK3 = []\n",
    "#R-K Case\n",
    "for i in phi:\n",
    "    gas_RK3.TP = 300, 10132500 # Room Temperature, 100 atm\n",
    "    gas_RK3.set_equivalence_ratio(i, fuel, oxidizer)\n",
    "    flameB = ct.FreeFlame(gas_RK3, width=0.03)\n",
    "    flameB.set_refine_criteria(ratio=3, slope=0.06, curve=0.11)\n",
    "    flameB.transport_model = 'mixture-averaged'\n",
    "    flameB.solve(loglevel=loglevel, auto=True)\n",
    "    Su0 = flameB.velocity[0]*100\n",
    "    print(f\"Mixture-averaged flamespeed is: {Su0 :.2f} cm/s @phi {i}\")\n",
    "    Su_RK3.append (Su0)"
   ]
  },
  {
   "cell_type": "code",
   "execution_count": 22,
   "metadata": {},
   "outputs": [
    {
     "name": "stdout",
     "output_type": "stream",
     "text": [
      "Mixture-averaged flamespeed is: 26.63 cm/s @phi 1.0\n",
      "Mixture-averaged flamespeed is: 31.39 cm/s @phi 1.05\n",
      "Mixture-averaged flamespeed is: 37.39 cm/s @phi 1.1\n",
      "Mixture-averaged flamespeed is: 42.11 cm/s @phi 1.15\n",
      "Mixture-averaged flamespeed is: 45.71 cm/s @phi 1.2\n",
      "Mixture-averaged flamespeed is: 48.54 cm/s @phi 1.25\n",
      "Mixture-averaged flamespeed is: 50.59 cm/s @phi 1.3\n",
      "Mixture-averaged flamespeed is: 52.02 cm/s @phi 1.35\n",
      "Mixture-averaged flamespeed is: 52.98 cm/s @phi 1.4\n",
      "Mixture-averaged flamespeed is: 53.41 cm/s @phi 1.45\n",
      "Mixture-averaged flamespeed is: 53.47 cm/s @phi 1.5\n",
      "Mixture-averaged flamespeed is: 53.18 cm/s @phi 1.55\n",
      "Mixture-averaged flamespeed is: 52.68 cm/s @phi 1.6\n",
      "Mixture-averaged flamespeed is: 51.96 cm/s @phi 1.65\n",
      "Mixture-averaged flamespeed is: 51.10 cm/s @phi 1.7000000000000002\n",
      "Mixture-averaged flamespeed is: 50.07 cm/s @phi 1.75\n",
      "Mixture-averaged flamespeed is: 48.89 cm/s @phi 1.8\n",
      "Mixture-averaged flamespeed is: 47.54 cm/s @phi 1.85\n",
      "Mixture-averaged flamespeed is: 46.25 cm/s @phi 1.9\n",
      "Mixture-averaged flamespeed is: 45.17 cm/s @phi 1.9500000000000002\n",
      "Mixture-averaged flamespeed is: 43.55 cm/s @phi 2.0\n",
      "Mixture-averaged flamespeed is: 42.38 cm/s @phi 2.05\n",
      "Mixture-averaged flamespeed is: 41.02 cm/s @phi 2.1\n"
     ]
    }
   ],
   "source": [
    "gas_RK4 = ct.Solution('h2o2.yaml', thermo='Redlich-Kwong')\n",
    "Su_RK4 = []\n",
    "\n",
    "#R-K Case\n",
    "for i in phi:\n",
    "    gas_RK4.TP = 300, 10132500 # Room Temperature, 100 atm\n",
    "    gas_RK4.set_equivalence_ratio(i, fuel, oxidizer)\n",
    "    flameB = ct.FreeFlame(gas_RK4, width=0.03)\n",
    "    flameB.set_refine_criteria(ratio=3, slope=0.02, curve=0.10)\n",
    "    flameB.transport_model = 'mixture-averaged'\n",
    "    flameB.solve(loglevel=loglevel, auto=True)\n",
    "    Su0 = flameB.velocity[0]*100\n",
    "    print(f\"Mixture-averaged flamespeed is: {Su0 :.2f} cm/s @phi {i}\")\n",
    "    Su_RK4.append (Su0)"
   ]
  },
  {
   "cell_type": "markdown",
   "metadata": {},
   "source": [
    "The Difference between ideal-gas and r-k Thermo is 0.\n",
    "The Burke mechanism does not contain EOS variability!"
   ]
  },
  {
   "cell_type": "code",
   "execution_count": 28,
   "metadata": {},
   "outputs": [],
   "source": [
    "import pandas as pd\n",
    "\n",
    "Law_SRK = pd.read_csv('Extracted Plots/Law_Fig3_Case2.csv')\n",
    "Law_SRK.head()\n",
    "Law_Ideal = pd.read_csv('Extracted Plots/Law_Fig3_Case1.csv')"
   ]
  },
  {
   "cell_type": "code",
   "execution_count": 32,
   "metadata": {},
   "outputs": [
    {
     "data": {
      "image/png": "[encoded data removed]",
      "text/plain": [
       "<Figure size 640x480 with 1 Axes>"
      ]
     },
     "metadata": {},
     "output_type": "display_data"
    }
   ],
   "source": [
    "fig, ax1 = plt.subplots()\n",
    "ax1.plot(phi,Su_RK, label='$BurkeMech, Multicomponent$')\n",
    "ax1.plot(phi,Su_RK2, label='$BurkeMech, Multicomponent+Soret$')\n",
    "#ax1.plot(phi,Su_RK3, label='$H2O2mech, Idealgas$')\n",
    "#ax1.plot(phi,Su_RK4, label='$H2O2mech, RedlichKwong$')\n",
    "#ax1.plot(phi,Su_ideal, label='$BurkeMech, Mixture Average$')\n",
    "ax1.plot(Law_SRK['phi'], Law_SRK['v'], 'b--', label='$Law Reference SRK$')\n",
    "ax1.plot(Law_Ideal['phi'], Law_Ideal['v'], 'r--', label='$Law Reference Ideal$')\n",
    "ax1.set_xlabel('Equivalence Ratio')\n",
    "ax1.set_ylabel('Laminar Flame Speed (m/s)')\n",
    "ax1.set_xlim(1.0, 2.1)\n",
    "ax1.set_ylim(20, 82)\n",
    "ax1.set_yticks([20, 30, 40 ,50, 60, 70, 80])\n",
    "ax1.minorticks_on()\n",
    "plt.legend()\n",
    "plt.show()"
   ]
  },
  {
   "cell_type": "markdown",
   "metadata": {},
   "source": [
    "There are clear differences compared to Law et als case.\n",
    "This is not good"
   ]
  },
  {
   "cell_type": "markdown",
   "metadata": {},
   "source": [
    "Using the full gri30 mech for the ideal case takes very long, so we prepare a reduced mech"
   ]
  },
  {
   "cell_type": "code",
   "execution_count": 59,
   "metadata": {},
   "outputs": [
    {
     "name": "stdout",
     "output_type": "stream",
     "text": [
      "Reduced mechanism contains 12 species and 34 reactions.\n"
     ]
    }
   ],
   "source": [
    "gas_GRI = ct.Solution('gri30.yaml',thermo='ideal-gas')\n",
    "\n",
    "# all species from Burke mech, minus Helium (not present in GRI):\n",
    "species_names = ['H', 'H2', 'O', 'OH', 'H2O', 'O2', 'HO2', 'H2O2', 'N2', 'AR', 'CO', 'CO2'] \n",
    "species_list = [gas_GRI.species(name) for name in species_names]\n",
    "\n",
    "# Create a new list of reactions that involve only the species of interest\n",
    "reactions_to_keep = []\n",
    "for i in gas_GRI.reactions():\n",
    "    reactants = set(i.reactants.keys())  # Set of reactant species names\n",
    "    products = set(i.products.keys())  # Set of product species names\n",
    "    # Check if the reaction involves only species of interest\n",
    "    if reactants.issubset(species_names) and products.issubset(species_names):\n",
    "        reactions_to_keep.append(i)\n",
    "\n",
    "# create the new reduced mechanism\n",
    "gas_ideal = ct.Solution(thermo='ideal-gas', kinetics='gas', species=species_list, reactions=reactions_to_keep, transport_model='mixture-averaged')\n",
    "\n",
    "# Output the reduced mechanism\n",
    "print(f\"Reduced mechanism contains {len(gas_ideal.species())} species and {len(gas_ideal.reactions())} reactions.\")"
   ]
  }
 ],
 "metadata": {
  "kernelspec": {
   "display_name": "Python 3 (ipykernel)",
   "language": "python",
   "name": "python3"
  },
  "language_info": {
   "codemirror_mode": {
    "name": "ipython",
    "version": 3
   },
   "file_extension": ".py",
   "mimetype": "text/x-python",
   "name": "python",
   "nbconvert_exporter": "python",
   "pygments_lexer": "ipython3",
   "version": "3.13.1"
  }
 },
 "nbformat": 4,
 "nbformat_minor": 4
}
