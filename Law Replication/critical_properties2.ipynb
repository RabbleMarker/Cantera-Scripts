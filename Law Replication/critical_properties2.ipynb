{
 "cells": [
  {
   "cell_type": "markdown",
   "metadata": {},
   "source": [
    "\n",
    "# Critical state properties\n",
    "\n",
    "Print the critical state properties for the fluids for which Cantera has\n",
    "built-in liquid/vapor equations of state.\n",
    "\n",
    ".. tags:: Python, thermodynamics, multiphase, non-ideal fluid\n"
   ]
  },
  {
   "cell_type": "code",
   "execution_count": null,
   "metadata": {
    "collapsed": false,
    "jupyter": {
     "outputs_hidden": false
    }
   },
   "outputs": [],
   "source": [
    "import cantera as ct\n",
    "import matplotlib.pyplot as plt"
   ]
  },
  {
   "cell_type": "markdown",
   "metadata": {},
   "source": [
    "Create `PureFluid` objects:\n",
    "\n"
   ]
  },
  {
   "cell_type": "code",
   "execution_count": null,
   "metadata": {
    "collapsed": false,
    "jupyter": {
     "outputs_hidden": false
    }
   },
   "outputs": [],
   "source": [
    "fluids = {'water': ct.Water(),\n",
    "          'nitrogen': ct.Nitrogen(),\n",
    "          'methane': ct.Methane(),\n",
    "          'hydrogen': ct.Hydrogen(),\n",
    "          'oxygen': ct.Oxygen(),\n",
    "          'carbon dioxide': ct.CarbonDioxide(),\n",
    "          'heptane': ct.Heptane(),\n",
    "          'HFC-134a': ct.Hfc134a()\n",
    "          }"
   ]
  },
  {
   "cell_type": "markdown",
   "metadata": {},
   "source": [
    "Plot critical properties and print tabulated values:\n",
    "\n"
   ]
  },
  {
   "cell_type": "code",
   "execution_count": null,
   "metadata": {
    "collapsed": false,
    "jupyter": {
     "outputs_hidden": false
    }
   },
   "outputs": [],
   "source": [
    "fig, ax = plt.subplots()\n",
    "\n",
    "print('Critical State Properties')\n",
    "print(f\"{'Fluid':^16s}   {'Tc [K]':^7s}   {'Pc [Pa]':^10s}   {'Zc':^7s}\")\n",
    "print(f\"{'-'*16}   {'-'*7}   {'-'*10}   {'-'*7}\")\n",
    "for name in fluids:\n",
    "    f = fluids[name]\n",
    "    tc = f.critical_temperature\n",
    "    pc = f.critical_pressure\n",
    "    rc = f.critical_density\n",
    "    mw = f.mean_molecular_weight\n",
    "    zc = pc * mw / (rc * ct.gas_constant * tc)\n",
    "    ax.plot(tc, pc, 'o')\n",
    "    ax.annotate(name, (tc, pc), (4, 2), textcoords='offset points', size=9)\n",
    "    print(f'{name:16s}   {tc:7.2f}   {pc:10.4g}   {zc:7.4f}')\n",
    "\n",
    "ax.set(xlabel='Critical Temperature [K]', ylabel='Critical Pressure [Pa]')\n",
    "ax.set(xlim=(0, 750))\n",
    "ax.grid(True)\n",
    "plt.show()"
   ]
  }
 ],
 "metadata": {
  "kernelspec": {
   "display_name": "Python 3 (ipykernel)",
   "language": "python",
   "name": "python3"
  },
  "language_info": {
   "codemirror_mode": {
    "name": "ipython",
    "version": 3
   },
   "file_extension": ".py",
   "mimetype": "text/x-python",
   "name": "python",
   "nbconvert_exporter": "python",
   "pygments_lexer": "ipython3",
   "version": "3.13.1"
  }
 },
 "nbformat": 4,
 "nbformat_minor": 4
}
