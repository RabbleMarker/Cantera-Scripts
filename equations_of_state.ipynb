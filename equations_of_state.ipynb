{
  "cells": [
    {
      "cell_type": "markdown",
      "metadata": {},
      "source": [
        "\n# Non-ideal equations of state\n\nThis example demonstrates a comparison between ideal and non-ideal equations of\nstate (EoS) using Cantera and CoolProp.\n\nThe following equations of state are used to evaluate thermodynamic properties\nin this example:\n\n1. Ideal-gas EoS from Cantera\n2. Non-ideal Redlich-Kwong EoS (R-K EoS) from Cantera\n3. Helmholtz energy EoS (HEOS) from CoolProp\n\nRequires: cantera >= 3.0.0, matplotlib >= 2.0, coolprop >= 6.0\n\n.. tags:: Python, thermodynamics, non-ideal fluid\n"
      ]
    },
    {
      "cell_type": "markdown",
      "metadata": {},
      "source": [
        "## Import required packages (Cantera and CoolProp)\n\n[CoolProp](http://coolprop.org)_ [1]_ is an open-source package that contains a\nhighly-accurate database for thermophysical properties. The thermodynamic properties\nare obtained using pure and pseudo-pure fluid equations of state implemented for 122\ncomponents.\n\nIf you are using ``conda`` to manage your software environment, activate your cantera\nenvironment and install CoolProp by running ``conda install -c conda-forge coolprop``.\n\n\n"
      ]
    },
    {
      "cell_type": "code",
      "execution_count": null,
      "metadata": {
        "collapsed": false
      },
      "outputs": [],
      "source": [
        "import cantera as ct\nimport numpy as np\nfrom CoolProp.CoolProp import PropsSI\nimport matplotlib.pyplot as plt\n\nplt.rcParams['figure.constrained_layout.use'] = True\n\nprint(f\"Running Cantera version: {ct.__version__}\")"
      ]
    },
    {
      "cell_type": "markdown",
      "metadata": {},
      "source": [
        "## Helper functions\n\nThis example uses CO\\ $_2$ as the only species. The function\n``get_thermo_Cantera`` calculates thermodynamic properties based on the thermodynamic\nstate ($T$, $p$) of the species using Cantera. Applicable phases are\n``Ideal-gas`` and ``Redlich-Kwong``. The ideal-gas equation can be stated as\n\n\\begin{align}pv = RT,\\end{align}\n\nwhere $p$, $v$ and $T$ represent thermodynamic pressure, molar\nvolume, and the temperature of the gas-phase. $R$ is the universal gas constant.\nThe Redlich-Kwong equation is a cubic, non-ideal equation of state, represented as\n\n\\begin{align}p=\\frac{RT}{v-b^\\ast}-\\frac{a^\\ast}{v\\sqrt{T}(v+b^\\ast)}.\\end{align}\n\nIn this expression, $R$ is the universal gas constant and $v$ is the molar\nvolume. The temperature-dependent van der Waals attraction parameter $a^\\ast$\nand volume correction parameter (repulsive parameter) $b^\\ast$ represent\nmolecular interactions.\n\nThe function ``get_thermo_CoolProp`` utilizes the CoolProp package to evaluate\nthermodynamic properties based on the thermodynamic state ($T$, $p$) for a\ngiven fluid. The HEOS for CO\\ $_2$ used in this example is obtained from\nhttp://www.coolprop.org/fluid_properties/fluids/CarbonDioxide.html.\n\nSince the standard-reference thermodynamic states are different for Cantera and\nCoolProp, it is necessary to convert these values to an appropriate scale before\ncomparison. Therefore, both functions ``get_thermo_Cantera`` and\n``get_thermo_CoolProp`` return the thermodynamic values relative to a reference state\nat 1 bar, 300 K.\n\nTo plot the comparison of thermodynamic properties among the three EoS, the ``plot``\nfunction is used.\n\n"
      ]
    },
    {
      "cell_type": "code",
      "execution_count": null,
      "metadata": {
        "collapsed": false
      },
      "outputs": [],
      "source": [
        "def get_thermo_Cantera(phase, T, p):\n    states = ct.SolutionArray(phase, len(p))\n    X = \"CO2:1.0\"\n    states.TPX = T, p, X\n\n    u = states.u / 1000\n    h = states.h / 1000\n    s = states.s / 1000\n    cp = states.cp / 1000\n    cv = states.cv / 1000\n\n    # Get the relative enthalpy, entropy and int. energy with reference to the first\n    # point\n    u = u - u[0]\n    s = s - s[0]\n    h = h - h[0]\n\n    return h, u, s, cp, cv\n\n\ndef get_thermo_CoolProp(T, p):\n    u = np.zeros_like(p)\n    h = np.zeros_like(p)\n    s = np.zeros_like(p)\n    cp = np.zeros_like(p)\n    cv = np.zeros_like(p)\n\n    for i in range(p.shape[0]):\n        u[i] = PropsSI(\"U\", \"P\", p[i], \"T\", T, \"CO2\")\n        h[i] = PropsSI(\"H\", \"P\", p[i], \"T\", T, \"CO2\")\n        s[i] = PropsSI(\"S\", \"P\", p[i], \"T\", T, \"CO2\")\n        cp[i] = PropsSI(\"C\", \"P\", p[i], \"T\", T, \"CO2\")\n        cv[i] = PropsSI(\"O\", \"P\", p[i], \"T\", T, \"CO2\")\n\n    # Get the relative enthalpy, entropy and int. energy with reference to the first\n    # point\n    u = (u - u[0]) / 1000\n    s = (s - s[0]) / 1000\n    h = (h - h[0]) / 1000\n    cp = cp / 1000\n    cv = cv / 1000\n\n    return h, u, s, cp, cv\n\n\ndef plot(p, thermo_Ideal, thermo_RK, thermo_CoolProp, name):\n    line_width = 3\n\n    fig, ax = plt.subplots()\n    ax.plot(\n        p / 1e5, thermo_Ideal, \"-\", color=\"b\", linewidth=line_width, label=\"Ideal EoS\"\n    )\n    ax.plot(p / 1e5, thermo_RK, \"-\", color=\"r\", linewidth=line_width, label=\"R-K EoS\")\n    ax.plot(\n        p / 1e5, thermo_CoolProp, \"-\", color=\"k\", linewidth=line_width, label=\"CoolProp\"\n    )\n    ax.set_xlabel(\"Pressure [bar]\")\n    ax.set_ylabel(name)\n    ax.legend(prop={\"size\": 14}, frameon=False)"
      ]
    },
    {
      "cell_type": "markdown",
      "metadata": {},
      "source": [
        "## EoS Comparison based on thermodynamic properties\n\nThis is the main subroutine that compares and plots the thermodynamic values obtained\nusing three equations of state.\n\n"
      ]
    },
    {
      "cell_type": "code",
      "execution_count": null,
      "metadata": {
        "collapsed": false
      },
      "outputs": [],
      "source": [
        "# Input parameters\nT = 300  # Temperature is constant [unit: K]\np = 1e5 * np.linspace(1, 100, 1000)  # Pressure is varied from 1 to 100 bar [unit: Pa]\n\n# Read the ideal-gas phase\nideal_gas_phase = ct.Solution(\"example_data/co2-thermo.yaml\", \"CO2-Ideal\")\nh_ideal, u_ideal, s_ideal, cp_ideal, cv_ideal = get_thermo_Cantera(\n    ideal_gas_phase, T, p\n)\n\n# Read the Redlich-Kwong phase\nredlich_kwong_phase = ct.Solution(\"example_data/co2-thermo.yaml\", \"CO2-RK\")\nh_RK, u_RK, s_RK, cp_RK, cv_RK = get_thermo_Cantera(redlich_kwong_phase, T, p)\n\n# Read the thermo data using CoolProp\nh_CoolProp, u_CoolProp, s_CoolProp, cp_CoolProp, cv_CoolProp = get_thermo_CoolProp(T, p)\n\n# Plot the results\nplot(p, u_ideal, u_RK, u_CoolProp, \"Relative Internal Energy [kJ/kg]\")"
      ]
    },
    {
      "cell_type": "code",
      "execution_count": null,
      "metadata": {
        "collapsed": false
      },
      "outputs": [],
      "source": [
        "plot(p, h_ideal, h_RK, h_CoolProp, \"Relative Enthalpy [kJ/kg]\")"
      ]
    },
    {
      "cell_type": "code",
      "execution_count": null,
      "metadata": {
        "collapsed": false
      },
      "outputs": [],
      "source": [
        "plot(p, s_ideal, s_RK, s_CoolProp, \"Relative Entropy [kJ/kg-K]\")"
      ]
    },
    {
      "cell_type": "markdown",
      "metadata": {},
      "source": [
        "The thermodynamic properties such as internal energy, enthalpy, and entropy are\nplotted against the operating pressure at a constant temperature $T = 300$ K.\nThe three equations follow each other closely at low pressures ($P < 10$ bar).\nHowever, the ideal gas EoS departs significantly from the observed behavior of gases\nnear the critical regime ($P_{\\rm {crit}} = 73.77$ bar).\n\nThe ideal gas EoS does not consider inter-molecular interactions and the volume\noccupied by individual gas particles. At low temperatures and high pressures,\ninter-molecular forces become particularly significant due to a reduction in\ninter-molecular distances. Additionally, at high density, the volume of individual\nmolecules becomes significant. Both of these factors contribute to the deviation from\nideal behavior at high pressures. The cubic Redlich-Kwong EoS, on the other hand,\npredicts thermodynamic properties accurately near the critical regime.\n\n"
      ]
    },
    {
      "cell_type": "code",
      "execution_count": null,
      "metadata": {
        "collapsed": false
      },
      "outputs": [],
      "source": [
        "# Specific heat at constant pressure\nplot(p, cp_ideal, cp_RK, cp_CoolProp, \"$C_p$ [kJ/kg-K]\")"
      ]
    },
    {
      "cell_type": "code",
      "execution_count": null,
      "metadata": {
        "collapsed": false
      },
      "outputs": [],
      "source": [
        "# Specific heat at constant volume\nplot(p, cv_ideal, cv_RK, cv_CoolProp, \"$C_v$ [kJ/kg-K]\")"
      ]
    },
    {
      "cell_type": "markdown",
      "metadata": {},
      "source": [
        "In the case of Ideal gas EoS, the specific heats at constant pressure ($C_{\\rm\np}$) and constant volume ($C_{\\rm v}$) are independent of the pressure. Hence,\n$C_{\\rm p}$ and $C_{\\rm v}$ for ideal EoS do not change as the pressure is\nvaried from $1$ bar to $100$ bar in this study.\n\n$C_{\\rm p}$ for the R-K EoS follows the trend closely with the Helmholtz EoS\nfrom CoolProp up to the critical regime. Although $C_{\\rm p}$ shows reasonable\nagreement with the Helmholtz EoS in sub-critical and supercritical regimes, it\ninaccurately predicts a very high value near the critical point. However,\n$C_{\\rm p}$ at the critical point is finite for the real fluid. The sudden rise\nin $C_{\\rm p}$ in the case of the R-K EoS is just a numerical artifact, due to\nthe EoS yielding infinite values in the limiting case, and not a real singularity.\n\n$C_{\\rm v}$, on the other hand, predicts smaller values in the subcritical and\ncritical regime. However, it shows completely incorrect values in the super-critical\nregion, making it invalid at very high pressures. It is well known that the cubic\nequations typically fail to predict accurate constant-volume heat capacity in the\ntranscritical region [2]_. Certain cubic EoS models have been extended to resolve this\ndiscrepancy using crossover models. For further information, see the work of Span [2]_\nand Saeed et al.\u00a0[3]_.\n\n"
      ]
    },
    {
      "cell_type": "markdown",
      "metadata": {},
      "source": [
        "## Temperature-Density plots\n\nThe following function plots the $T$-$\\rho$ diagram over a wide pressure\nand temperature range. The temperature is varied from 250 K to 400 K. The pressure is\nchanged from 1 bar to 600 bar.\n\n"
      ]
    },
    {
      "cell_type": "code",
      "execution_count": null,
      "metadata": {
        "collapsed": false
      },
      "outputs": [],
      "source": [
        "# Input parameters\n# Set up arrays for pressure and temperature\np_array = np.logspace(1, np.log10(600), 10, endpoint=True)\nT_array = np.linspace(250, 401, 20)  # Temperature is varied from 250K to 400K\np_array = 1e5 * np.array(p_array)[:, np.newaxis]\n\n# Calculate densities for Ideal gas and R-K EoS phases\nstates = ct.SolutionArray(ideal_gas_phase, shape=(p_array.size, T_array.size))\nstates.TP = T_array, p_array\ndensity_ideal = states.density_mass\n\nstates = ct.SolutionArray(redlich_kwong_phase, shape=(p_array.size, T_array.size))\nstates.TP = T_array, p_array\ndensity_RK = states.density_mass\n\np, T = np.meshgrid(p_array, T_array)\ndensity_coolprop = PropsSI(\"D\", \"P\", np.ravel(p), \"T\", np.ravel(T), \"CO2\")\ndensity_coolprop = density_coolprop.reshape(p.shape)\n\n# Plot\nimport cycler\ncolor = plt.cm.viridis(np.linspace(0, 1, p_array.size))\nplt.rcParams['axes.prop_cycle'] = cycler.cycler('color', color)\n\nfig, ax = plt.subplots()\nideal_line = ax.plot(density_ideal.T, T_array, \"--\", label=\"Ideal EoS\")\nRK_line = ax.plot(density_RK.T, T_array, \"o\", label=\"R-K EoS\")\nCP_line = ax.plot(density_coolprop, T_array, \"-\", label=\"CoolProp\")\nax.text(-27.5, 320, \"p = 1 bar\", color=color[0], rotation=\"vertical\")\nax.text(430, 318, \"p = 97 bar\", color=color[5], rotation=-12)\nax.text(960, 320, \"p = 600 bar\", color=color[9], rotation=-68)\nax.set_xlabel(\"Density [kg/m$^3$]\")\nax.set_ylabel(\"Temperature [K]\")\nax.legend(handles=[ideal_line[0], RK_line[0], CP_line[0]])"
      ]
    },
    {
      "cell_type": "markdown",
      "metadata": {},
      "source": [
        "The figure compares $T-\\rho$ plots for ideal, R-K, and Helmholtz EoS at\ndifferent operating pressures. All three EoS yield the same plots at low pressures (0\nbar and 10 bar). However, the Ideal gas EoS departs significantly at high pressures\n($P > 10$ bar), where non-ideal effects are prominent. The R-K EoS closely\nmatches the Helmholtz EoS at supercritical pressures ($P \\ge 70$ bar). However,\nit does depart in the liquid-vapor region that exists at $P < P_{\\rm {crit}}$\nand low temperatures ($~T_{\\rm {crit}}$).\n\n.. [1] I.H. Bell, J. Wronski, S. Quoilin, V. Lemort, \"Pure and Pseudo-pure Fluid\n   Thermophysical Property Evaluation and the Open-Source Thermophysical Property\n   Library CoolProp,\" Industrial & Engineering Chemistry Research 53 (2014),\n   https://pubs.acs.org/doi/10.1021/ie4033999\n\n.. [2] R. Span, \"Multiparameter Equations of State - An Accurate Source of\n   Thermodynamic Property Data,\" Springer Berlin Heidelberg (2000),\n   https://dx.doi.org/10.1007/978-3-662-04092-8\n\n.. [3] A. Saeed, S. Ghader, \"Calculation of density, vapor pressure and heat capacity\n   near the critical point by incorporating cubic SRK EoS and crossover translation,\"\n   Fluid Phase Equilibria (2019) 493, https://doi.org/10.1016/j.fluid.2019.03.027\n\n"
      ]
    }
  ],
  "metadata": {
    "kernelspec": {
      "display_name": "Python 3",
      "language": "python",
      "name": "python3"
    },
    "language_info": {
      "codemirror_mode": {
        "name": "ipython",
        "version": 3
      },
      "file_extension": ".py",
      "mimetype": "text/x-python",
      "name": "python",
      "nbconvert_exporter": "python",
      "pygments_lexer": "ipython3",
      "version": "3.11.11"
    }
  },
  "nbformat": 4,
  "nbformat_minor": 0
}